{
 "cells": [
  {
   "cell_type": "markdown",
   "metadata": {},
   "source": [
    "## Load MNIST on Python 3.x"
   ]
  },
  {
   "cell_type": "code",
   "execution_count": 2,
   "metadata": {},
   "outputs": [],
   "source": [
    "import pickle\n",
    "import gzip\n",
    "from sklearn.metrics import confusion_matrix\n",
    "import numpy as np\n",
    "from sklearn.svm import SVC\n",
    "from sklearn.ensemble import RandomForestClassifier\n",
    "from sklearn.datasets import fetch_mldata \n",
    "from sklearn import metrics\n",
    "from collections import Counter\n",
    "import matplotlib.pyplot as plt"
   ]
  },
  {
   "cell_type": "code",
   "execution_count": 3,
   "metadata": {
    "scrolled": false
   },
   "outputs": [
    {
     "name": "stdout",
     "output_type": "stream",
     "text": [
      "2 50000\n",
      "2 10000\n",
      "2 10000\n"
     ]
    }
   ],
   "source": [
    "# Data Processing of MNIST data\n",
    "filename = 'mnist.pkl.gz'\n",
    "f = gzip.open(filename, 'rb')\n",
    "training_data, validation_data, test_data = pickle.load(f, encoding='latin1')\n",
    "f.close()\n",
    "print(len(training_data),len(training_data[0]))\n",
    "print(len(validation_data),len(validation_data[0]))\n",
    "print(len(test_data),len(test_data[0]))"
   ]
  },
  {
   "cell_type": "code",
   "execution_count": 4,
   "metadata": {},
   "outputs": [
    {
     "name": "stdout",
     "output_type": "stream",
     "text": [
      "50000\n",
      "50000\n",
      "(10000, 784)\n"
     ]
    }
   ],
   "source": [
    "# Splitting up of data into training, tetsing and validation data and target\n",
    "MNIST_training_data = training_data[0]\n",
    "MNIST_training_target = training_data[1]\n",
    "MNIST_validation_data = validation_data[0]\n",
    "MNIST_validation_target = validation_data[1]\n",
    "MNIST_test_data = test_data[0]\n",
    "MNIST_test_target = test_data[1]\n",
    "print(len(MNIST_training_data))\n",
    "print(len(MNIST_training_target))\n",
    "print(MNIST_test_data.shape)"
   ]
  },
  {
   "cell_type": "code",
   "execution_count": 5,
   "metadata": {},
   "outputs": [
    {
     "name": "stdout",
     "output_type": "stream",
     "text": [
      " Training Accuracy of MNIST SVC: 0.98474\n"
     ]
    }
   ],
   "source": [
    "# SVM - Model trained with MNIST data\n",
    "classifier1 = SVC(kernel='rbf', C=1, gamma = 0.01)\n",
    "classifier1.fit(MNIST_training_data, MNIST_training_target) \n",
    "predicted_training_target = classifier1.predict(MNIST_training_data)\n",
    "print(\" Training Accuracy of MNIST SVC:\",metrics.accuracy_score(predicted_training_target, MNIST_training_target))\n"
   ]
  },
  {
   "cell_type": "code",
   "execution_count": 6,
   "metadata": {},
   "outputs": [
    {
     "name": "stdout",
     "output_type": "stream",
     "text": [
      "Validation Accuracy of MNIST SVC: 0.9777\n"
     ]
    }
   ],
   "source": [
    "predicted_validation_target = classifier1.predict(MNIST_validation_data)\n",
    "print(\"Validation Accuracy of MNIST SVC:\",metrics.accuracy_score(predicted_validation_target, MNIST_validation_target))"
   ]
  },
  {
   "cell_type": "code",
   "execution_count": 7,
   "metadata": {},
   "outputs": [
    {
     "name": "stdout",
     "output_type": "stream",
     "text": [
      "Testing Accuracy of MNIST SVC: 0.9761\n",
      "[[ 972    0    1    0    0    2    2    1    2    0]\n",
      " [   0 1127    3    1    0    1    1    0    2    0]\n",
      " [   5    1 1008    1    1    0    2    9    5    0]\n",
      " [   0    0    3  986    0    5    0    7    8    1]\n",
      " [   0    0    5    0  959    0    3    0    2   13]\n",
      " [   2    0    0   10    1  867    4    1    5    2]\n",
      " [   6    2    0    0    2    4  942    0    2    0]\n",
      " [   0   10   15    2    2    0    0  989    1    9]\n",
      " [   3    0    2    8    4    2    2    3  949    1]\n",
      " [   5    5    2    7   13    1    0    8    6  962]]\n"
     ]
    },
    {
     "data": {
      "text/plain": [
       "<matplotlib.colorbar.Colorbar at 0x1d8aa79f7b8>"
      ]
     },
     "execution_count": 7,
     "metadata": {},
     "output_type": "execute_result"
    },
    {
     "data": {
      "image/png": "[encoded data removed]",
      "text/plain": [
       "<Figure size 288x288 with 2 Axes>"
      ]
     },
     "metadata": {},
     "output_type": "display_data"
    }
   ],
   "source": [
    "# SVM model tested with MNIST data\n",
    "predicted_test_target = classifier1.predict(MNIST_test_data)\n",
    "print(\"Testing Accuracy of MNIST SVC:\",metrics.accuracy_score(predicted_test_target, MNIST_test_target))\n",
    "# Confusion matrix is obtained using library and it is also plotted\n",
    "m = confusion_matrix(MNIST_test_target, predicted_test_target)\n",
    "print(m)\n",
    "plt.matshow(m)\n",
    "plt.colorbar()"
   ]
  },
  {
   "cell_type": "code",
   "execution_count": 8,
   "metadata": {},
   "outputs": [
    {
     "name": "stdout",
     "output_type": "stream",
     "text": [
      "Training Accuracy of MNIST Random Forest: 0.98474\n",
      "Validation Accuracy of MNIST Random Forest: 0.953\n",
      "Testing Accuracy of MNIST Random Forest: 0.943\n"
     ]
    }
   ],
   "source": [
    "# Random Forest Classifier - trained with MNIST training data\n",
    "classifierRFC = RandomForestClassifier(n_estimators=10, criterion =\"entropy\") \n",
    "classifierRFC.fit(MNIST_training_data, MNIST_training_target) \n",
    "predicted_training_target_RFC = classifier1.predict(MNIST_training_data)\n",
    "print(\"Training Accuracy of MNIST Random Forest:\",metrics.accuracy_score(predicted_training_target_RFC, MNIST_training_target))\n",
    "\n",
    "\n",
    "predicted_validation_target_RFC = classifierRFC.predict(MNIST_validation_data)\n",
    "print(\"Validation Accuracy of MNIST Random Forest:\",metrics.accuracy_score(predicted_validation_target_RFC, MNIST_validation_target))\n",
    "\n",
    " \n",
    "predicted_testing_target_RFC = classifierRFC.predict(MNIST_test_data)\n",
    "print(\"Testing Accuracy of MNIST Random Forest:\",metrics.accuracy_score(predicted_testing_target_RFC, MNIST_test_target))"
   ]
  },
  {
   "cell_type": "code",
   "execution_count": 9,
   "metadata": {},
   "outputs": [
    {
     "name": "stdout",
     "output_type": "stream",
     "text": [
      "<class 'numpy.ndarray'>\n",
      "(10000,)\n",
      "[[ 968    0    0    2    0    2    4    2    2    0]\n",
      " [   0 1119    2    6    0    2    3    0    2    1]\n",
      " [  14    0  984    7    2    1    7    8    6    3]\n",
      " [   3    1   22  935    1   23    0   11   10    4]\n",
      " [   3    4    5    1  924    2    5    2    8   28]\n",
      " [   8    5    4   35    4  812   10    3    5    6]\n",
      " [   6    4    7    0   10    4  923    0    1    3]\n",
      " [   1    5   25   10    6    1    0  969    5    6]\n",
      " [   7    1   19   20    7   14    7    5  883   11]\n",
      " [   9    8    5   17   27    9    1   12    8  913]]\n"
     ]
    },
    {
     "data": {
      "text/plain": [
       "<matplotlib.colorbar.Colorbar at 0x1d8b7a7cac8>"
      ]
     },
     "execution_count": 9,
     "metadata": {},
     "output_type": "execute_result"
    },
    {
     "data": {
      "image/png": "[encoded data removed]",
      "text/plain": [
       "<Figure size 288x288 with 2 Axes>"
      ]
     },
     "metadata": {},
     "output_type": "display_data"
    }
   ],
   "source": [
    "# COnfusion Matrix of MNIST data using Random Forest Classifier \n",
    "print(type(MNIST_test_target))\n",
    "print(predicted_testing_target_RFC.shape)\n",
    "m = confusion_matrix(MNIST_test_target,predicted_testing_target_RFC)\n",
    "print(m)\n",
    "plt.matshow(m)\n",
    "plt.colorbar()"
   ]
  },
  {
   "cell_type": "code",
   "execution_count": 10,
   "metadata": {},
   "outputs": [
    {
     "name": "stderr",
     "output_type": "stream",
     "text": [
      "C:\\Users\\tceve\\Anaconda3\\lib\\site-packages\\h5py\\__init__.py:36: FutureWarning: Conversion of the second argument of issubdtype from `float` to `np.floating` is deprecated. In future, it will be treated as `np.float64 == np.dtype(float).type`.\n",
      "  from ._conv import register_converters as _register_converters\n",
      "Using TensorFlow backend.\n"
     ]
    }
   ],
   "source": [
    "# Neural Network Function - Will be called by both MNIST and USPS Data later on\n",
    "import keras\n",
    "from keras.datasets import mnist \n",
    "from keras.layers import Dense\n",
    "from keras.models import Sequential  \n",
    "\n",
    "def NeuralNetwork(MNIST_training_data,MNIST_test_data,MNIST_training_target,MNIST_test_target) : \n",
    "    num_classes=10\n",
    "    image_vector_size=28*28\n",
    "    x_train = MNIST_training_data.reshape(MNIST_training_data.shape[0], image_vector_size) \n",
    "    x_test = MNIST_test_data.reshape(MNIST_test_data.shape[0], image_vector_size) \n",
    "    # One hot Encoding of the data\n",
    "    y_train = keras.utils.to_categorical(MNIST_training_target, num_classes)\n",
    "    y_test = keras.utils.to_categorical(MNIST_test_target, num_classes)\n",
    "    image_size = 784 \n",
    "    model = Sequential()\n",
    "    model.add(Dense(units=32, activation='relu', input_shape=(image_size,)))\n",
    "    model.add(Dense(units=num_classes, activation='softmax'))\n",
    "    # Loss is categorical_crossentropy and not bicategorical because we have to predict within 10 classes\n",
    "    model.compile(optimizer='sgd', loss='categorical_crossentropy',metrics=['accuracy'])\n",
    "    history = model.fit(x_train, y_train, batch_size=256, epochs=100,verbose=False,validation_split=.1)\n",
    "    PredictedTargetValues = model.predict(np.array(x_test))\n",
    "    # Finding Predicted values to use it in the Ensemble Classfier- Hard Voting\n",
    "    PredictedTargetValues = PredictedTargetValues.argmax(axis=-1)\n",
    "    loss,accuracy = model.evaluate(x_test, y_test, verbose=False)\n",
    "    return accuracy,PredictedTargetValues   \n"
   ]
  },
  {
   "cell_type": "code",
   "execution_count": 11,
   "metadata": {},
   "outputs": [
    {
     "name": "stdout",
     "output_type": "stream",
     "text": [
      "Accuracy for Mnist Testing  : 0.9435\n"
     ]
    }
   ],
   "source": [
    "# Accuracy for MNIST data by using Neural Network Algorithm\n",
    "Mnistaccuracy,PredictedTargetValues = NeuralNetwork(MNIST_training_data,MNIST_test_data,MNIST_training_target,MNIST_test_target)\n",
    "print('Accuracy for Mnist Testing  : ' + str(Mnistaccuracy))"
   ]
  },
  {
   "cell_type": "code",
   "execution_count": 12,
   "metadata": {},
   "outputs": [
    {
     "name": "stdout",
     "output_type": "stream",
     "text": [
      "(10000,)\n",
      "<class 'numpy.ndarray'>\n",
      "(10000,)\n",
      "<class 'numpy.ndarray'>\n",
      "[7 2 1 ... 4 5 6]\n",
      "[[ 964    0    1    1    0    5    6    1    2    0]\n",
      " [   0 1118    2    2    1    1    3    2    6    0]\n",
      " [   8    5  960   11    9    2    7   10   17    3]\n",
      " [   3    1   11  943    0   22    2   10   13    5]\n",
      " [   1    2    3    0  928    0   10    2    5   31]\n",
      " [   9    3    0   23    3  817   16    3   10    8]\n",
      " [  13    3    3    1    9    7  918    1    3    0]\n",
      " [   2    8   21    8    6    1    0  959    1   22]\n",
      " [   8    2    5   16    7   20   11    7  893    5]\n",
      " [  11    6    1   11   24    5    0   12    4  935]]\n"
     ]
    },
    {
     "data": {
      "text/plain": [
       "<matplotlib.colorbar.Colorbar at 0x1d8b7ed67b8>"
      ]
     },
     "execution_count": 12,
     "metadata": {},
     "output_type": "execute_result"
    },
    {
     "data": {
      "image/png": "[encoded data removed]",
      "text/plain": [
       "<Figure size 288x288 with 2 Axes>"
      ]
     },
     "metadata": {},
     "output_type": "display_data"
    }
   ],
   "source": [
    "print(MNIST_test_target.shape)\n",
    "print(type(MNIST_test_target))\n",
    "print(PredictedTargetValues.shape)\n",
    "print(type(PredictedTargetValues))\n",
    "print(PredictedTargetValues)\n",
    "# Confusion Matrix obtained for MNIST data using Neural Network\n",
    "m = confusion_matrix(MNIST_test_target,PredictedTargetValues) \n",
    "print(m)\n",
    "plt.matshow(m)\n",
    "plt.colorbar()"
   ]
  },
  {
   "cell_type": "code",
   "execution_count": 13,
   "metadata": {},
   "outputs": [],
   "source": [
    "import pandas as pd\n",
    "import numpy as np\n",
    "import matplotlib.pyplot as plt\n",
    "%matplotlib inline\n",
    "import scipy.sparse\n",
    "\n",
    "def getLoss(w,MNIST_training_data,MNIST_training_target,lam):\n",
    "    #First we get the number of training examples\n",
    "    training_sample = MNIST_training_data.shape[0] \n",
    "    #Next we convert the integer class coding into a one-hot representation\n",
    "    temp = MNIST_training_target.shape[0]\n",
    "    oneHot_encoded_matrix = scipy.sparse.csr_matrix((np.ones(temp), (MNIST_training_target, np.array(range(temp)))))\n",
    "    oneHot_encoded_matrix = np.array(oneHot_encoded_matrix.todense()).T\n",
    "    y_mat = oneHot_encoded_matrix\n",
    "    #Then we compute raw class scores given our input and current weights\n",
    "    scores = np.dot(MNIST_training_data,w) \n",
    "    #Next we perform a softmax on these scores to get their probabilities\n",
    "    scores -= np.max(scores)\n",
    "    probablity = (np.exp(scores).T / np.sum(np.exp(scores),axis=1)).T\n",
    "    #We then find the loss of the probabilities\n",
    "    loss = (-1 / training_sample) * np.sum(y_mat * np.log(probablity)) + (lam/2)*np.sum(w*w)\n",
    "    #And compute the gradient for that loss\n",
    "    gradient = (-1 / training_sample) * np.dot(MNIST_training_data.T,(y_mat - probablity)) + lam*w \n",
    "    return loss,gradient"
   ]
  },
  {
   "cell_type": "code",
   "execution_count": 14,
   "metadata": {},
   "outputs": [],
   "source": [
    "# Logisitic Regression using SGD with 1000 iterations\n",
    "def logisticRegression(MNIST_training_data,MNIST_training_target) : \n",
    "    w = np.zeros([MNIST_training_data.shape[1],len(np.unique(MNIST_training_target))])\n",
    "    lam = 1\n",
    "    iterations = 1000\n",
    "    learningRate = 0.01\n",
    "    losses = []\n",
    "    for i in range(0,iterations):\n",
    "        loss,grad = getLoss(w,MNIST_training_data,MNIST_training_target,lam)\n",
    "        losses.append(loss)\n",
    "        w = w - (learningRate * grad)\n",
    "    return w"
   ]
  },
  {
   "cell_type": "code",
   "execution_count": 15,
   "metadata": {},
   "outputs": [
    {
     "name": "stdout",
     "output_type": "stream",
     "text": [
      "MNIST Training Accuracy:  0.7832\n",
      "MNIST Test Accuracy:  0.8022\n"
     ]
    }
   ],
   "source": [
    "def getAccuracy(MNIST_training_data,MNIST_training_target,w):\n",
    "    predicted = np.dot(MNIST_training_data,w)\n",
    "    # The predicted values are sent to a softmax function so as to find the probabilities\n",
    "    predicted -= np.max(predicted)\n",
    "    predicted_probability = (np.exp(predicted).T / np.sum(np.exp(predicted),axis=1)).T\n",
    "    prediction = np.argmax(predicted_probability,axis=1)\n",
    "    accuracy = sum(prediction == MNIST_training_target)/(float(len(MNIST_training_target)))\n",
    "    return accuracy,prediction\n",
    "\n",
    "\n",
    "w = logisticRegression(MNIST_training_data,MNIST_training_target)\n",
    "AccuracyTrainLog , PredictedTargetTrainLog = getAccuracy(MNIST_training_data,MNIST_training_target,w)\n",
    "print('MNIST Training Accuracy: ', AccuracyTrainLog)\n",
    "w_test = logisticRegression(MNIST_test_data,MNIST_test_target)\n",
    "AccuracyTestLog , PredictedTargetTestLog =  getAccuracy(MNIST_test_data,MNIST_test_target,w_test)\n",
    "print('MNIST Test Accuracy: ', AccuracyTestLog)"
   ]
  },
  {
   "cell_type": "code",
   "execution_count": 16,
   "metadata": {},
   "outputs": [
    {
     "name": "stdout",
     "output_type": "stream",
     "text": [
      "[[ 944    0    5    9    0    0   13    1    8    0]\n",
      " [   0 1079   33    7    1    0    4    1   10    0]\n",
      " [  36   36  826   30   18    0   32   20   32    2]\n",
      " [   7    7   34  881    0    0    7   21   39   14]\n",
      " [   7   17    5    0  756    0   31    3   19  144]\n",
      " [  78   50   14  255   22  289   33   23   86   42]\n",
      " [  40   22   14    7    3    8  850    0   14    0]\n",
      " [  16   52   33    1   12    0    2  869    4   39]\n",
      " [  26   42   22   87    7    0   18   18  733   21]\n",
      " [  30   24   10   13   57    0    3   53   24  795]]\n"
     ]
    },
    {
     "data": {
      "text/plain": [
       "<matplotlib.colorbar.Colorbar at 0x1d8bb7e1940>"
      ]
     },
     "execution_count": 16,
     "metadata": {},
     "output_type": "execute_result"
    },
    {
     "data": {
      "image/png": "[encoded data removed]",
      "text/plain": [
       "<Figure size 288x288 with 2 Axes>"
      ]
     },
     "metadata": {},
     "output_type": "display_data"
    }
   ],
   "source": [
    "# Confusion MAtrix of MNIST data using Logisitic Regression\n",
    "m =confusion_matrix(MNIST_test_target,PredictedTargetTestLog) \n",
    "print(m)\n",
    "plt.matshow(m)\n",
    "plt.colorbar()"
   ]
  },
  {
   "cell_type": "code",
   "execution_count": 17,
   "metadata": {},
   "outputs": [
    {
     "name": "stdout",
     "output_type": "stream",
     "text": [
      "<class 'numpy.ndarray'>\n",
      "[7 2 1 ... 4 8 6]\n",
      "(10000,)\n",
      "[7 2 1 ... 4 5 6]\n",
      "(10000,)\n",
      "7\n"
     ]
    }
   ],
   "source": [
    "print(type(MNIST_test_data))\n",
    "\n",
    "print(PredictedTargetTestLog)\n",
    "print(PredictedTargetTestLog.shape)\n",
    "\n",
    "print(MNIST_test_target)\n",
    "print(MNIST_test_target.shape)\n",
    "\n",
    "print(MNIST_test_target[0])"
   ]
  },
  {
   "cell_type": "code",
   "execution_count": 18,
   "metadata": {},
   "outputs": [],
   "source": [
    "# Ensemble Classifier using majority Hard Voting\n",
    "# The predicted values from Each algorithm is taken and the output predicted is the frequently predicted value\n",
    "def ensembleClassifier(MNIST_test_target, PredictedTargetTestLog, predicted_testing_target_RFC, predicted_test_target,PredictedTargetValues):\n",
    "    ensembleList = []\n",
    "    for i in range(len(MNIST_test_target)):\n",
    "        tempList = [] \n",
    "        tempList.append(PredictedTargetTestLog[i])\n",
    "        tempList.append(predicted_testing_target_RFC[i])\n",
    "        tempList.append(predicted_test_target[i])\n",
    "        tempList.append(PredictedTargetValues[i])\n",
    "        most_common,num_most_common = Counter(tempList).most_common(1)[0]\n",
    "        ensembleList.append(most_common) \n",
    "    print(ensembleList)\n",
    "    return metrics.accuracy_score(ensembleList, MNIST_test_target),ensembleList"
   ]
  },
  {
   "cell_type": "code",
   "execution_count": 19,
   "metadata": {},
   "outputs": [
    {
     "name": "stdout",
     "output_type": "stream",
     "text": [
      "[7, 2, 1, 0, 4, 1, 4, 9, 6, 9, 0, 6, 9, 0, 1, 5, 9, 7, 3, 4, 9, 6, 6, 5, 4, 0, 7, 4, 0, 1, 3, 1, 3, 4, 7, 2, 7, 1, 2, 1, 1, 7, 4, 2, 3, 5, 1, 2, 4, 4, 6, 3, 5, 5, 6, 0, 4, 1, 9, 5, 7, 8, 9, 3, 7, 4, 6, 4, 3, 0, 7, 0, 2, 9, 1, 7, 3, 2, 9, 7, 7, 6, 2, 7, 8, 4, 7, 3, 6, 1, 3, 6, 9, 3, 1, 4, 1, 7, 6, 9, 6, 0, 5, 4, 9, 9, 2, 1, 9, 4, 8, 7, 3, 9, 7, 4, 4, 4, 9, 2, 5, 4, 7, 6, 4, 9, 0, 5, 8, 5, 6, 6, 5, 7, 8, 1, 0, 1, 6, 4, 6, 7, 3, 1, 7, 1, 8, 2, 0, 2, 9, 9, 5, 5, 1, 5, 6, 0, 3, 4, 4, 6, 5, 4, 6, 5, 4, 5, 1, 4, 4, 7, 2, 3, 2, 7, 1, 8, 1, 8, 1, 8, 5, 0, 8, 9, 2, 5, 0, 1, 1, 1, 0, 9, 0, 3, 1, 6, 4, 2, 3, 6, 1, 1, 1, 3, 9, 5, 2, 9, 4, 5, 9, 3, 9, 0, 3, 6, 5, 5, 7, 2, 2, 7, 1, 2, 8, 4, 1, 7, 3, 3, 8, 7, 7, 9, 2, 2, 4, 1, 5, 8, 8, 7, 2, 3, 0, 2, 4, 2, 4, 1, 9, 5, 7, 7, 2, 8, 2, 0, 8, 5, 7, 7, 9, 1, 8, 1, 8, 0, 3, 0, 1, 9, 9, 4, 1, 8, 2, 1, 2, 9, 7, 5, 9, 2, 6, 4, 1, 5, 4, 2, 9, 2, 0, 4, 0, 0, 2, 8, 4, 7, 1, 2, 4, 0, 2, 7, 4, 3, 3, 0, 0, 3, 1, 9, 6, 5, 2, 5, 1, 7, 9, 3, 0, 4, 2, 0, 7, 1, 1, 2, 1, 5, 3, 3, 9, 7, 8, 6, 3, 6, 1, 3, 8, 1, 0, 5, 1, 3, 1, 5, 0, 6, 1, 8, 5, 1, 7, 9, 4, 6, 7, 2, 5, 0, 6, 5, 6, 3, 7, 2, 0, 8, 8, 5, 4, 1, 1, 4, 0, 7, 3, 7, 6, 1, 6, 2, 1, 9, 2, 8, 6, 1, 9, 5, 2, 5, 4, 4, 2, 8, 3, 9, 2, 4, 5, 0, 3, 1, 7, 7, 5, 7, 9, 7, 1, 9, 2, 1, 4, 2, 9, 2, 0, 4, 9, 1, 4, 8, 1, 8, 4, 5, 9, 8, 8, 3, 7, 6, 0, 0, 3, 0, 8, 0, 6, 4, 8, 3, 3, 3, 2, 3, 9, 1, 2, 6, 8, 0, 9, 6, 6, 6, 3, 8, 8, 2, 7, 5, 8, 9, 6, 1, 8, 4, 1, 2, 8, 3, 1, 9, 7, 5, 4, 0, 8, 9, 9, 1, 0, 5, 2, 3, 7, 6, 9, 4, 0, 6, 3, 9, 5, 2, 1, 3, 1, 3, 6, 5, 7, 4, 2, 2, 6, 3, 2, 6, 5, 4, 8, 9, 7, 1, 3, 0, 3, 8, 3, 1, 9, 3, 4, 4, 6, 4, 2, 1, 8, 2, 5, 4, 8, 3, 4, 0, 0, 2, 3, 2, 7, 1, 0, 8, 7, 4, 4, 7, 9, 6, 9, 0, 9, 8, 0, 9, 6, 0, 6, 3, 5, 4, 8, 3, 3, 9, 3, 3, 3, 7, 8, 0, 2, 2, 1, 7, 0, 6, 5, 4, 3, 3, 0, 9, 6, 3, 8, 0, 9, 9, 6, 8, 6, 8, 5, 7, 8, 6, 0, 2, 4, 0, 2, 8, 3, 1, 9, 7, 5, 1, 0, 8, 4, 6, 2, 6, 7, 9, 9, 6, 9, 8, 2, 2, 9, 2, 7, 3, 5, 9, 1, 8, 0, 2, 0, 5, 2, 1, 3, 7, 6, 7, 1, 2, 5, 8, 0, 3, 7, 9, 4, 0, 9, 1, 8, 6, 7, 7, 4, 3, 4, 9, 1, 9, 5, 1, 7, 3, 9, 7, 6, 9, 1, 3, 3, 8, 3, 3, 6, 7, 2, 4, 5, 8, 5, 1, 1, 4, 4, 3, 1, 0, 7, 7, 0, 7, 9, 9, 4, 8, 5, 5, 4, 0, 8, 2, 1, 6, 8, 4, 8, 0, 4, 0, 6, 1, 7, 3, 2, 6, 7, 2, 6, 9, 3, 1, 4, 6, 2, 5, 9, 2, 0, 6, 2, 1, 7, 3, 4, 1, 0, 5, 4, 3, 1, 1, 7, 4, 9, 9, 9, 8, 4, 0, 2, 4, 5, 1, 1, 6, 4, 7, 1, 9, 4, 2, 4, 1, 5, 5, 3, 3, 3, 1, 4, 5, 6, 8, 9, 4, 1, 9, 3, 8, 0, 3, 2, 5, 1, 2, 8, 3, 4, 4, 0, 8, 8, 3, 3, 1, 2, 3, 5, 9, 6, 3, 2, 6, 1, 3, 6, 0, 7, 2, 1, 7, 1, 4, 2, 4, 2, 1, 7, 9, 6, 1, 1, 2, 4, 8, 1, 7, 7, 4, 8, 0, 7, 3, 1, 3, 1, 0, 7, 7, 0, 3, 5, 5, 2, 7, 6, 6, 9, 2, 8, 3, 5, 2, 2, 5, 6, 0, 8, 2, 9, 2, 8, 8, 8, 8, 7, 9, 7, 3, 0, 6, 6, 3, 2, 1, 3, 2, 2, 9, 3, 0, 0, 5, 7, 8, 1, 4, 4, 6, 0, 2, 9, 1, 4, 7, 4, 7, 3, 9, 8, 8, 4, 7, 1, 2, 1, 2, 2, 3, 7, 3, 2, 3, 9, 1, 7, 4, 0, 3, 5, 5, 8, 6, 3, 0, 6, 7, 6, 6, 3, 2, 7, 9, 1, 1, 2, 9, 6, 4, 9, 5, 1, 3, 3, 9, 7, 8, 9, 1, 1, 0, 9, 1, 4, 4, 5, 4, 0, 6, 2, 2, 3, 1, 5, 1, 2, 0, 8, 8, 1, 2, 6, 7, 1, 6, 2, 3, 9, 0, 1, 2, 2, 0, 8, 9, 9, 0, 2, 3, 1, 9, 7, 8, 1, 0, 4, 1, 9, 9, 5, 4, 2, 6, 8, 1, 3, 7, 5, 4, 4, 1, 8, 1, 3, 8, 1, 2, 8, 8, 0, 6, 2, 1, 1, 9, 1, 5, 3, 4, 8, 9, 5, 0, 9, 2, 0, 4, 8, 2, 1, 7, 2, 4, 9, 4, 4, 0, 9, 9, 2, 2, 3, 3, 4, 3, 5, 7, 3, 5, 8, 1, 2, 4, 4, 6, 4, 9, 3, 1, 0, 6, 9, 5, 9, 5, 9, 7, 3, 8, 0, 3, 7, 1, 3, 6, 7, 8, 5, 9, 7, 9, 6, 3, 6, 3, 7, 4, 6, 5, 8, 5, 4, 7, 8, 2, 8, 0, 7, 6, 8, 8, 7, 3, 7, 1, 9, 5, 2, 7, 3, 5, 1, 1, 2, 1, 4, 7, 4, 7, 5, 4, 5, 4, 0, 8, 3, 6, 9, 6, 0, 2, 7, 4, 4, 4, 4, 6, 6, 4, 7, 9, 3, 4, 5, 5, 8, 7, 3, 7, 2, 7, 0, 2, 4, 1, 1, 1, 6, 9, 2, 8, 7, 2, 0, 1, 5, 0, 4, 1, 7, 0, 6, 0, 4, 6, 8, 1, 8, 0, 2, 3, 2, 2, 3, 6, 2, 1, 6, 1, 1, 3, 7, 9, 0, 8, 0, 5, 4, 0, 6, 8, 2, 2, 3, 8, 4, 0, 4, 5, 3, 5, 1, 2, 1, 3, 1, 7, 9, 5, 7, 2, 0, 0, 8, 8, 6, 2, 5, 4, 1, 9, 3, 1, 5, 8, 1, 0, 2, 4, 4, 3, 6, 8, 8, 2, 4, 0, 5, 0, 4, 4, 7, 9, 3, 4, 1, 5, 9, 2, 3, 5, 8, 8, 0, 9, 3, 3, 6, 6, 0, 1, 6, 0, 3, 7, 4, 4, 1, 2, 9, 1, 4, 6, 9, 9, 3, 9, 8, 4, 4, 3, 1, 3, 1, 3, 8, 7, 9, 4, 8, 8, 2, 9, 7, 1, 4, 5, 6, 0, 5, 2, 2, 6, 1, 5, 5, 2, 4, 9, 6, 2, 7, 7, 2, 2, 1, 1, 2, 8, 3, 7, 2, 4, 1, 7, 1, 7, 6, 7, 8, 2, 7, 3, 1, 7, 5, 8, 2, 6, 2, 2, 5, 6, 6, 0, 9, 2, 4, 3, 3, 9, 7, 6, 6, 8, 0, 4, 1, 3, 8, 2, 9, 1, 8, 0, 6, 7, 7, 1, 0, 5, 5, 2, 0, 2, 6, 0, 2, 9, 9, 8, 0, 9, 9, 4, 6, 5, 4, 9, 1, 8, 3, 4, 9, 9, 1, 2, 2, 1, 1, 9, 6, 4, 0, 9, 4, 2, 3, 8, 6, 0, 2, 5, 1, 9, 6, 2, 9, 4, 0, 9, 6, 0, 6, 2, 5, 4, 2, 3, 8, 4, 0, 9, 0, 5, 8, 5, 3, 5, 8, 6, 5, 7, 6, 3, 3, 9, 6, 1, 1, 2, 9, 0, 4, 3, 3, 6, 9, 5, 9, 3, 7, 7, 7, 8, 1, 9, 8, 3, 0, 7, 2, 7, 9, 4, 5, 4, 9, 3, 2, 1, 4, 0, 2, 3, 7, 5, 9, 8, 8, 0, 0, 6, 1, 4, 7, 3, 9, 0, 0, 0, 6, 6, 2, 3, 7, 8, 4, 7, 7, 9, 2, 4, 1, 6, 5, 2, 4, 3, 9, 1, 8, 4, 0, 3, 8, 4, 8, 7, 7, 0, 7, 8, 8, 6, 0, 4, 8, 8, 2, 4, 7, 6, 6, 6, 4, 2, 1, 8, 8, 2, 3, 6, 3, 0, 0, 3, 7, 6, 9, 7, 9, 9, 5, 4, 3, 3, 6, 1, 2, 3, 7, 3, 3, 6, 0, 3, 3, 8, 4, 3, 6, 3, 5, 0, 2, 0, 9, 0, 7, 4, 6, 9, 3, 5, 1, 9, 6, 1, 7, 5, 4, 5, 0, 5, 4, 0, 2, 1, 2, 9, 1, 9, 9, 4, 0, 8, 4, 5, 2, 9, 2, 1, 2, 1, 7, 3, 6, 8, 8, 4, 9, 1, 9, 8, 5, 7, 5, 1, 1, 8, 6, 5, 0, 4, 4, 7, 2, 3, 5, 6, 8, 8, 6, 2, 3, 1, 0, 5, 8, 9, 1, 9, 6, 7, 0, 4, 8, 7, 1, 7, 4, 1, 0, 3, 7, 2, 0, 0, 9, 1, 7, 0, 3, 8, 4, 7, 2, 0, 4, 6, 0, 3, 1, 1, 3, 3, 9, 6, 7, 4, 1, 6, 3, 0, 2, 7, 3, 9, 6, 9, 3, 5, 0, 2, 7, 4, 5, 1, 2, 5, 8, 0, 8, 6, 1, 5, 0, 3, 0, 3, 1, 4, 0, 3, 7, 2, 7, 1, 8, 0, 7, 0, 4, 3, 1, 9, 8, 7, 7, 1, 4, 9, 9, 3, 7, 1, 7, 9, 0, 2, 0, 3, 3, 7, 6, 9, 2, 3, 3, 7, 7, 0, 0, 7, 5, 2, 9, 0, 7, 4, 4, 2, 6, 6, 1, 9, 6, 8, 2, 9, 0, 8, 3, 1, 1, 6, 3, 5, 1, 1, 1, 3, 1, 2, 3, 0, 2, 0, 1, 3, 5, 5, 7, 4, 7, 9, 6, 9, 6, 8, 3, 6, 6, 8, 5, 1, 4, 2, 4, 4, 5, 1, 4, 9, 0, 2, 4, 9, 5, 7, 1, 8, 3, 5, 6, 9, 8, 7, 1, 1, 6, 7, 6, 3, 2, 2, 0, 8, 9, 2, 5, 1, 0, 8, 1, 4, 5, 7, 9, 6, 9, 0, 6, 1, 5, 5, 8, 3, 8, 2, 6, 8, 0, 7, 4, 6, 1, 3, 4, 7, 3, 2, 3, 4, 4, 5, 2, 7, 1, 7, 2, 6, 6, 1, 0, 7, 8, 6, 0, 1, 8, 2, 5, 7, 7, 6, 3, 3, 5, 2, 4, 2, 4, 0, 8, 8, 3, 4, 9, 2, 7, 5, 8, 6, 3, 6, 0, 3, 6, 7, 3, 6, 4, 9, 4, 6, 6, 3, 2, 4, 1, 0, 1, 4, 6, 2, 9, 1, 1, 0, 6, 3, 9, 5, 6, 9, 6, 5, 8, 4, 6, 4, 3, 9, 1, 3, 4, 1, 9, 1, 2, 1, 1, 9, 3, 5, 4, 0, 9, 3, 6, 1, 7, 5, 5, 3, 3, 0, 1, 3, 7, 5, 8, 6, 4, 1, 0, 8, 7, 3, 4, 6, 7, 9, 8, 1, 6, 9, 9, 2, 8, 6, 2, 7, 0, 0, 6, 7, 5, 8, 6, 0, 9, 3, 9, 1, 3, 5, 4, 3, 3, 5, 5, 6, 3, 0, 2, 3, 4, 2, 3, 0, 9, 9, 4, 7, 2, 8, 4, 7, 0, 6, 0, 9, 5, 2, 8, 5, 7, 3, 0, 8, 2, 7, 2, 8, 2, 5, 5, 7, 6, 4, 0, 8, 4, 8, 2, 7, 4, 5, 2, 0, 3, 2, 9, 6, 7, 2, 5, 1, 1, 1, 2, 3, 6, 7, 8, 7, 6, 4, 8, 9, 4, 8, 6, 3, 8, 3, 1, 0, 6, 2, 2, 5, 6, 9, 5, 8, 1, 4, 1, 7, 8, 4, 6, 1, 8, 4, 3, 1, 2, 8, 0, 8, 5, 9, 2, 4, 2, 5, 0, 7, 0, 1, 0, 2, 5, 7, 6, 7, 9, 1, 2, 6, 2, 4, 4, 8, 0, 4, 4, 5, 8, 0, 6, 8, 9, 8, 5, 6, 9, 0, 4, 8, 7, 1, 3, 4, 6, 8, 0, 9, 1, 3, 3, 6, 9, 8, 7, 1, 0, 5, 7, 1, 7, 5, 2, 7, 9, 1, 8, 5, 2, 4, 9, 4, 7, 2, 2, 3, 4, 9, 1, 9, 2, 1, 7, 9, 4, 4, 6, 6, 7, 2, 7, 8, 0, 1, 9, 7, 1, 1, 7, 5, 3, 3, 5, 1, 3, 7, 6, 1, 3, 8, 7, 5, 9, 0, 0, 0, 2, 8, 8, 7, 3, 7, 1, 3, 0, 3, 4, 4, 3, 8, 9, 2, 3, 9, 7, 1, 1, 7, 0, 4, 9, 6, 5, 9, 1, 1, 0, 2, 0, 0, 4, 6, 7, 0, 7, 1, 4, 6, 4, 5, 4, 9, 9, 1, 7, 9, 5, 3, 3, 8, 2, 3, 6, 2, 2, 1, 1, 1, 1, 1, 6, 9, 8, 4, 3, 7, 1, 6, 4, 9, 0, 9, 7, 4, 2, 4, 0, 7, 0, 1, 0, 8, 2, 6, 0, 0, 4, 1, 6, 8, 2, 2, 3, 3, 9, 3, 2, 2, 1, 7, 5, 4, 4, 0, 4, 3, 1, 7, 3, 1, 0, 1, 2, 5, 1, 2, 1, 0, 1, 8, 9, 1, 4, 8, 3, 3, 9, 3, 6, 2, 8, 3, 2, 1, 1, 0, 4, 2, 9, 2, 4, 3, 7, 9, 1, 5, 2, 9, 9, 0, 3, 8, 5, 3, 6, 0, 9, 4, 6, 2, 5, 0, 0, 7, 4, 6, 6, 8, 6, 6, 8, 6, 9, 1, 7, 2, 5, 9, 9, 0, 7, 2, 7, 6, 7, 0, 6, 5, 4, 4, 7, 2, 0, 9, 9, 2, 2, 9, 4, 4, 2, 3, 3, 2, 1, 7, 0, 7, 6, 4, 1, 3, 8, 7, 9, 6, 9, 2, 5, 1, 8, 7, 3, 7, 1, 3, 3, 0, 9, 1, 4, 0, 6, 3, 3, 6, 0, 4, 9, 7, 5, 1, 6, 8, 9, 5, 5, 7, 9, 3, 8, 3, 8, 1, 5, 3, 5, 0, 5, 5, 3, 8, 6, 7, 7, 7, 3, 7, 0, 5, 9, 0, 2, 1, 5, 3, 1, 7, 7, 8, 6, 5, 7, 3, 8, 9, 5, 3, 7, 9, 1, 7, 0, 0, 3, 7, 2, 3, 2, 1, 8, 6, 2, 9, 5, 7, 5, 2, 8, 6, 8, 5, 1, 4, 8, 4, 5, 8, 3, 0, 6, 2, 7, 3, 3, 2, 1, 0, 7, 3, 4, 0, 3, 9, 3, 2, 8, 9, 0, 3, 8, 0, 7, 6, 5, 4, 7, 3, 0, 0, 8, 6, 2, 5, 1, 1, 0, 0, 4, 4, 0, 1, 2, 3, 2, 7, 7, 8, 5, 2, 8, 7, 6, 9, 1, 4, 1, 6, 4, 2, 4, 3, 5, 4, 3, 9, 5, 0, 1, 5, 3, 8, 9, 1, 9, 7, 9, 5, 5, 2, 7, 4, 6, 0, 1, 1, 1, 0, 4, 4, 7, 6, 3, 8, 0, 9, 3, 0, 6, 1, 9, 6, 1, 3, 8, 1, 2, 5, 6, 2, 7, 3, 6, 0, 1, 9, 7, 6, 6, 8, 9, 2, 9, 5, 8, 3, 1, 0, 0, 7, 6, 6, 2, 1, 6, 9, 3, 1, 8, 6, 4, 0, 6, 0, 0, 0, 6, 3, 5, 9, 6, 9, 5, 5, 8, 5, 3, 0, 4, 0, 3, 9, 6, 8, 2, 3, 1, 2, 1, 1, 5, 6, 9, 8, 0, 6, 6, 9, 5, 3, 8, 6, 2, 1, 4, 5, 4, 3, 7, 8, 3, 0, 9, 3, 5, 1, 1, 0, 4, 4, 7, 0, 1, 7, 0, 1, 6, 1, 4, 5, 6, 6, 3, 7, 8, 4, 4, 7, 2, 5, 3, 7, 0, 7, 7, 9, 6, 4, 2, 8, 5, 7, 8, 3, 9, 5, 8, 9, 9, 8, 6, 2, 8, 4, 2, 3, 6, 1, 1, 8, 9, 3, 4, 0, 7, 9, 6, 4, 1, 4, 1, 3, 4, 9, 3, 1, 4, 7, 7, 4, 7, 2, 9, 3, 0, 8, 0, 8, 4, 0, 4, 4, 1, 5, 2, 8, 3, 9, 9, 5, 2, 8, 1, 5, 3, 7, 9, 4, 2, 5, 6, 3, 5, 9, 3, 0, 9, 2, 1, 9, 5, 3, 0, 6, 9, 8, 4, 0, 4, 9, 2, 9, 0, 1, 0, 7, 1, 6, 5, 8, 1, 5, 3, 5, 0, 3, 5, 5, 9, 2, 8, 7, 0, 4, 9, 1, 9, 7, 7, 5, 3, 2, 0, 9, 1, 8, 6, 2, 3, 9, 6, 2, 1, 9, 1, 3, 5, 5, 0, 3, 8, 3, 3, 7, 6, 8, 0, 1, 4, 0, 6, 9, 8, 1, 2, 1, 9, 5, 9, 7, 3, 7, 8, 0, 1, 3, 0, 4, 6, 1, 0, 2, 5, 8, 4, 4, 1, 1, 5, 4, 6, 6, 0, 6, 9, 2, 6, 2, 7, 1, 7, 9, 4, 0, 0, 3, 8, 2, 2, 3, 1, 6, 0, 5, 7, 7, 9, 2, 6, 7, 7, 7, 8, 6, 8, 8, 4, 6, 8, 4, 1, 2, 8, 3, 3, 9, 4, 0, 3, 7, 3, 2, 3, 3, 7, 3, 4, 0, 6, 2, 0, 8, 1, 5, 3, 5, 4, 1, 7, 1, 3, 7, 3, 7, 3, 2, 2, 7, 3, 7, 3, 7, 8, 5, 6, 5, 2, 9, 6, 5, 3, 6, 7, 4, 1, 7, 1, 5, 2, 3, 0, 3, 1, 4, 2, 6, 1, 4, 3, 8, 0, 6, 2, 1, 6, 9, 3, 9, 1, 9, 3, 2, 1, 8, 4, 4, 6, 5, 8, 6, 9, 7, 7, 8, 6, 9, 7, 1, 9, 4, 0, 5, 4, 6, 4, 1, 2, 3, 0, 0, 2, 6, 6, 5, 7, 0, 8, 6, 4, 4, 9, 0, 7, 3, 4, 2, 1, 8, 8, 5, 9, 2, 7, 1, 8, 8, 3, 2, 7, 6, 0, 1, 2, 7, 1, 0, 8, 3, 6, 0, 5, 3, 6, 2, 8, 1, 0, 1, 4, 2, 1, 1, 4, 4, 4, 4, 7, 1, 6, 2, 3, 9, 0, 0, 1, 8, 8, 4, 3, 4, 2, 0, 6, 1, 6, 1, 2, 2, 2, 1, 2, 3, 7, 8, 1, 0, 0, 2, 1, 0, 6, 0, 1, 6, 2, 5, 1, 7, 4, 8, 2, 1, 4, 3, 7, 3, 9, 9, 4, 8, 3, 4, 7, 2, 7, 5, 7, 0, 4, 3, 3, 2, 6, 7, 6, 0, 0, 6, 7, 7, 0, 5, 5, 8, 1, 0, 4, 0, 2, 8, 1, 5, 0, 8, 8, 0, 3, 2, 7, 1, 3, 6, 4, 9, 5, 5, 9, 2, 9, 2, 8, 4, 6, 8, 6, 3, 0, 0, 8, 7, 6, 1, 7, 1, 1, 2, 7, 4, 0, 0, 7, 7, 6, 3, 8, 6, 4, 2, 0, 7, 4, 0, 5, 7, 8, 2, 9, 4, 7, 1, 1, 3, 6, 6, 6, 9, 1, 9, 4, 8, 3, 6, 9, 5, 9, 6, 2, 4, 6, 7, 7, 0, 6, 6, 9, 4, 8, 3, 5, 3, 4, 9, 0, 0, 5, 2, 5, 0, 7, 1, 1, 1, 0, 7, 6, 7, 9, 6, 6, 4, 1, 4, 3, 1, 1, 2, 2, 9, 1, 0, 8, 7, 6, 3, 4, 0, 0, 6, 3, 3, 0, 7, 1, 7, 1, 1, 3, 1, 0, 9, 9, 7, 5, 4, 1, 4, 8, 9, 4, 3, 5, 1, 9, 8, 2, 7, 3, 9, 9, 0, 1, 0, 2, 9, 3, 9, 3, 3, 6, 2, 9, 9, 8, 3, 7, 4, 0, 4, 7, 8, 4, 9, 8, 1, 9, 7, 5, 9, 2, 8, 2, 2, 0, 2, 2, 3, 8, 4, 6, 8, 4, 8, 2, 4, 6, 7, 9, 3, 3, 9, 4, 3, 1, 4, 4, 7, 0, 5, 9, 6, 0, 4, 4, 4, 4, 6, 1, 2, 3, 2, 6, 4, 5, 9, 6, 8, 5, 6, 0, 5, 6, 4, 1, 8, 6, 5, 2, 8, 4, 5, 5, 4, 7, 2, 0, 7, 8, 2, 2, 3, 7, 0, 1, 8, 0, 7, 1, 9, 8, 7, 5, 5, 9, 1, 7, 5, 4, 3, 1, 3, 2, 1, 6, 6, 6, 1, 1, 4, 0, 7, 4, 2, 4, 0, 6, 4, 7, 6, 9, 5, 3, 4, 6, 5, 0, 1, 8, 8, 2, 8, 3, 5, 7, 8, 0, 8, 5, 7, 1, 1, 0, 1, 3, 7, 8, 5, 0, 7, 1, 1, 0, 1, 1, 4, 5, 2, 7, 6, 2, 3, 0, 2, 0, 5, 9, 6, 9, 7, 2, 1, 3, 6, 4, 1, 8, 2, 4, 0, 5, 1, 0, 3, 2, 6, 4, 4, 3, 9, 6, 1, 6, 5, 7, 9, 2, 0, 2, 6, 0, 1, 4, 3, 3, 2, 8, 8, 0, 8, 8, 9, 0, 9, 6, 7, 6, 3, 3, 3, 9, 7, 7, 7, 4, 9, 0, 6, 9, 8, 4, 2, 9, 2, 8, 1, 0, 0, 7, 8, 3, 3, 3, 1, 3, 7, 6, 1, 3, 1, 6, 0, 5, 1, 4, 7, 5, 9, 5, 3, 4, 9, 9, 1, 6, 5, 0, 1, 3, 2, 0, 3, 4, 8, 2, 2, 0, 2, 8, 1, 5, 1, 6, 8, 8, 9, 1, 2, 1, 3, 5, 1, 0, 9, 4, 4, 8, 3, 8, 5, 9, 7, 6, 0, 2, 0, 0, 0, 4, 8, 3, 1, 5, 3, 3, 8, 5, 1, 8, 2, 0, 4, 9, 4, 6, 2, 3, 3, 5, 6, 4, 8, 0, 9, 2, 8, 3, 6, 4, 5, 1, 2, 9, 4, 9, 1, 2, 8, 2, 0, 3, 0, 4, 1, 1, 5, 7, 0, 9, 9, 1, 9, 5, 9, 3, 5, 0, 4, 1, 0, 8, 4, 0, 8, 9, 8, 9, 4, 2, 5, 7, 9, 8, 9, 8, 0, 9, 9, 6, 8, 9, 9, 5, 9, 8, 6, 1, 0, 3, 3, 5, 2, 1, 6, 3, 0, 2, 8, 3, 5, 6, 2, 3, 0, 2, 2, 6, 4, 3, 5, 5, 1, 7, 2, 1, 6, 9, 1, 3, 9, 5, 5, 1, 6, 2, 2, 8, 6, 7, 1, 4, 6, 0, 6, 0, 3, 3, 2, 8, 3, 6, 8, 9, 8, 5, 3, 9, 5, 4, 5, 2, 0, 5, 6, 6, 2, 8, 3, 9, 9, 5, 7, 9, 4, 6, 7, 1, 3, 1, 3, 6, 6, 0, 9, 0, 1, 9, 9, 1, 8, 8, 0, 1, 6, 9, 7, 5, 3, 4, 7, 4, 9, 4, 4, 3, 6, 3, 1, 1, 7, 6, 9, 1, 8, 4, 1, 1, 9, 9, 9, 3, 6, 8, 1, 6, 0, 4, 1, 3, 7, 7, 4, 9, 5, 1, 0, 0, 1, 1, 6, 2, 1, 9, 8, 4, 0, 3, 6, 4, 9, 0, 7, 1, 6, 3, 7, 5, 2, 5, 1, 8, 5, 4, 7, 0, 5, 7, 2, 2, 5, 8, 1, 0, 4, 3, 7, 1, 0, 5, 1, 3, 0, 0, 6, 0, 7, 3, 1, 8, 3, 9, 7, 0, 0, 8, 4, 5, 9, 8, 3, 2, 7, 2, 9, 7, 2, 1, 1, 3, 7, 5, 3, 1, 9, 8, 2, 2, 2, 8, 8, 5, 7, 3, 8, 9, 8, 8, 6, 8, 2, 3, 9, 7, 1, 6, 2, 9, 2, 8, 8, 1, 6, 2, 8, 7, 9, 1, 8, 0, 1, 7, 2, 0, 7, 1, 1, 9, 0, 2, 0, 9, 8, 6, 2, 3, 0, 3, 8, 0, 2, 1, 1, 1, 1, 4, 2, 9, 7, 7, 5, 1, 1, 2, 1, 9, 9, 9, 1, 0, 2, 0, 2, 1, 1, 4, 6, 4, 1, 5, 4, 9, 9, 7, 7, 5, 6, 2, 1, 2, 8, 0, 6, 9, 5, 3, 9, 7, 7, 1, 4, 8, 5, 3, 4, 3, 4, 7, 7, 5, 0, 7, 4, 8, 8, 1, 5, 3, 9, 5, 9, 9, 6, 9, 0, 3, 6, 3, 9, 8, 2, 8, 1, 2, 8, 6, 8, 5, 5, 3, 9, 4, 9, 2, 5, 1, 5, 1, 4, 4, 1, 4, 4, 3, 3, 9, 1, 2, 2, 3, 3, 0, 2, 9, 0, 0, 9, 3, 6, 0, 9, 3, 7, 8, 4, 1, 9, 9, 7, 2, 7, 9, 9, 3, 9, 5, 1, 1, 8, 7, 5, 1, 9, 5, 3, 5, 9, 9, 4, 9, 7, 1, 9, 0, 9, 7, 5, 4, 9, 2, 0, 1, 0, 5, 1, 4, 9, 3, 3, 6, 1, 5, 2, 5, 2, 2, 0, 9, 2, 6, 6, 0, 1, 2, 0, 3, 0, 2, 9, 5, 7, 9, 7, 3, 0, 8, 9, 5, 0, 3, 2, 5, 4, 0, 8, 8, 4, 6, 8, 8, 4, 5, 9, 8, 5, 4, 9, 2, 2, 1, 2, 6, 8, 8, 7, 0, 3, 6, 6, 4, 3, 8, 8, 7, 2, 2, 0, 0, 9, 3, 9, 9, 1, 9, 8, 6, 6, 4, 2, 6, 9, 2, 8, 5, 4, 5, 7, 9, 9, 9, 2, 1, 8, 3, 4, 0, 7, 8, 7, 9, 3, 4, 6, 5, 6, 2, 3, 9, 2, 6, 0, 0, 0, 1, 8, 8, 7, 9, 8, 2, 0, 4, 7, 7, 5, 0, 5, 6, 4, 6, 7, 4, 3, 0, 7, 5, 0, 7, 4, 2, 0, 8, 9, 9, 4, 2, 4, 6, 7, 8, 7, 6, 9, 4, 1, 3, 7, 3, 0, 8, 7, 7, 6, 1, 3, 9, 2, 2, 9, 2, 1, 8, 3, 2, 9, 6, 8, 4, 0, 1, 2, 8, 4, 5, 7, 7, 8, 1, 1, 3, 0, 3, 5, 7, 0, 3, 1, 9, 3, 6, 3, 1, 7, 7, 3, 0, 8, 4, 8, 2, 6, 5, 2, 9, 7, 3, 9, 0, 9, 9, 6, 4, 2, 9, 7, 2, 1, 1, 6, 7, 4, 7, 5, 9, 2, 8, 2, 1, 2, 4, 5, 9, 6, 1, 3, 2, 5, 9, 9, 3, 6, 1, 1, 4, 6, 9, 7, 2, 1, 5, 1, 4, 6, 3, 4, 1, 1, 0, 3, 1, 6, 8, 4, 9, 0, 7, 3, 0, 4, 9, 0, 6, 6, 6, 3, 6, 7, 7, 2, 8, 6, 0, 8, 3, 0, 2, 9, 8, 3, 2, 5, 3, 9, 8, 0, 0, 1, 9, 5, 1, 3, 9, 6, 0, 1, 4, 1, 7, 1, 2, 3, 7, 9, 7, 4, 9, 9, 3, 9, 2, 8, 2, 7, 1, 3, 0, 9, 1, 0, 1, 7, 7, 9, 6, 9, 9, 9, 2, 1, 6, 1, 3, 5, 7, 1, 9, 7, 6, 4, 5, 7, 6, 6, 9, 9, 6, 3, 6, 2, 9, 8, 1, 2, 2, 5, 5, 2, 3, 7, 2, 1, 0, 1, 0, 4, 5, 2, 0, 2, 8, 3, 5, 1, 7, 7, 1, 1, 2, 9, 7, 8, 4, 0, 3, 0, 7, 8, 8, 4, 7, 7, 8, 5, 8, 6, 9, 8, 1, 3, 8, 0, 3, 1, 7, 7, 5, 5, 1, 6, 5, 7, 4, 9, 3, 5, 4, 7, 1, 2, 0, 8, 1, 6, 0, 7, 3, 4, 7, 8, 9, 6, 0, 8, 6, 4, 8, 7, 7, 9, 3, 8, 6, 9, 7, 2, 3, 4, 0, 2, 1, 3, 3, 5, 5, 7, 2, 4, 0, 7, 2, 8, 3, 0, 8, 7, 8, 4, 0, 8, 4, 4, 5, 8, 5, 6, 6, 3, 0, 9, 3, 2, 5, 8, 9, 3, 4, 9, 5, 8, 9, 1, 2, 8, 8, 6, 8, 1, 3, 7, 9, 0, 1, 1, 4, 7, 0, 8, 1, 7, 4, 5, 7, 1, 2, 1, 1, 3, 0, 6, 2, 1, 2, 8, 0, 7, 6, 6, 9, 3, 1, 0, 5, 2, 8, 0, 5, 4, 3, 8, 4, 6, 6, 2, 7, 9, 5, 1, 3, 2, 4, 3, 6, 1, 9, 4, 4, 7, 6, 8, 4, 1, 9, 9, 2, 7, 8, 0, 1, 3, 6, 1, 3, 4, 1, 1, 1, 5, 6, 0, 7, 0, 7, 3, 3, 2, 5, 2, 2, 9, 4, 9, 8, 1, 3, 1, 6, 1, 2, 7, 4, 0, 0, 0, 8, 2, 2, 9, 2, 2, 1, 9, 9, 2, 7, 5, 1, 3, 4, 9, 4, 1, 8, 5, 6, 3, 8, 3, 1, 2, 8, 4, 9, 9, 2, 7, 0, 7, 7, 2, 3, 2, 4, 0, 3, 9, 9, 8, 4, 1, 0, 6, 0, 9, 6, 8, 6, 1, 1, 9, 8, 9, 2, 3, 5, 5, 9, 4, 2, 1, 9, 4, 3, 9, 6, 0, 4, 0, 6, 0, 1, 2, 3, 4, 7, 8, 9, 0, 1, 2, 2, 4, 7, 8, 9, 0, 1, 2, 3, 4, 5, 6, 7, 8, 9, 8, 3, 4, 7, 8, 6, 2, 1, 0, 9, 7, 1, 9, 3, 8, 4, 7, 2, 0, 9, 1, 4, 5, 4, 6, 2, 0, 6, 2, 1, 1, 1, 1, 7, 2, 4, 7, 5, 2, 9, 4, 5, 8, 4, 2, 9, 7, 0, 0, 7, 5, 1, 1, 7, 6, 6, 6, 8, 2, 2, 7, 7, 4, 0, 2, 4, 2, 1, 8, 9, 6, 1, 0, 5, 9, 6, 9, 8, 0, 2, 0, 8, 3, 9, 6, 3, 0, 1, 2, 3, 4, 5, 6, 7, 0, 1, 2, 3, 4, 5, 6, 7, 8, 9, 0, 1, 2, 3, 4, 5, 6, 7, 8, 5, 4, 8, 7, 4, 7, 7, 3, 9, 8, 8, 3, 1, 5, 8, 2, 7, 4, 2, 1, 5, 4, 5, 5, 8, 6, 4, 4, 4, 1, 8, 7, 5, 5, 1, 8, 9, 1, 3, 6, 3, 3, 2, 2, 6, 9, 9, 6, 5, 5, 3, 2, 8, 1, 6, 5, 6, 8, 1, 9, 7, 6, 8, 3, 7, 4, 7, 0, 9, 0, 0, 3, 2, 9, 3, 0, 2, 0, 1, 0, 1, 0, 4, 0, 1, 0, 4, 7, 9, 6, 2, 6, 2, 2, 9, 9, 0, 1, 2, 3, 4, 5, 6, 7, 8, 9, 0, 1, 2, 3, 4, 5, 6, 7, 0, 9, 0, 1, 2, 3, 4, 5, 6, 7, 0, 9, 8, 0, 5, 6, 6, 0, 8, 0, 2, 3, 7, 9, 4, 7, 1, 9, 1, 7, 1, 4, 0, 0, 4, 1, 7, 5, 7, 1, 3, 3, 3, 6, 6, 9, 7, 4, 3, 0, 2, 5, 2, 6, 0, 8, 9, 4, 3, 5, 4, 8, 1, 5, 9, 0, 6, 4, 3, 6, 3, 3, 8, 1, 4, 7, 5, 7, 2, 2, 0, 0, 1, 7, 7, 9, 5, 9, 8, 9, 6, 8, 8, 2, 3, 6, 1, 2, 9, 8, 9, 5, 2, 6, 2, 4, 8, 4, 6, 5, 0, 1, 5, 6, 7, 8, 9, 0, 1, 2, 3, 4, 5, 6, 7, 8, 9, 0, 1, 2, 3, 4, 5, 6, 7, 8, 9, 7, 4, 2, 0, 9, 0, 1, 5, 8, 8, 0, 2, 7, 8, 4, 4, 6, 1, 0, 4, 5, 3, 9, 4, 2, 0, 5, 0, 1, 3, 2, 9, 8, 6, 0, 1, 1, 8, 0, 4, 7, 7, 6, 3, 6, 0, 7, 3, 5, 4, 2, 4, 1, 8, 3, 5, 6, 7, 0, 6, 7, 1, 2, 5, 8, 1, 9, 3, 8, 2, 8, 7, 6, 7, 1, 4, 6, 2, 9, 3, 0, 1, 2, 3, 4, 5, 6, 7, 0, 1, 2, 3, 4, 5, 0, 1, 2, 8, 9, 1, 4, 0, 9, 5, 0, 8, 0, 7, 7, 1, 1, 2, 9, 3, 6, 7, 2, 3, 8, 1, 2, 9, 8, 8, 7, 1, 7, 1, 1, 0, 3, 4, 2, 6, 4, 7, 4, 2, 7, 4, 9, 1, 0, 6, 8, 5, 5, 5, 3, 5, 9, 7, 4, 8, 5, 9, 6, 9, 3, 0, 3, 3, 9, 1, 8, 1, 6, 0, 0, 1, 2, 3, 4, 5, 6, 9, 8, 9, 0, 1, 2, 3, 4, 5, 6, 7, 8, 9, 0, 1, 2, 3, 9, 5, 6, 7, 8, 9, 3, 5, 3, 2, 9, 3, 2, 1, 4, 5, 5, 2, 3, 2, 1, 3, 9, 7, 2, 5, 2, 8, 9, 1, 8, 8, 7, 8, 1, 0, 0, 7, 7, 8, 7, 5, 0, 6, 1, 5, 7, 4, 6, 1, 2, 5, 0, 7, 9, 9, 0, 3, 8, 4, 4, 8, 1, 8, 6, 5, 9, 0, 0, 0, 3, 7, 1, 6, 4, 2, 6, 6, 0, 4, 5, 4, 1, 3, 8, 6, 3, 9, 9, 5, 9, 3, 7, 8, 5, 6, 4, 9, 6, 2, 2, 0, 9, 4, 0, 1, 2, 3, 4, 5, 6, 7, 8, 9, 0, 1, 2, 7, 5, 6, 0, 1, 2, 3, 4, 5, 6, 8, 7, 1, 3, 2, 6, 0, 7, 5, 9, 9, 6, 0, 9, 4, 1, 3, 2, 1, 2, 3, 8, 3, 2, 6, 5, 6, 8, 2, 7, 4, 8, 1, 8, 0, 5, 3, 9, 4, 1, 9, 2, 1, 9, 6, 7, 9, 0, 4, 6, 1, 7, 3, 8, 7, 2, 9, 6, 5, 2, 3, 9, 0, 5, 7, 1, 6, 1, 0, 9, 3, 3, 4, 4, 0, 6, 2, 5, 4, 2, 3, 4, 6, 0, 0, 2, 0, 1, 4, 5, 6, 9, 8, 9, 0, 1, 2, 3, 4, 5, 6, 7, 8, 0, 1, 2, 3, 4, 5, 6, 7, 8, 9, 8, 7, 1, 3, 7, 5, 2, 8, 0, 7, 5, 9, 9, 0, 9, 1, 1, 5, 8, 8, 6, 3, 2, 1, 8, 3, 2, 6, 5, 6, 0, 0, 1, 0, 5, 3, 1, 9, 2, 1, 9, 6, 0, 4, 6, 1, 7, 3, 8, 7, 2, 9, 6, 5, 8, 0, 5, 7, 1, 6, 1, 0, 9, 6, 2, 3, 4, 2, 3, 9, 4, 6, 0, 0, 2, 0, 1, 2, 3, 9, 3, 6, 7, 8, 9, 0, 1, 2, 3, 4, 5, 6, 7, 8, 9, 0, 1, 2, 8, 4, 5, 6, 7, 8, 9, 8, 6, 5, 0, 6, 8, 9, 4, 1, 9, 3, 8, 0, 4, 8, 9, 1, 4, 0, 5, 3, 2, 1, 5, 4, 0, 7, 6, 0, 1, 7, 0, 6, 8, 9, 5, 1, 7, 9, 8, 6, 0, 8, 1, 7, 7, 1, 3, 2, 3, 1, 4, 2, 0, 0, 7, 8, 4, 6, 4, 9, 3, 8, 4, 7, 2, 3, 6, 3, 6, 9, 6, 3, 0, 2, 9, 6, 9, 0, 2, 3, 3, 1, 3, 3, 9, 7, 8, 7, 2, 2, 5, 7, 9, 8, 2, 1, 3, 1, 3, 0, 1, 2, 8, 4, 5, 6, 7, 8, 8, 0, 1, 2, 3, 4, 5, 6, 7, 8, 0, 0, 1, 2, 3, 4, 5, 6, 7, 8, 0, 1, 2, 6, 5, 3, 0, 7, 0, 4, 1, 4, 3, 6, 7, 2, 3, 1, 2, 1, 2, 0, 6, 0, 1, 3, 0, 2, 7, 5, 7, 6, 2, 0, 1, 9, 0, 6, 0, 6, 0, 2, 0, 6, 1, 5, 8, 4, 3, 0, 1, 5, 4, 4, 8, 5, 7, 5, 7, 8, 3, 4, 8, 8, 5, 2, 0, 7, 1, 8, 8, 1, 0, 7, 5, 3, 6, 8, 4, 7, 7, 0, 0, 3, 4, 4, 3, 8, 6, 2, 0, 1, 2, 3, 4, 5, 6, 7, 8, 9, 0, 1, 2, 3, 4, 5, 6, 7, 8, 9, 0, 1, 2, 3, 4, 5, 6, 7, 8, 9, 0, 8, 3, 9, 5, 5, 2, 6, 8, 4, 9, 1, 7, 1, 2, 3, 5, 9, 6, 9, 1, 1, 1, 2, 9, 5, 6, 8, 1, 2, 0, 7, 7, 5, 8, 2, 9, 8, 9, 0, 4, 6, 7, 1, 3, 4, 5, 6, 0, 3, 6, 8, 7, 0, 4, 2, 7, 4, 7, 5, 4, 3, 4, 2, 8, 1, 5, 1, 2, 0, 2, 5, 6, 4, 3, 0, 0, 0, 3, 3, 5, 7, 0, 6, 4, 8, 8, 6, 3, 4, 6, 9, 9, 8, 2, 7, 7, 1, 0, 1, 2, 3, 4, 5, 6, 7, 8, 9, 0, 1, 2, 3, 4, 5, 6, 7, 8, 0, 1, 2, 3, 4, 5, 6, 7, 8, 2, 1, 7, 2, 5, 0, 8, 0, 2, 7, 6, 8, 3, 6, 0, 2, 7, 6, 6, 1, 2, 8, 8, 7, 7, 4, 7, 7, 3, 7, 4, 5, 4, 3, 3, 8, 4, 1, 1, 9, 7, 4, 3, 7, 3, 3, 0, 2, 5, 5, 6, 6, 3, 5, 6, 5, 9, 9, 8, 4, 1, 0, 6, 6, 9, 6, 8, 8, 5, 6, 1, 1, 9, 8, 9, 2, 3, 5, 5, 9, 4, 2, 1, 9, 3, 9, 2, 0, 2, 0, 4, 0, 0, 1, 2, 3, 4, 7, 8, 9, 0, 1, 2, 3, 7, 8, 9, 0, 1, 2, 3, 4, 7, 8, 9, 7, 3, 0, 3, 1, 8, 7, 6, 4, 0, 2, 6, 8, 3, 2, 8, 1, 2, 0, 7, 1, 0, 4, 4, 5, 8, 0, 6, 2, 3, 1, 5, 1, 8, 5, 9, 4, 0, 7, 5, 8, 8, 3, 8, 9, 2, 6, 2, 5, 3, 1, 7, 3, 0, 1, 9, 9, 6, 0, 3, 9, 2, 8, 1, 4, 0, 5, 2, 9, 2, 5, 8, 9, 5, 0, 1, 2, 4, 5, 6, 0, 1, 2, 3, 4, 5, 6, 7, 1, 2, 3, 4, 5, 1, 0, 4, 5, 6, 6, 3, 4, 4, 2, 9, 1, 0, 6, 4, 4, 7, 2, 3, 3, 9, 2, 0, 4, 3, 3, 7, 1, 5, 6, 3, 1, 7, 8, 4, 0, 2, 4, 0, 2, 4, 7, 8, 0, 7, 0, 6, 9, 3, 2, 8, 6, 7, 3, 7, 5, 1, 0, 8, 1, 6, 7, 2, 9, 7, 9, 5, 8, 6, 2, 6, 2, 8, 1, 7, 5, 0, 1, 1, 3, 7, 4, 9, 1, 8, 6, 8, 9, 0, 1, 2, 3, 4, 5, 6, 7, 8, 9, 0, 1, 2, 3, 4, 7, 8, 9, 5, 1, 7, 8, 9, 9, 8, 9, 8, 4, 1, 7, 7, 3, 3, 7, 6, 6, 6, 1, 9, 0, 1, 7, 6, 3, 2, 1, 7, 1, 3, 9, 1, 7, 6, 8, 4, 1, 4, 3, 6, 9, 6, 1, 4, 4, 7, 2, 4, 4, 0, 1, 2, 3, 4, 5, 6, 7, 8, 9, 0, 1, 2, 3, 4, 5, 6, 9, 0, 1, 4, 3, 4, 7, 2, 1, 3, 5, 1, 7, 7, 2, 1, 4, 8, 3, 4, 4, 2, 0, 7, 4, 1, 2, 3, 4, 9, 1, 6, 0, 1, 0, 0, 2, 8, 7, 1, 1, 4, 0, 4, 7, 3, 6, 6, 0, 3, 2, 4, 0, 6, 9, 2, 6, 5, 8, 6, 9, 0, 4, 0, 6, 1, 4, 4, 0, 9, 5, 1, 3, 7, 6, 9, 3, 0, 7, 2, 0, 1, 2, 3, 4, 5, 6, 7, 8, 9, 0, 1, 2, 3, 4, 5, 6, 7, 8, 9, 0, 1, 2, 3, 4, 5, 6, 7, 8, 9, 2, 1, 7, 2, 5, 0, 8, 0, 2, 7, 8, 8, 3, 0, 6, 0, 2, 7, 6, 6, 1, 2, 8, 8, 7, 7, 4, 7, 7, 3, 7, 4, 5, 4, 3, 3, 8, 4, 5, 4, 1, 1, 9, 7, 4, 3, 7, 3, 3, 0, 2, 5, 5, 6, 3, 1, 5, 2, 5, 9, 9, 8, 4, 1, 0, 6, 0, 9, 6, 8, 8, 5, 6, 1, 1, 9, 8, 9, 6, 3, 5, 5, 9, 4, 2, 1, 9, 4, 9, 1, 3, 9, 2, 0, 6, 0, 4, 0, 6, 0, 1, 2, 3, 4, 5, 6, 7, 8, 9, 0, 1, 2, 3, 4, 5, 6, 7, 8, 9, 0, 1, 2, 3, 4, 5, 6, 7, 8, 9, 3, 8, 0, 7, 1, 0, 7, 5, 5, 6, 9, 0, 1, 0, 0, 8, 3, 4, 3, 1, 5, 0, 0, 9, 6, 3, 4, 9, 3, 7, 6, 9, 2, 4, 5, 7, 2, 6, 4, 9, 4, 9, 4, 1, 2, 2, 3, 8, 1, 3, 2, 9, 4, 3, 8, 2, 2, 1, 2, 8, 6, 5, 1, 6, 7, 2, 1, 3, 9, 3, 8, 7, 5, 7, 0, 7, 4, 8, 3, 5, 0, 6, 6, 3, 7, 6, 7, 9, 4, 8, 4, 1, 0, 6, 6, 0, 1, 2, 3, 4, 5, 6, 7, 8, 9, 0, 1, 2, 3, 4, 5, 6, 7, 8, 9, 0, 1, 2, 3, 4, 5, 6, 7, 8, 9, 7, 4, 0, 4, 0, 1, 7, 9, 5, 1, 4, 2, 8, 9, 4, 3, 7, 8, 2, 4, 4, 3, 3, 6, 9, 9, 5, 8, 6, 7, 0, 6, 8, 2, 6, 3, 9, 3, 2, 9, 6, 1, 7, 4, 8, 8, 9, 0, 3, 3, 9, 0, 5, 2, 9, 4, 1, 0, 3, 7, 5, 8, 7, 7, 8, 2, 9, 7, 1, 2, 6, 4, 2, 5, 2, 3, 6, 6, 5, 0, 0, 2, 8, 1, 6, 1, 0, 4, 3, 1, 6, 1, 9, 0, 1, 4, 5, 6, 7, 8, 9, 1, 2, 3, 4, 5, 6, 7, 0, 1, 2, 3, 4, 5, 6, 7, 8, 9, 8, 4, 0, 0, 7, 2, 4, 3, 8, 6, 6, 3, 2, 6, 3, 3, 6, 1, 4, 7, 8, 0, 3, 1, 9, 0, 1, 9, 1, 2, 7, 0, 1, 3, 8, 2, 9, 2, 7, 6, 5, 5, 9, 9, 8, 2, 9, 1, 3, 2, 3, 4, 3, 1, 9, 0, 9, 3, 6, 8, 7, 0, 1, 0, 5, 8, 2, 7, 7, 0, 1, 2, 3, 4, 5, 6, 7, 8, 9, 0, 1, 2, 3, 4, 5, 6, 7, 8, 9, 0, 1, 2, 3, 4, 5, 6, 7, 8, 9, 1, 7, 4, 8, 1, 5, 6, 5, 7, 2, 8, 6, 3, 3, 8, 6, 5, 4, 0, 9, 1, 7, 2, 9, 1, 5, 1, 3, 2, 2, 3, 0, 6, 4, 3, 7, 6, 9, 0, 4, 8, 1, 4, 0, 6, 1, 2, 6, 9, 2, 2, 3, 5, 5, 1, 0, 7, 7, 9, 6, 2, 9, 4, 7, 0, 2, 3, 4, 0, 0, 8, 8, 8, 5, 1, 3, 7, 4, 9, 8, 8, 9, 0, 9, 8, 9, 0, 2, 6, 5, 6, 7, 4, 7, 5, 8, 1, 3, 5, 3, 1, 2, 3, 4, 5, 6, 1, 2, 3, 4, 6, 0, 1, 2, 4, 5, 6, 7, 8, 1, 7, 2, 4, 1, 4, 1, 4, 9, 6, 8, 4, 5, 3, 2, 8, 8, 3, 3, 5, 6, 7, 0, 6, 1, 6, 8, 7, 0, 1, 5, 0, 8, 5, 0, 1, 5, 8, 4, 2, 3, 9, 7, 6, 9, 1, 9, 0, 6, 7, 1, 2, 3, 9, 2, 4, 5, 5, 3, 7, 5, 3, 1, 8, 2, 2, 3, 0, 2, 9, 4, 9, 7, 0, 2, 7, 4, 9, 9, 2, 3, 9, 8, 3, 8, 6, 7, 0, 0, 1, 2, 3, 4, 5, 6, 7, 8, 9, 0, 1, 2, 3, 4, 5, 6, 7, 8, 9, 0, 1, 2, 3, 4, 5, 6, 7, 8, 9, 0, 0, 7, 2, 6, 5, 5, 3, 7, 8, 6, 6, 6, 6, 4, 3, 8, 8, 3, 0, 1, 9, 0, 5, 4, 1, 9, 1, 2, 7, 0, 1, 3, 8, 2, 9, 2, 7, 4, 2, 6, 5, 5, 9, 9, 1, 1, 5, 7, 6, 8, 2, 9, 4, 3, 1, 9, 0, 9, 3, 6, 8, 7, 0, 1, 0, 5, 8, 2, 7, 7, 0, 1, 2, 3, 4, 5, 6, 7, 8, 9, 0, 1, 2, 3, 4, 5, 8, 9, 0, 1, 2, 3, 4, 5, 6, 7, 8, 9, 2, 1, 2, 1, 3, 9, 9, 8, 5, 3, 7, 0, 7, 7, 5, 7, 9, 9, 4, 7, 0, 3, 4, 1, 5, 8, 1, 4, 8, 4, 1, 8, 6, 6, 4, 6, 0, 5, 5, 3, 3, 5, 7, 2, 3, 9, 6, 9, 2, 6, 2, 1, 2, 0, 8, 3, 8, 3, 0, 8, 7, 4, 9, 5, 0, 9, 7, 0, 0, 4, 6, 0, 9, 1, 6, 2, 7, 6, 8, 3, 5, 2, 1, 8, 3, 8, 6, 1, 0, 2, 1, 4, 0, 1, 2, 3, 4, 5, 6, 7, 8, 9, 0, 1, 2, 3, 4, 5, 6, 7, 8, 9, 0, 1, 2, 3, 4, 5, 6, 7, 8, 9, 7, 6, 4, 7, 6, 2, 3, 4, 8, 7, 8, 6, 9, 8, 3, 2, 2, 8, 4, 8, 5, 6, 5, 0, 2, 0, 1, 1, 2, 9, 6, 8, 2, 1, 0, 6, 5, 2, 9, 7, 2, 3, 9, 2, 7, 1, 8, 3, 8, 1, 9, 5, 5, 0, 1, 1, 9, 8, 2, 6, 0, 4, 5, 0, 2, 1, 8, 6, 7, 5, 9, 9, 3, 0, 3, 1, 4, 4, 0, 4, 9, 0, 1, 2, 3, 5, 6, 7, 8, 0, 1, 2, 3, 5, 0, 7, 8, 9, 0, 1, 2, 3, 5, 6, 7, 8, 9, 9, 7, 0, 9, 0, 1, 5, 8, 8, 0, 9, 3, 2, 7, 8, 4, 6, 1, 0, 4, 9, 4, 4, 0, 5, 0, 1, 6, 9, 3, 2, 9, 1, 6, 0, 1, 1, 8, 7, 7, 6, 3, 6, 0, 7, 2, 4, 1, 7, 0, 6, 7, 1, 4, 5, 8, 1, 8, 2, 8, 7, 6, 8, 7, 1, 6, 2, 9, 3, 0, 1, 2, 3, 4, 5, 6, 7, 8, 9, 0, 1, 6, 3, 4, 5, 6, 7, 8, 9, 0, 1, 2, 3, 4, 5, 6, 7, 8, 9, 8, 9, 5, 7, 0, 3, 1, 6, 8, 4, 1, 5, 6, 4, 2, 7, 8, 1, 3, 4, 3, 4, 7, 2, 0, 5, 0, 1, 9, 2, 3, 2, 3, 5, 5, 7, 8, 4, 9, 9, 7, 1, 1, 9, 0, 7, 8, 3, 4, 8, 6, 3, 8, 0, 9, 6, 2, 1, 0, 1, 0, 6, 2, 3, 8, 9, 0, 7, 2, 3, 4, 5, 5, 2, 8, 5, 4, 6, 6, 6, 7, 9, 1, 8, 2, 1, 5, 3, 4, 7, 9, 4, 0, 0, 0, 1, 2, 3, 9, 8, 6, 7, 8, 9, 0, 1, 2, 3, 4, 5, 6, 7, 8, 9, 0, 1, 2, 3, 4, 5, 6, 9, 0, 1, 3, 1, 5, 1, 2, 4, 9, 8, 1, 6, 8, 0, 1, 1, 9, 2, 6, 6, 8, 7, 4, 2, 9, 7, 0, 2, 1, 0, 3, 6, 0, 1, 2, 3, 4, 5, 6, 7, 8, 9, 0, 1, 2, 3, 4, 5, 6, 7, 8, 9, 0, 1, 2, 3, 4, 5, 6, 7, 8, 9, 8, 6, 5, 9, 7, 0, 2, 3, 4, 3, 8, 5, 1, 3, 2, 3, 0, 1, 2, 1, 3, 2, 6, 5, 3, 0, 7, 2, 7, 4, 6, 4, 0, 5, 9, 9, 8, 9, 5, 3, 1, 7, 4, 7, 6, 5, 4, 0, 0, 6, 6, 2, 0, 6, 3, 7, 7, 4, 4, 3, 9, 2, 8, 9, 6, 0, 9, 5, 3, 8, 8, 7, 1, 4, 0, 4, 8, 5, 2, 3, 9, 0, 1, 9, 1, 5, 1, 7, 4, 8, 6, 2, 1, 6, 8, 8, 0, 1, 2, 3, 4, 7, 8, 9, 0, 1, 2, 3, 4, 6, 7, 8, 9, 0, 1, 2, 3, 4, 7, 8, 9, 1, 4, 5, 3, 3, 0, 9, 5, 4, 5, 0, 6, 4, 6, 7, 0, 7, 7, 1, 6, 9, 1, 3, 6, 2, 3, 9, 2, 3, 8, 9, 5, 8, 8, 7, 1, 7, 1, 1, 0, 3, 4, 2, 6, 4, 7, 4, 2, 7, 4, 2, 9, 2, 7, 9, 2, 1, 0, 6, 5, 3, 4, 8, 5, 9, 6, 9, 0, 6, 3, 0, 6, 1, 6, 0, 0, 1, 2, 3, 4, 5, 6, 7, 0, 1, 2, 3, 4, 7, 8, 9, 0, 1, 2, 3, 4, 7, 2, 5, 1, 6, 4, 3, 9, 9, 0, 9, 7, 1, 6, 4, 3, 6, 2, 0, 9, 8, 6, 5, 7, 0, 0, 1, 7, 4, 3, 2, 4, 1, 3, 7, 6, 4, 7, 7, 7, 9, 8, 9, 3, 6, 2, 6, 3, 5, 8, 0, 5, 4, 7, 1, 3, 1, 7, 9, 6, 2, 0, 9, 1, 7, 3, 3, 9, 1, 6, 4, 3, 9, 8, 2, 1, 8, 6, 4, 1, 5, 5, 6, 5, 0, 1, 2, 3, 4, 5, 6, 7, 8, 9, 0, 1, 2, 3, 4, 5, 6, 7, 8, 9, 0, 1, 2, 3, 4, 5, 6, 7, 0, 9, 6, 9, 7, 0, 2, 3, 4, 3, 8, 5, 1, 3, 0, 1, 2, 1, 3, 2, 0, 7, 2, 6, 4, 0, 5, 9, 9, 8, 9, 5, 3, 1, 7, 4, 7, 0, 0, 6, 6, 6, 3, 7, 9, 2, 6, 9, 8, 7, 1, 9, 0, 4, 8, 5, 2, 3, 9, 0, 1, 9, 1, 5, 1, 7, 6, 1, 2, 1, 6, 8, 0, 1, 2, 3, 4, 5, 6, 7, 8, 9, 0, 1, 2, 3, 4, 5, 6, 7, 8, 0, 1, 2, 3, 5, 6, 7, 8, 1, 0, 4, 5, 6, 6, 3, 4, 4, 2, 8, 1, 0, 6, 4, 9, 7, 2, 9, 2, 0, 9, 3, 3, 9, 1, 5, 2, 3, 1, 6, 7, 3, 7, 8, 4, 0, 2, 4, 0, 2, 4, 7, 8, 0, 7, 0, 6, 9, 3, 2, 4, 8, 6, 0, 5, 7, 5, 1, 0, 8, 1, 6, 7, 2, 9, 7, 9, 5, 6, 5, 2, 6, 2, 8, 1, 7, 5, 5, 7, 3, 5, 0, 1, 1, 3, 8, 4, 9, 4, 5, 1, 8, 6, 8, 9, 0, 1, 2, 3, 4, 5, 6, 7, 8, 9, 0, 1, 2, 3, 4, 5, 6, 7, 8, 9, 0, 1, 2, 3, 4, 5, 6, 7, 8, 9, 3, 5, 3, 2, 9, 3, 2, 1, 4, 5, 5, 2, 3, 2, 1, 3, 9, 7, 2, 1, 2, 8, 9, 1, 8, 8, 7, 8, 1, 0, 0, 6, 7, 7, 8, 7, 5, 0, 6, 1, 5, 7, 4, 6, 1, 2, 5, 0, 7, 9, 9, 0, 3, 4, 4, 8, 4, 1, 8, 6, 5, 9, 0, 0, 0, 3, 7, 1, 6, 4, 6, 0, 4, 5, 4, 1, 3, 8, 6, 3, 9, 9, 5, 9, 3, 7, 8, 5, 6, 4, 7, 6, 2, 2, 0, 9, 4, 0, 1, 2, 3, 4, 5, 6, 7, 8, 9, 0, 1, 2, 3, 4, 5, 6, 7, 8, 9, 0, 1, 2, 3, 4, 5, 6, 7, 8, 9, 6, 4, 2, 6, 4, 7, 5, 5, 4, 7, 2, 9, 3, 9, 3, 8, 2, 0, 9, 5, 6, 0, 1, 0, 6, 5, 3, 5, 3, 8, 0, 0, 3, 4, 1, 5, 3, 0, 8, 3, 0, 6, 2, 7, 8, 1, 7, 1, 3, 8, 5, 4, 2, 0, 9, 7, 6, 7, 4, 1, 6, 2, 6, 7, 1, 9, 8, 0, 6, 9, 4, 9, 9, 6, 2, 3, 7, 1, 9, 2, 2, 5, 3, 7, 8, 0, 1, 2, 3, 4, 7, 8, 9, 0, 1, 2, 3, 4, 7, 8, 9, 0, 1, 7, 8, 9, 8, 9, 2, 6, 1, 3, 5, 4, 8, 2, 6, 4, 3, 4, 5, 9, 2, 0, 3, 9, 4, 9, 7, 3, 8, 7, 4, 4, 9, 8, 5, 8, 2, 6, 6, 2, 3, 1, 3, 2, 7, 3, 1, 9, 0, 1, 1, 3, 5, 0, 7, 8, 1, 5, 1, 4, 6, 0, 0, 4, 9, 1, 6, 6, 9, 0, 7, 6, 1, 1, 0, 1, 2, 8, 4, 2, 2, 3, 4, 5, 6, 2, 0, 1, 2, 2, 8, 6, 3, 9, 2, 1, 9, 3, 9, 6, 1, 7, 2, 4, 4, 5, 2, 0, 0, 1, 6, 6, 8, 2, 7, 2, 2, 4, 2, 1, 6, 1, 0, 6, 9, 8, 3, 9, 6, 3, 0, 1, 2, 3, 4, 5, 6, 7, 8, 9, 0, 1, 2, 3, 4, 5, 6, 7, 8, 9, 0, 1, 2, 3, 4, 5, 6, 7, 8, 9, 1, 6, 8, 9, 9, 0, 1, 2, 4, 4, 3, 7, 4, 4, 4, 0, 3, 8, 7, 5, 8, 2, 1, 7, 5, 3, 8, 5, 2, 5, 1, 1, 6, 2, 1, 3, 8, 6, 4, 2, 6, 2, 5, 5, 0, 2, 8, 0, 6, 8, 1, 7, 9, 1, 9, 2, 6, 7, 6, 6, 8, 7, 4, 9, 2, 1, 3, 3, 0, 5, 5, 8, 0, 3, 7, 9, 7, 0, 2, 7, 9, 1, 7, 8, 0, 3, 5, 3, 6, 0, 1, 2, 3, 4, 5, 6, 7, 8, 9, 0, 1, 2, 3, 4, 5, 6, 7, 8, 9, 0, 1, 2, 3, 4, 7, 8, 9, 6, 4, 2, 6, 9, 7, 8, 4, 2, 9, 3, 9, 3, 0, 0, 1, 0, 4, 2, 6, 3, 5, 3, 0, 3, 4, 1, 5, 3, 0, 8, 3, 0, 6, 1, 7, 8, 0, 7, 2, 6, 7, 1, 9, 6, 9, 4, 9, 9, 6, 7, 1, 2, 5, 3, 7, 8, 0, 1, 2, 4, 5, 6, 7, 8, 9, 0, 1, 3, 4, 5, 6, 7, 8, 0, 1, 3, 4, 7, 8, 9, 7, 5, 5, 1, 9, 9, 7, 1, 0, 0, 5, 9, 7, 1, 7, 2, 2, 3, 6, 8, 3, 2, 0, 0, 6, 1, 7, 5, 8, 6, 2, 9, 4, 8, 8, 7, 1, 0, 8, 7, 7, 5, 8, 5, 3, 4, 6, 1, 1, 5, 5, 0, 7, 2, 3, 6, 4, 1, 2, 4, 1, 5, 4, 2, 0, 4, 8, 6, 1, 9, 0, 2, 5, 6, 9, 3, 6, 3, 6, 0, 1, 2, 3, 4, 5, 6, 7, 8, 9, 0, 1, 2, 3, 4, 5, 6, 7, 8, 9, 0, 1, 2, 3, 5, 6, 7, 8, 1, 0, 9, 5, 7, 5, 1, 8, 6, 9, 0, 4, 1, 9, 3, 8, 4, 4, 7, 0, 1, 9, 2, 8, 7, 8, 0, 5, 9, 6, 0, 6, 3, 5, 3, 3, 3, 9, 8, 1, 1, 0, 6, 1, 0, 0, 6, 2, 1, 1, 3, 2, 7, 7, 8, 8, 7, 8, 4, 6, 0, 2, 0, 7, 0, 3, 6, 8, 7, 1, 5, 9, 9, 3, 7, 2, 4, 9, 4, 3, 6, 2, 2, 5, 3, 2, 5, 5, 9, 4, 1, 7, 2, 0, 1, 2, 3, 4, 5, 6, 7, 8, 9, 0, 1, 2, 3, 4, 5, 6, 7, 8, 9, 0, 1, 2, 3, 4, 5, 6, 7, 8, 9, 1, 0, 1, 2, 7, 5, 3, 4, 4, 0, 0, 6, 9, 6, 6, 5, 7, 2, 3, 4, 4, 9, 1, 4, 0, 7, 7, 5, 7, 2, 3, 1, 4, 4, 0, 9, 9, 6, 1, 8, 3, 3, 7, 3, 9, 8, 8, 4, 7, 7, 6, 2, 1, 9, 8, 7, 8, 8, 7, 2, 2, 3, 9, 3, 3, 5, 5, 0, 7, 4, 5, 6, 5, 1, 4, 1, 1, 2, 8, 2, 6, 1, 5, 0, 1, 2, 3, 4, 5, 6, 7, 8, 9, 0, 1, 2, 3, 4, 5, 6, 7, 8, 9, 0, 1, 2, 8, 4, 5, 6, 7, 8, 8, 0, 6, 0, 8, 2, 3, 7, 9, 4, 7, 1, 7, 1, 7, 1, 4, 0, 0, 1, 7, 5, 7, 1, 3, 3, 3, 1, 6, 9, 7, 1, 2, 0, 2, 6, 0, 8, 9, 4, 3, 5, 4, 8, 1, 5, 9, 0, 6, 5, 3, 8, 1, 4, 7, 5, 2, 0, 0, 1, 7, 8, 7, 6, 8, 8, 2, 3, 5, 1, 2, 9, 5, 2, 0, 1, 2, 3, 4, 5, 6, 7, 8, 9, 0, 1, 0, 3, 4, 0, 6, 7, 8, 9, 0, 1, 2, 3, 4, 6, 6, 7, 8, 9, 7, 1, 6, 1, 2, 0, 4, 9, 3, 7, 1, 2, 7, 5, 8, 6, 3, 2, 0, 0, 5, 8, 6, 0, 3, 8, 1, 0, 3, 0, 4, 7, 4, 9, 0, 9, 0, 7, 1, 7, 1, 6, 6, 0, 6, 0, 8, 7, 6, 4, 9, 9, 5, 3, 7, 4, 3, 0, 9, 6, 6, 1, 1, 3, 2, 1, 0, 0, 1, 2, 3, 4, 7, 8, 4, 0, 1, 8, 3, 4, 5, 6, 7, 8, 0, 1, 2, 3, 4, 7, 8, 9, 0, 8, 3, 9, 5, 5, 8, 6, 8, 4, 1, 7, 1, 7, 3, 5, 6, 9, 1, 1, 1, 2, 1, 2, 0, 7, 7, 1, 8, 2, 9, 8, 8, 7, 3, 4, 6, 8, 7, 0, 4, 2, 7, 7, 5, 4, 3, 4, 2, 8, 1, 5, 1, 0, 2, 3, 3, 1, 7, 0, 6, 8, 6, 3, 4, 4, 8, 2, 7, 7, 1, 0, 1, 7, 8, 9, 0, 1, 2, 7, 4, 5, 6, 7, 8, 0, 1, 2, 3, 4, 7, 8, 9, 7, 8, 6, 4, 1, 9, 2, 8, 4, 4, 7, 0, 1, 9, 2, 8, 7, 8, 2, 6, 0, 6, 6, 3, 3, 8, 9, 1, 4, 0, 6, 1, 0, 0, 6, 2, 1, 1, 7, 7, 8, 4, 6, 0, 7, 0, 3, 6, 8, 7, 1, 3, 2, 4, 9, 4, 2, 6, 4, 1, 7, 2, 6, 6, 0, 1, 2, 8, 4, 5, 6, 7, 8, 9, 0, 1, 2, 3, 4, 5, 6]\n",
      "MNIST EnsembleAccuracy:  0.9484\n"
     ]
    }
   ],
   "source": [
    "EnsembleAccuracy, ensembleList= ensembleClassifier(MNIST_test_target, PredictedTargetTestLog, predicted_testing_target_RFC, predicted_test_target,PredictedTargetValues)\n",
    "print('MNIST EnsembleAccuracy: ', EnsembleAccuracy)"
   ]
  },
  {
   "cell_type": "markdown",
   "metadata": {},
   "source": [
    "## Confusion Matrix"
   ]
  },
  {
   "cell_type": "code",
   "execution_count": 20,
   "metadata": {},
   "outputs": [
    {
     "name": "stdout",
     "output_type": "stream",
     "text": [
      "[[ 971    0    1    0    0    2    3    1    2    0]\n",
      " [   0 1124    1    3    1    1    3    1    1    0]\n",
      " [  12    4  966   10    7    0   10   12   10    1]\n",
      " [   2    1   15  963    0    3    2   11   11    2]\n",
      " [   1    4    4    0  928    0    7    1    3   34]\n",
      " [  11    5    1   36    5  800   12    2    8   12]\n",
      " [  12    3    3    0    2    7  928    0    3    0]\n",
      " [   1   13   23    4    4    0    1  967    0   15]\n",
      " [  10    2    9   16    6    1   11    7  904    8]\n",
      " [  15    8    1   14   22    0    0   12    4  933]]\n"
     ]
    },
    {
     "data": {
      "text/plain": [
       "<matplotlib.colorbar.Colorbar at 0x1d8bb283048>"
      ]
     },
     "execution_count": 20,
     "metadata": {},
     "output_type": "execute_result"
    },
    {
     "data": {
      "image/png": "[encoded data removed]",
      "text/plain": [
       "<Figure size 288x288 with 2 Axes>"
      ]
     },
     "metadata": {},
     "output_type": "display_data"
    }
   ],
   "source": [
    "# Confusion Matrix of ensemble classifier\n",
    "m =confusion_matrix(MNIST_test_target,ensembleList) \n",
    "print(m)\n",
    "plt.matshow(m)\n",
    "plt.colorbar()"
   ]
  },
  {
   "cell_type": "markdown",
   "metadata": {},
   "source": [
    "## Load USPS on Python 3.x"
   ]
  },
  {
   "cell_type": "code",
   "execution_count": 67,
   "metadata": {},
   "outputs": [],
   "source": [
    "from PIL import Image\n",
    "import os\n",
    "import numpy as np"
   ]
  },
  {
   "cell_type": "code",
   "execution_count": 68,
   "metadata": {},
   "outputs": [],
   "source": [
    "# Data processing of USPS Data\n",
    "USPSMat  = []\n",
    "USPSTar  = []\n",
    "curPath  = 'USPSdata/Numerals'\n",
    "savedImg = []\n",
    "\n",
    "for j in range(0,10):\n",
    "    curFolderPath = curPath + '/' + str(j)\n",
    "    imgs =  os.listdir(curFolderPath)\n",
    "    for img in imgs:\n",
    "        curImg = curFolderPath + '/' + img\n",
    "        if curImg[-3:] == 'png':\n",
    "            img = Image.open(curImg,'r')\n",
    "            img = img.resize((28, 28))\n",
    "            savedImg = img\n",
    "            imgdata = (255-np.array(img.getdata()))/255\n",
    "            USPSMat.append(imgdata)\n",
    "            USPSTar.append(j)"
   ]
  },
  {
   "cell_type": "code",
   "execution_count": 89,
   "metadata": {},
   "outputs": [
    {
     "name": "stdout",
     "output_type": "stream",
     "text": [
      "Accuracy of USPS SVM: 0.2743137156857843\n",
      "[[ 368    2  486  224  233  301   73  147   12  154]\n",
      " [  52  273  548  275  257  173   18  327   55   22]\n",
      " [ 151  100 1205  132   48  233   57   37   26   10]\n",
      " [  65   49  407  844   14  494    6   38   66   17]\n",
      " [  27   28  236  119  817  215   15  408   74   61]\n",
      " [  60   23  688  284   58  756   35   35   48   13]\n",
      " [ 174   20  913   93   74  216  444   30    3   33]\n",
      " [  25   68  185  755   66  286    7  478   92   38]\n",
      " [ 149   25  315  566  119  553   68   62  126   17]\n",
      " [  14   35  220  680  138   96    6  506  130  175]]\n"
     ]
    },
    {
     "data": {
      "text/plain": [
       "<matplotlib.colorbar.Colorbar at 0x1dc84d27c50>"
      ]
     },
     "execution_count": 89,
     "metadata": {},
     "output_type": "execute_result"
    },
    {
     "data": {
      "image/png": "[encoded data removed]",
      "text/plain": [
       "<Figure size 288x288 with 2 Axes>"
      ]
     },
     "metadata": {},
     "output_type": "display_data"
    }
   ],
   "source": [
    "# Confusion matrix of usps data using the model trained on MNIST data using SVM\n",
    "predicted_training_target_USPS = classifier1.predict(USPSMat)\n",
    "print(\"Accuracy of USPS SVM:\",metrics.accuracy_score(predicted_training_target_USPS, USPSTar))\n",
    "m = confusion_matrix(USPSTar,predicted_training_target_USPS) \n",
    "print(m)\n",
    "plt.matshow(m)\n",
    "plt.colorbar()"
   ]
  },
  {
   "cell_type": "code",
   "execution_count": 81,
   "metadata": {},
   "outputs": [
    {
     "name": "stdout",
     "output_type": "stream",
     "text": [
      "Accuracy of USPS RFC: 0.3114655732786639\n",
      "[[ 577   58  265   54  433  181  116  119   15  182]\n",
      " [  51  531  209   80  103   46   49  902   16   13]\n",
      " [ 212  134  933  131   70  187   73  225   14   20]\n",
      " [ 118   96  164  958   82  354   20  167   10   31]\n",
      " [  24  279  117   38  901  119   65  399   21   37]\n",
      " [ 200   92  201  230   81 1016   33  112    8   27]\n",
      " [ 368  140  306   80  151  303  527   89   15   21]\n",
      " [  74  450  407  154   59  208   28  599    4   17]\n",
      " [ 130  182  262  253  164  692   72  100  100   45]\n",
      " [  62  332  283  242  256  149   20  522   47   87]]\n"
     ]
    },
    {
     "data": {
      "text/plain": [
       "<matplotlib.colorbar.Colorbar at 0x1dc8ce38080>"
      ]
     },
     "execution_count": 81,
     "metadata": {},
     "output_type": "execute_result"
    },
    {
     "data": {
      "image/png": "[encoded data removed]",
      "text/plain": [
       "<Figure size 288x288 with 2 Axes>"
      ]
     },
     "metadata": {},
     "output_type": "display_data"
    }
   ],
   "source": [
    "# Confusion matrix of usps data using the model trained on MNIST data using Random Forest\n",
    "predicted_training_target_USPS_RFC = classifierRFC.predict(USPSMat)\n",
    "print(\"Accuracy of USPS RFC:\",metrics.accuracy_score(predicted_training_target_USPS_RFC, USPSTar))\n",
    "m = confusion_matrix(USPSTar,predicted_training_target_USPS_RFC) \n",
    "print(m)\n",
    "plt.matshow(m)\n",
    "plt.colorbar()"
   ]
  },
  {
   "cell_type": "code",
   "execution_count": 110,
   "metadata": {},
   "outputs": [
    {
     "name": "stdout",
     "output_type": "stream",
     "text": [
      "USPS Test Accuracy:  0.6581829091454573\n",
      "[[1743    4    2   26   48   15   75    0   52   35]\n",
      " [  29 1286   58  404   16   23   17    6  125   36]\n",
      " [ 125   53 1207  369   17   49   99    6   58   16]\n",
      " [  33   25   60 1755    2   43   15    3   44   20]\n",
      " [ 220   12    5   42 1269   26   34    1  152  239]\n",
      " [ 231    2   12  344   18 1147   50    0  138   58]\n",
      " [  78   10   57  133   46   20 1583    0   57   16]\n",
      " [ 185  128   73  162   42    3    2  472  548  385]\n",
      " [ 230    3   17  113   21   28   49    1 1448   90]\n",
      " [ 151    4    5   98  205   19   10    8  247 1253]]\n"
     ]
    },
    {
     "data": {
      "text/plain": [
       "<matplotlib.colorbar.Colorbar at 0x1dc855d66a0>"
      ]
     },
     "execution_count": 110,
     "metadata": {},
     "output_type": "execute_result"
    },
    {
     "data": {
      "image/png": "[encoded data removed]",
      "text/plain": [
       "<Figure size 288x288 with 2 Axes>"
      ]
     },
     "metadata": {},
     "output_type": "display_data"
    }
   ],
   "source": [
    "# Confusion matrix of usps data using the model trained on MNIST data using Losgitic Regression\n",
    "w_usps = logisticRegression(np.array(USPSMat),np.array(USPSTar))\n",
    "AccuracyTestLogUSPS , PredictedTargetTestLogUSPS = getAccuracy(np.array(USPSMat),np.array(USPSTar),w_usps)\n",
    "print('USPS Test Accuracy: ', AccuracyTestLogUSPS)\n",
    "m = confusion_matrix(USPSTar,PredictedTargetTestLogUSPS) \n",
    "print(m)\n",
    "plt.matshow(m)\n",
    "plt.colorbar()"
   ]
  },
  {
   "cell_type": "code",
   "execution_count": 115,
   "metadata": {},
   "outputs": [
    {
     "name": "stdout",
     "output_type": "stream",
     "text": [
      "Accuracy for Usps Testing : 0.3734186709275859\n",
      "[[ 481    2  273   86  174  190   69   48  102  575]\n",
      " [ 100  328  205  246  199  192   26  559   92   53]\n",
      " [  96    9 1309  162   42  213   58   54   37   19]\n",
      " [  50    2  139 1223    5  439    6   53   67   16]\n",
      " [  23   38   53   43  929  196   46  279  139  254]\n",
      " [  90   12  196  158   30 1344   69   42   45   14]\n",
      " [ 144    4  379  107   85  429  767   13   38   34]\n",
      " [ 110  185  262  507   41  181   13  505  116   80]\n",
      " [ 209   15  155  240  106  737  123   65  290   60]\n",
      " [  27  129  134  439  123   99   13  521  223  292]]\n"
     ]
    },
    {
     "data": {
      "text/plain": [
       "<matplotlib.colorbar.Colorbar at 0x1dc852a2630>"
      ]
     },
     "execution_count": 115,
     "metadata": {},
     "output_type": "execute_result"
    },
    {
     "data": {
      "image/png": "[encoded data removed]",
      "text/plain": [
       "<Figure size 288x288 with 2 Axes>"
      ]
     },
     "metadata": {},
     "output_type": "display_data"
    }
   ],
   "source": [
    "# Confusion matrix of usps data using the model trained on MNIST data using Neural Network\n",
    "UspsAccuracy,PredictedTargetValuesNNUSPS = NeuralNetwork(MNIST_training_data,np.array(USPSMat),MNIST_training_target,np.array(USPSTar))\n",
    "print('Accuracy for Usps Testing : ' + str(UspsAccuracy))\n",
    "m = confusion_matrix(USPSTar,PredictedTargetValuesNNUSPS) \n",
    "print(m)\n",
    "plt.matshow(m)\n",
    "plt.colorbar()"
   ]
  },
  {
   "cell_type": "code",
   "execution_count": 119,
   "metadata": {},
   "outputs": [
    {
     "name": "stdout",
     "output_type": "stream",
     "text": [
      "[0, 5, 5, 0, 9, 0, 0, 0, 0, 4, 6, 9, 0, 0, 0, 0, 0, 0, 0, 0, 0, 0, 4, 9, 0, 9, 9, 0, 0, 4, 0, 0, 0, 6, 3, 0, 0, 0, 2, 5, 0, 2, 0, 3, 0, 0, 0, 0, 0, 0, 0, 0, 0, 0, 0, 0, 0, 5, 0, 0, 0, 0, 0, 4, 9, 4, 0, 0, 2, 0, 0, 0, 2, 5, 0, 0, 0, 5, 0, 3, 0, 0, 2, 0, 0, 0, 0, 0, 0, 0, 5, 0, 2, 0, 0, 5, 2, 0, 0, 0, 0, 0, 0, 0, 0, 0, 0, 0, 0, 0, 0, 6, 0, 0, 0, 3, 0, 0, 3, 0, 0, 2, 0, 9, 9, 0, 0, 2, 0, 2, 2, 0, 4, 0, 0, 0, 0, 9, 0, 0, 4, 4, 0, 0, 0, 0, 0, 0, 0, 0, 0, 0, 0, 0, 0, 2, 0, 5, 2, 0, 4, 0, 0, 0, 0, 9, 0, 0, 0, 7, 7, 0, 0, 0, 0, 0, 0, 0, 0, 2, 2, 0, 9, 0, 9, 0, 9, 0, 0, 9, 4, 9, 2, 0, 5, 0, 0, 0, 0, 0, 4, 0, 4, 7, 0, 0, 0, 0, 0, 9, 4, 4, 5, 0, 0, 0, 6, 0, 0, 2, 8, 0, 0, 0, 5, 0, 0, 7, 0, 3, 0, 0, 0, 0, 6, 6, 0, 0, 0, 0, 0, 4, 0, 0, 0, 5, 0, 5, 0, 0, 4, 0, 6, 0, 0, 0, 0, 0, 0, 0, 0, 2, 5, 6, 0, 0, 0, 0, 0, 5, 5, 2, 2, 0, 0, 0, 0, 0, 9, 0, 2, 0, 4, 2, 0, 0, 0, 6, 0, 5, 0, 0, 0, 0, 6, 6, 9, 0, 0, 0, 0, 0, 4, 0, 0, 0, 0, 3, 4, 0, 0, 0, 0, 3, 0, 3, 2, 0, 8, 4, 0, 0, 0, 0, 0, 0, 0, 8, 4, 0, 0, 0, 9, 6, 0, 0, 0, 0, 0, 0, 9, 0, 0, 0, 0, 0, 0, 0, 0, 0, 0, 0, 0, 0, 5, 0, 2, 0, 0, 0, 0, 0, 0, 0, 0, 6, 0, 0, 0, 0, 0, 0, 0, 2, 2, 0, 0, 0, 6, 2, 0, 0, 5, 0, 0, 2, 0, 0, 0, 0, 2, 4, 3, 5, 0, 0, 2, 2, 0, 0, 0, 0, 4, 4, 3, 0, 2, 4, 4, 9, 2, 0, 0, 4, 5, 0, 0, 0, 0, 0, 0, 3, 4, 2, 0, 5, 5, 2, 5, 3, 0, 3, 0, 9, 4, 0, 2, 8, 0, 0, 0, 0, 0, 0, 0, 5, 0, 0, 0, 5, 0, 0, 0, 0, 0, 5, 0, 0, 0, 2, 0, 0, 0, 0, 0, 0, 0, 0, 0, 9, 5, 0, 0, 0, 5, 9, 0, 0, 1, 2, 2, 0, 2, 0, 9, 4, 0, 0, 0, 0, 4, 0, 9, 0, 0, 0, 8, 4, 9, 2, 0, 5, 2, 0, 6, 0, 2, 5, 0, 0, 0, 0, 0, 0, 5, 0, 6, 4, 0, 9, 0, 5, 0, 0, 2, 0, 0, 0, 2, 4, 6, 4, 2, 5, 6, 0, 5, 0, 5, 0, 0, 0, 5, 0, 0, 0, 0, 0, 0, 0, 2, 2, 0, 9, 4, 2, 6, 0, 2, 4, 0, 6, 0, 7, 2, 2, 0, 0, 0, 0, 0, 0, 2, 9, 2, 2, 3, 0, 0, 6, 2, 6, 0, 9, 7, 0, 0, 2, 2, 5, 0, 4, 0, 5, 2, 0, 0, 5, 0, 0, 0, 0, 0, 2, 0, 0, 0, 0, 5, 0, 0, 0, 0, 0, 2, 2, 9, 0, 0, 0, 4, 3, 0, 0, 0, 0, 2, 0, 0, 0, 5, 9, 9, 0, 0, 0, 0, 0, 2, 2, 4, 0, 0, 6, 9, 2, 0, 0, 0, 2, 2, 9, 0, 2, 0, 0, 4, 4, 0, 0, 4, 0, 0, 0, 0, 0, 9, 0, 2, 2, 0, 2, 4, 5, 6, 3, 0, 0, 0, 0, 2, 0, 3, 2, 2, 0, 2, 2, 0, 0, 9, 0, 0, 0, 0, 4, 0, 5, 2, 2, 7, 2, 2, 0, 0, 0, 0, 2, 2, 4, 4, 2, 0, 0, 0, 0, 2, 0, 5, 2, 0, 4, 4, 0, 0, 0, 0, 0, 3, 9, 0, 0, 6, 4, 4, 9, 2, 0, 0, 0, 6, 0, 0, 0, 9, 0, 0, 0, 0, 2, 4, 2, 0, 3, 3, 2, 0, 2, 4, 4, 0, 0, 0, 0, 0, 2, 0, 5, 3, 4, 5, 0, 0, 9, 0, 0, 2, 0, 3, 2, 4, 5, 2, 9, 3, 5, 0, 4, 0, 0, 2, 2, 0, 1, 9, 0, 0, 9, 8, 0, 9, 0, 0, 5, 4, 2, 0, 0, 0, 0, 0, 7, 2, 0, 5, 4, 0, 0, 0, 7, 0, 0, 6, 0, 0, 0, 0, 0, 4, 0, 0, 0, 5, 0, 0, 0, 0, 0, 0, 0, 2, 0, 0, 9, 7, 0, 0, 0, 0, 4, 0, 5, 0, 2, 0, 9, 5, 0, 6, 0, 2, 9, 9, 4, 0, 4, 2, 2, 2, 2, 0, 0, 0, 9, 0, 0, 2, 0, 9, 0, 9, 9, 0, 2, 5, 5, 0, 5, 0, 0, 0, 9, 7, 0, 0, 0, 4, 0, 0, 0, 0, 0, 0, 0, 0, 0, 0, 9, 6, 0, 0, 0, 0, 2, 0, 0, 0, 0, 0, 0, 2, 0, 7, 9, 0, 4, 0, 0, 2, 4, 0, 0, 0, 0, 4, 4, 0, 0, 2, 0, 0, 5, 6, 2, 0, 5, 0, 2, 7, 0, 0, 0, 0, 0, 0, 0, 2, 0, 0, 0, 0, 0, 0, 0, 0, 4, 4, 0, 3, 0, 0, 0, 7, 5, 4, 4, 8, 0, 2, 9, 0, 0, 0, 0, 0, 0, 0, 4, 0, 4, 9, 9, 4, 0, 0, 2, 0, 0, 2, 9, 2, 2, 2, 4, 0, 0, 2, 3, 9, 2, 0, 0, 8, 0, 0, 2, 0, 5, 0, 0, 0, 0, 0, 6, 0, 2, 2, 5, 0, 2, 0, 0, 2, 2, 4, 8, 2, 6, 3, 2, 2, 0, 0, 2, 0, 0, 2, 0, 0, 5, 0, 2, 2, 0, 0, 2, 0, 9, 0, 0, 0, 4, 0, 9, 9, 9, 4, 5, 8, 4, 0, 0, 0, 8, 9, 0, 0, 0, 9, 0, 0, 0, 0, 7, 0, 3, 0, 0, 0, 9, 0, 0, 7, 9, 0, 0, 0, 5, 0, 0, 0, 0, 0, 0, 6, 0, 9, 0, 0, 0, 0, 0, 0, 5, 0, 0, 0, 0, 0, 2, 0, 9, 0, 2, 5, 3, 0, 2, 2, 0, 6, 9, 4, 0, 8, 0, 5, 3, 0, 0, 0, 0, 0, 0, 0, 7, 0, 9, 2, 9, 0, 4, 9, 2, 0, 0, 0, 2, 9, 4, 0, 4, 0, 0, 0, 4, 2, 5, 4, 0, 9, 0, 0, 0, 9, 4, 9, 0, 0, 9, 9, 9, 2, 9, 0, 0, 5, 2, 0, 0, 9, 9, 0, 0, 9, 0, 0, 5, 0, 0, 0, 0, 0, 2, 2, 7, 0, 0, 0, 5, 9, 5, 0, 0, 0, 2, 0, 2, 3, 3, 2, 0, 0, 2, 0, 4, 9, 3, 0, 4, 5, 9, 4, 0, 0, 0, 4, 4, 2, 4, 0, 0, 0, 2, 0, 0, 0, 2, 2, 0, 6, 0, 5, 0, 0, 0, 0, 0, 0, 9, 0, 0, 0, 0, 0, 4, 9, 4, 9, 0, 0, 0, 8, 9, 9, 0, 0, 9, 0, 9, 0, 0, 0, 0, 0, 5, 5, 4, 4, 0, 0, 2, 0, 3, 9, 0, 4, 0, 9, 0, 9, 0, 0, 7, 3, 0, 2, 0, 2, 0, 0, 0, 0, 7, 9, 9, 0, 0, 0, 0, 4, 0, 0, 0, 0, 0, 0, 0, 5, 5, 0, 5, 4, 4, 9, 0, 9, 0, 0, 9, 0, 9, 0, 4, 4, 0, 9, 0, 9, 3, 6, 9, 0, 0, 8, 0, 0, 0, 9, 0, 4, 2, 7, 0, 8, 5, 0, 4, 0, 2, 0, 0, 4, 4, 0, 0, 0, 0, 6, 4, 0, 0, 9, 0, 4, 4, 2, 0, 2, 0, 0, 9, 0, 0, 4, 0, 0, 9, 9, 0, 2, 9, 0, 4, 5, 9, 0, 9, 5, 9, 0, 0, 0, 4, 0, 4, 0, 9, 4, 0, 0, 0, 9, 0, 0, 0, 5, 0, 9, 9, 9, 7, 9, 5, 0, 9, 0, 5, 0, 5, 9, 0, 9, 9, 9, 9, 4, 2, 0, 0, 0, 0, 9, 1, 4, 9, 4, 4, 9, 4, 4, 5, 0, 0, 0, 0, 0, 4, 2, 0, 0, 2, 0, 0, 0, 0, 0, 2, 7, 9, 0, 0, 0, 0, 4, 7, 9, 2, 7, 4, 0, 0, 0, 5, 0, 2, 0, 0, 2, 4, 4, 0, 4, 0, 0, 0, 0, 0, 0, 2, 0, 0, 2, 0, 7, 4, 4, 0, 0, 9, 5, 0, 0, 0, 2, 4, 4, 0, 0, 0, 9, 2, 9, 4, 0, 0, 2, 5, 0, 0, 2, 0, 5, 0, 0, 0, 0, 0, 5, 7, 0, 0, 9, 0, 9, 0, 0, 9, 9, 0, 0, 4, 0, 7, 0, 4, 0, 4, 9, 9, 9, 9, 4, 9, 0, 5, 2, 0, 0, 0, 9, 9, 9, 9, 0, 9, 5, 0, 0, 0, 4, 9, 4, 0, 0, 9, 0, 9, 0, 2, 5, 9, 0, 0, 5, 0, 5, 4, 9, 4, 0, 9, 9, 9, 0, 0, 9, 4, 0, 0, 4, 5, 0, 5, 2, 0, 5, 9, 4, 2, 2, 9, 9, 0, 0, 0, 0, 5, 0, 4, 4, 0, 7, 5, 0, 0, 0, 7, 0, 0, 0, 0, 0, 2, 0, 2, 4, 2, 2, 0, 0, 4, 9, 0, 0, 6, 2, 0, 2, 0, 0, 0, 0, 0, 0, 0, 0, 2, 0, 0, 4, 0, 0, 0, 0, 0, 0, 0, 9, 9, 5, 0, 4, 0, 9, 4, 9, 9, 0, 1, 9, 0, 0, 4, 0, 0, 0, 0, 4, 0, 0, 9, 9, 0, 9, 0, 0, 9, 0, 0, 2, 0, 5, 2, 0, 0, 9, 0, 5, 4, 9, 9, 9, 0, 4, 0, 0, 0, 4, 9, 9, 2, 4, 9, 0, 8, 4, 0, 4, 7, 5, 0, 7, 5, 0, 0, 4, 9, 3, 0, 4, 4, 0, 9, 0, 3, 5, 4, 5, 0, 5, 4, 0, 4, 0, 0, 0, 2, 4, 4, 0, 0, 4, 0, 4, 5, 5, 0, 0, 0, 0, 2, 2, 0, 0, 0, 0, 5, 5, 7, 0, 0, 0, 0, 9, 0, 9, 0, 9, 9, 0, 0, 8, 4, 9, 0, 3, 0, 3, 0, 4, 5, 9, 0, 2, 6, 0, 0, 9, 0, 0, 4, 2, 0, 4, 0, 4, 6, 0, 0, 0, 0, 0, 2, 0, 0, 5, 4, 9, 0, 0, 4, 0, 0, 2, 2, 9, 4, 0, 6, 0, 0, 9, 0, 0, 0, 2, 4, 0, 0, 4, 3, 0, 4, 0, 4, 4, 4, 9, 9, 9, 4, 4, 4, 0, 0, 0, 0, 9, 9, 4, 4, 0, 0, 0, 0, 4, 4, 2, 0, 0, 0, 0, 2, 0, 4, 4, 4, 4, 4, 0, 4, 0, 5, 0, 0, 0, 0, 0, 0, 0, 0, 0, 4, 0, 0, 4, 2, 9, 5, 9, 9, 9, 2, 0, 4, 9, 0, 0, 0, 0, 7, 0, 9, 4, 2, 5, 0, 9, 4, 5, 8, 0, 3, 0, 2, 0, 0, 9, 0, 4, 9, 9, 0, 0, 0, 0, 9, 0, 4, 0, 0, 0, 0, 0, 5, 9, 0, 9, 2, 9, 9, 9, 0, 4, 4, 5, 0, 0, 0, 2, 0, 0, 0, 2, 0, 0, 0, 7, 4, 1, 0, 5, 7, 0, 0, 1, 1, 4, 7, 7, 7, 7, 7, 1, 5, 7, 3, 1, 5, 7, 3, 3, 7, 1, 1, 7, 7, 7, 7, 0, 2, 7, 7, 1, 1, 3, 0, 7, 2, 1, 5, 8, 1, 7, 7, 7, 1, 3, 3, 6, 7, 4, 3, 7, 3, 3, 3, 3, 7, 7, 1, 7, 4, 1, 1, 2, 1, 1, 1, 1, 7, 1, 7, 6, 1, 1, 0, 3, 7, 3, 7, 1, 7, 1, 1, 3, 1, 7, 8, 1, 2, 3, 7, 1, 4, 3, 1, 3, 7, 7, 7, 4, 1, 1, 2, 1, 4, 3, 1, 1, 1, 1, 7, 1, 1, 7, 7, 3, 7, 1, 2, 1, 1, 7, 1, 2, 1, 5, 2, 3, 3, 4, 7, 4, 3, 8, 7, 7, 7, 7, 7, 5, 7, 3, 0, 4, 7, 1, 4, 1, 3, 7, 3, 3, 3, 7, 7, 1, 2, 1, 7, 7, 4, 1, 1, 3, 3, 5, 2, 1, 7, 1, 7, 4, 4, 7, 4, 2, 4, 2, 4, 3, 7, 4, 2, 6, 7, 1, 7, 8, 7, 7, 7, 7, 2, 1, 7, 7, 7, 1, 7, 7, 7, 7, 7, 1, 5, 1, 7, 1, 1, 2, 1, 1, 7, 1, 1, 2, 7, 2, 2, 1, 2, 1, 3, 7, 2, 2, 7, 3, 4, 3, 7, 1, 7, 7, 7, 7, 7, 7, 3, 7, 1, 1, 1, 2, 3, 3, 4, 7, 1, 1, 7, 7, 1, 7, 7, 3, 0, 1, 1, 6, 7, 3, 0, 3, 7, 7, 7, 7, 1, 3, 7, 3, 3, 0, 1, 2, 1, 7, 2, 1, 4, 3, 3, 7, 3, 5, 7, 1, 1, 1, 3, 7, 7, 1, 1, 1, 5, 5, 5, 3, 3, 3, 7, 1, 5, 7, 3, 3, 3, 3, 3, 7, 1, 7, 1, 2, 2, 1, 3, 3, 7, 2, 0, 1, 1, 3, 8, 3, 3, 7, 7, 8, 7, 3, 3, 1, 3, 1, 7, 1, 3, 3, 1, 1, 1, 7, 5, 7, 1, 1, 3, 8, 2, 7, 1, 3, 3, 3, 4, 1, 0, 3, 3, 0, 7, 3, 1, 0, 3, 3, 4, 2, 1, 7, 8, 7, 0, 1, 2, 7, 2, 1, 1, 7, 1, 7, 7, 8, 1, 5, 5, 1, 1, 5, 3, 7, 7, 7, 7, 5, 2, 7, 1, 7, 7, 7, 4, 4, 7, 1, 7, 5, 7, 7, 1, 7, 3, 6, 7, 1, 7, 7, 7, 5, 1, 5, 5, 3, 3, 1, 1, 1, 7, 1, 7, 7, 1, 3, 3, 1, 3, 1, 7, 7, 3, 1, 1, 1, 7, 7, 3, 7, 7, 5, 5, 7, 7, 3, 7, 7, 1, 1, 1, 8, 1, 2, 1, 7, 1, 1, 1, 7, 5, 1, 7, 3, 3, 3, 7, 7, 7, 7, 1, 2, 3, 7, 5, 1, 2, 8, 6, 1, 7, 7, 6, 4, 3, 3, 3, 5, 2, 3, 8, 1, 1, 8, 3, 8, 3, 7, 1, 5, 7, 3, 3, 1, 7, 2, 3, 7, 3, 3, 3, 7, 4, 7, 7, 4, 1, 3, 3, 1, 7, 5, 7, 7, 7, 2, 2, 0, 3, 7, 1, 1, 4, 7, 6, 3, 3, 3, 1, 1, 3, 1, 3, 2, 7, 7, 7, 7, 1, 7, 3, 7, 1, 1, 7, 3, 3, 7, 7, 3, 3, 3, 7, 7, 7, 3, 7, 7, 1, 1, 0, 8, 5, 7, 7, 7, 2, 4, 2, 1, 7, 2, 7, 3, 7, 6, 4, 1, 3, 7, 5, 6, 3, 7, 1, 4, 1, 1, 3, 5, 1, 2, 8, 7, 5, 5, 5, 3, 1, 3, 2, 2, 7, 3, 3, 3, 7, 1, 3, 7, 7, 3, 1, 1, 1, 3, 3, 3, 1, 2, 1, 1, 1, 1, 1, 4, 7, 2, 7, 3, 1, 7, 3, 1, 7, 7, 1, 7, 0, 1, 7, 1, 1, 2, 3, 2, 2, 7, 1, 3, 1, 4, 2, 7, 1, 7, 3, 1, 7, 7, 1, 1, 1, 4, 7, 1, 7, 2, 7, 3, 7, 4, 2, 1, 2, 7, 7, 7, 1, 7, 1, 7, 3, 3, 2, 1, 2, 2, 7, 2, 1, 7, 1, 1, 1, 1, 1, 7, 1, 1, 1, 7, 2, 1, 2, 1, 8, 1, 3, 1, 1, 2, 3, 1, 3, 1, 3, 7, 7, 7, 3, 3, 1, 7, 4, 1, 1, 6, 3, 1, 7, 7, 1, 7, 7, 2, 4, 2, 2, 7, 1, 0, 4, 7, 2, 4, 5, 4, 1, 2, 1, 2, 7, 1, 1, 2, 1, 7, 7, 1, 1, 0, 2, 7, 1, 1, 2, 2, 1, 7, 1, 4, 5, 5, 1, 1, 7, 2, 2, 2, 2, 2, 1, 3, 2, 3, 2, 0, 8, 1, 7, 7, 1, 3, 1, 3, 1, 3, 3, 2, 3, 3, 7, 7, 1, 7, 7, 1, 7, 7, 7, 2, 7, 1, 4, 5, 2, 7, 3, 3, 3, 0, 7, 3, 8, 1, 3, 2, 1, 2, 3, 3, 0, 1, 1, 3, 1, 1, 2, 1, 7, 6, 2, 2, 7, 1, 7, 7, 7, 1, 1, 7, 1, 1, 7, 1, 1, 2, 2, 2, 1, 2, 5, 1, 1, 1, 1, 1, 9, 3, 3, 1, 6, 2, 7, 1, 7, 3, 5, 5, 3, 7, 0, 3, 3, 7, 1, 1, 5, 3, 3, 3, 1, 3, 3, 1, 1, 3, 4, 1, 7, 2, 0, 1, 1, 1, 1, 1, 1, 1, 1, 7, 2, 7, 1, 3, 1, 1, 2, 2, 1, 2, 1, 4, 2, 1, 9, 7, 3, 1, 3, 1, 7, 2, 7, 7, 1, 5, 1, 7, 7, 7, 3, 1, 3, 7, 2, 2, 1, 1, 7, 1, 1, 7, 1, 4, 2, 7, 1, 7, 2, 7, 7, 1, 7, 0, 7, 7, 7, 7, 1, 7, 7, 7, 1, 1, 1, 7, 7, 4, 1, 7, 4, 1, 7, 5, 1, 2, 1, 1, 7, 2, 7, 3, 2, 7, 1, 7, 3, 1, 3, 3, 4, 4, 1, 1, 7, 2, 4, 4, 2, 1, 7, 1, 1, 1, 7, 2, 2, 1, 3, 3, 7, 1, 4, 1, 7, 1, 3, 5, 3, 2, 1, 4, 1, 5, 1, 0, 1, 1, 1, 7, 1, 4, 2, 5, 1, 2, 5, 1, 4, 1, 1, 2, 5, 7, 1, 1, 1, 1, 3, 7, 1, 4, 1, 1, 7, 7, 8, 1, 1, 1, 1, 1, 7, 1, 7, 3, 1, 3, 1, 1, 7, 7, 1, 1, 7, 3, 1, 8, 3, 3, 7, 3, 7, 8, 7, 4, 1, 1, 1, 7, 1, 1, 1, 7, 7, 0, 1, 2, 5, 4, 0, 1, 3, 5, 4, 1, 1, 7, 2, 7, 2, 1, 4, 1, 7, 1, 1, 7, 8, 7, 1, 1, 4, 1, 0, 0, 1, 2, 2, 2, 3, 1, 7, 1, 7, 1, 2, 2, 2, 4, 2, 1, 1, 4, 1, 4, 4, 2, 3, 2, 4, 2, 2, 7, 7, 7, 5, 1, 0, 1, 1, 1, 7, 7, 3, 3, 4, 8, 2, 2, 2, 1, 7, 1, 1, 1, 2, 1, 1, 1, 2, 2, 2, 2, 1, 2, 7, 1, 1, 1, 7, 3, 1, 7, 7, 1, 3, 8, 3, 7, 1, 5, 2, 5, 3, 7, 1, 2, 1, 1, 1, 3, 1, 1, 1, 3, 1, 5, 1, 7, 7, 7, 2, 3, 7, 2, 1, 3, 7, 7, 1, 7, 7, 7, 7, 2, 1, 3, 3, 3, 7, 7, 1, 7, 3, 0, 3, 3, 3, 1, 2, 3, 2, 7, 5, 1, 1, 1, 7, 5, 1, 1, 3, 3, 1, 5, 7, 5, 3, 5, 3, 7, 0, 3, 7, 1, 1, 7, 7, 3, 3, 3, 1, 7, 1, 1, 4, 4, 7, 7, 7, 0, 7, 8, 1, 7, 1, 1, 7, 1, 1, 7, 7, 5, 2, 3, 5, 1, 2, 0, 2, 4, 1, 3, 1, 4, 1, 7, 1, 0, 2, 8, 1, 7, 7, 0, 7, 3, 7, 2, 4, 1, 5, 3, 3, 6, 2, 1, 3, 1, 3, 1, 7, 7, 1, 3, 3, 3, 7, 7, 7, 7, 4, 3, 7, 7, 1, 3, 1, 7, 7, 1, 3, 1, 7, 1, 7, 8, 3, 2, 4, 7, 7, 0, 7, 3, 7, 3, 7, 1, 7, 0, 1, 1, 1, 6, 4, 1, 3, 3, 3, 1, 1, 7, 1, 1, 3, 2, 2, 2, 4, 5, 1, 1, 0, 2, 1, 5, 0, 2, 5, 1, 0, 1, 3, 7, 1, 3, 7, 7, 7, 1, 1, 3, 1, 2, 2, 1, 5, 1, 7, 7, 3, 3, 1, 7, 0, 5, 3, 3, 5, 3, 1, 3, 1, 0, 1, 2, 1, 7, 4, 1, 1, 2, 7, 2, 8, 1, 7, 7, 1, 3, 1, 1, 7, 1, 3, 1, 7, 7, 2, 1, 7, 4, 7, 7, 3, 5, 7, 7, 3, 3, 2, 7, 3, 4, 2, 1, 1, 1, 1, 4, 1, 7, 4, 1, 2, 4, 7, 2, 7, 1, 1, 1, 3, 5, 8, 3, 5, 0, 4, 1, 2, 1, 1, 1, 1, 1, 3, 7, 7, 3, 7, 7, 7, 1, 1, 1, 1, 2, 1, 2, 4, 2, 5, 7, 7, 2, 7, 1, 1, 7, 3, 1, 1, 7, 1, 2, 1, 1, 2, 1, 2, 1, 0, 4, 0, 2, 7, 1, 1, 3, 1, 5, 1, 5, 7, 3, 3, 3, 4, 3, 8, 1, 1, 1, 4, 2, 2, 8, 7, 7, 4, 4, 3, 2, 1, 1, 7, 7, 1, 2, 1, 1, 4, 1, 0, 1, 2, 7, 4, 7, 5, 8, 8, 1, 4, 5, 2, 3, 3, 3, 7, 3, 1, 1, 1, 1, 1, 2, 3, 2, 7, 1, 3, 4, 1, 1, 3, 8, 2, 3, 1, 5, 1, 8, 2, 3, 0, 3, 3, 3, 7, 4, 7, 7, 1, 1, 1, 5, 7, 3, 7, 0, 7, 1, 1, 7, 1, 1, 1, 7, 9, 1, 2, 2, 6, 7, 7, 3, 1, 3, 1, 2, 1, 7, 1, 1, 7, 7, 7, 3, 3, 7, 7, 1, 0, 5, 1, 9, 1, 7, 8, 1, 5, 8, 1, 7, 1, 1, 5, 7, 5, 8, 2, 2, 1, 3, 1, 2, 7, 2, 1, 1, 3, 3, 5, 3, 4, 7, 1, 2, 5, 9, 3, 8, 4, 8, 7, 7, 1, 1, 5, 1, 7, 5, 9, 1, 1, 1, 4, 0, 1, 2, 1, 3, 1, 1, 7, 7, 1, 1, 3, 1, 1, 4, 1, 7, 7, 7, 1, 2, 5, 1, 5, 7, 7, 1, 4, 3, 4, 1, 5, 7, 7, 1, 7, 1, 4, 3, 3, 5, 2, 1, 4, 2, 3, 4, 7, 7, 3, 4, 4, 7, 1, 1, 7, 0, 9, 5, 3, 1, 1, 1, 9, 1, 1, 1, 3, 0, 3, 1, 3, 1, 2, 7, 4, 7, 3, 0, 8, 1, 1, 3, 7, 1, 1, 7, 7, 0, 7, 1, 1, 7, 7, 4, 1, 7, 7, 3, 7, 7, 7, 3, 2, 0, 7, 7, 1, 7, 1, 7, 3, 1, 7, 7, 7, 6, 3, 1, 1, 5, 1, 3, 3, 3, 1, 3, 7, 5, 7, 1, 7, 1, 5, 2, 2, 3, 6, 0, 5, 1, 2, 3, 1, 3, 7, 1, 7, 9, 1, 3, 1, 9, 5, 9, 7, 1, 2, 1, 7, 7, 7, 1, 0, 7, 1, 3, 3, 1, 2, 1, 1, 1, 1, 1, 1, 2, 2, 2, 1, 3, 2, 1, 5, 1, 5, 1, 7, 4, 4, 4, 1, 7, 7, 1, 7, 7, 2, 4, 5, 1, 1, 2, 2, 2, 1, 0, 4, 4, 2, 7, 2, 2, 2, 1, 1, 1, 1, 1, 1, 1, 1, 6, 2, 2, 2, 3, 2, 2, 2, 2, 2, 2, 2, 2, 2, 2, 2, 2, 2, 2, 2, 3, 2, 2, 2, 6, 3, 2, 2, 2, 2, 2, 2, 2, 9, 3, 2, 2, 2, 2, 2, 2, 2, 2, 2, 2, 3, 7, 2, 2, 2, 3, 2, 2, 2, 0, 3, 2, 2, 2, 2, 2, 2, 2, 2, 2, 2, 2, 2, 2, 2, 8, 2, 3, 8, 3, 2, 2, 2, 2, 2, 2, 2, 2, 2, 2, 2, 2, 2, 2, 2, 2, 3, 2, 8, 2, 3, 2, 2, 2, 5, 3, 2, 3, 2, 5, 2, 2, 2, 2, 3, 3, 2, 4, 2, 2, 2, 2, 2, 2, 2, 2, 2, 2, 5, 2, 2, 2, 2, 2, 5, 5, 2, 4, 2, 2, 2, 2, 2, 2, 6, 2, 2, 2, 3, 2, 2, 3, 3, 5, 2, 2, 5, 2, 2, 2, 2, 2, 2, 5, 2, 2, 2, 2, 2, 2, 2, 2, 2, 3, 2, 2, 5, 3, 2, 5, 2, 5, 2, 3, 2, 2, 2, 2, 2, 2, 2, 1, 8, 2, 2, 2, 3, 2, 2, 6, 2, 3, 2, 5, 5, 2, 3, 2, 2, 2, 2, 2, 2, 7, 5, 2, 2, 2, 2, 2, 2, 2, 2, 2, 2, 2, 2, 2, 0, 2, 2, 1, 4, 2, 2, 2, 2, 2, 2, 5, 2, 2, 8, 4, 6, 2, 8, 2, 2, 2, 2, 2, 2, 2, 3, 5, 8, 2, 5, 2, 2, 2, 5, 2, 2, 3, 2, 2, 2, 5, 5, 5, 2, 2, 2, 0, 0, 3, 3, 3, 2, 2, 8, 7, 2, 2, 2, 3, 3, 3, 2, 2, 7, 2, 0, 2, 2, 2, 2, 2, 2, 2, 2, 2, 5, 5, 2, 2, 6, 5, 5, 2, 2, 2, 2, 2, 2, 3, 2, 2, 5, 5, 5, 8, 9, 2, 5, 2, 2, 3, 3, 2, 3, 5, 0, 2, 2, 2, 3, 2, 2, 2, 2, 2, 2, 2, 2, 1, 2, 5, 2, 2, 2, 2, 2, 3, 2, 2, 0, 2, 0, 0, 2, 0, 2, 2, 2, 3, 2, 2, 5, 5, 3, 0, 2, 2, 2, 2, 2, 6, 2, 5, 2, 1, 2, 2, 2, 2, 2, 5, 2, 2, 0, 2, 2, 2, 2, 2, 3, 2, 2, 2, 2, 5, 2, 2, 2, 2, 2, 6, 2, 3, 2, 2, 2, 3, 3, 2, 2, 2, 6, 3, 2, 2, 2, 2, 2, 2, 2, 0, 0, 0, 2, 2, 1, 5, 8, 6, 2, 2, 2, 2, 2, 2, 3, 2, 2, 2, 5, 2, 2, 2, 2, 2, 2, 2, 3, 2, 3, 2, 2, 2, 2, 2, 2, 2, 2, 2, 2, 2, 2, 2, 3, 3, 6, 2, 2, 2, 2, 2, 2, 8, 2, 5, 2, 2, 2, 2, 2, 8, 2, 3, 2, 2, 2, 8, 7, 7, 2, 6, 2, 1, 2, 1, 2, 2, 0, 2, 3, 2, 2, 2, 3, 2, 2, 2, 2, 2, 2, 2, 3, 2, 2, 2, 2, 2, 2, 3, 3, 2, 2, 6, 5, 7, 5, 2, 2, 2, 2, 2, 3, 3, 2, 2, 2, 2, 2, 7, 3, 2, 2, 5, 0, 2, 2, 2, 0, 3, 2, 2, 2, 9, 7, 2, 4, 2, 5, 7, 2, 3, 8, 2, 2, 4, 2, 2, 2, 2, 2, 2, 2, 2, 2, 2, 7, 2, 3, 1, 1, 1, 8, 1, 3, 4, 4, 4, 2, 4, 2, 8, 5, 2, 2, 2, 2, 5, 5, 7, 2, 8, 2, 1, 9, 5, 2, 5, 0, 7, 2, 7, 1, 7, 7, 2, 5, 2, 2, 2, 2, 2, 2, 2, 4, 4, 0, 2, 2, 2, 2, 2, 3, 2, 2, 2, 5, 2, 1, 2, 2, 2, 1, 2, 2, 2, 2, 2, 5, 2, 2, 5, 2, 2, 8, 1, 6, 2, 0, 2, 2, 3, 3, 5, 2, 2, 2, 2, 3, 3, 7, 6, 2, 2, 2, 2, 2, 2, 2, 5, 2, 7, 2, 2, 0, 2, 0, 5, 2, 2, 0, 5, 3, 2, 8, 6, 2, 2, 5, 2, 2, 3, 2, 2, 6, 5, 2, 2, 2, 0, 2, 3, 1, 2, 2, 3, 2, 2, 3, 2, 2, 2, 1, 2, 6, 3, 2, 2, 7, 2, 2, 2, 1, 2, 3, 2, 2, 2, 2, 2, 1, 2, 2, 5, 2, 2, 2, 2, 6, 2, 0, 2, 1, 1, 2, 4, 2, 0, 2, 2, 5, 5, 3, 2, 2, 2, 0, 2, 2, 9, 2, 2, 4, 2, 2, 2, 2, 0, 2, 2, 7, 3, 3, 2, 2, 0, 2, 4, 2, 2, 2, 2, 2, 2, 2, 2, 2, 2, 2, 7, 2, 3, 2, 2, 4, 2, 2, 2, 2, 0, 2, 2, 2, 3, 2, 3, 2, 0, 2, 2, 2, 2, 3, 2, 2, 2, 2, 2, 2, 0, 2, 6, 2, 2, 2, 2, 2, 2, 2, 2, 0, 2, 2, 8, 2, 2, 0, 2, 2, 2, 5, 5, 2, 2, 3, 7, 2, 2, 2, 2, 2, 2, 2, 3, 2, 3, 2, 2, 2, 2, 2, 2, 7, 2, 2, 2, 2, 3, 2, 2, 2, 3, 2, 0, 2, 2, 5, 2, 2, 2, 2, 2, 2, 2, 0, 2, 2, 6, 2, 2, 2, 5, 2, 0, 2, 2, 2, 2, 2, 2, 2, 2, 7, 2, 2, 2, 2, 2, 2, 3, 2, 0, 3, 3, 2, 6, 2, 2, 2, 2, 1, 2, 0, 2, 2, 5, 2, 2, 2, 1, 2, 2, 2, 0, 0, 3, 2, 6, 0, 1, 3, 5, 2, 2, 2, 2, 2, 2, 7, 2, 2, 2, 0, 2, 3, 2, 2, 2, 3, 2, 2, 2, 2, 3, 2, 2, 2, 2, 2, 3, 2, 5, 1, 2, 2, 2, 5, 2, 0, 2, 2, 2, 2, 2, 2, 2, 2, 2, 2, 2, 2, 0, 3, 0, 5, 2, 2, 6, 6, 0, 2, 2, 2, 2, 2, 0, 2, 2, 2, 2, 2, 2, 2, 2, 2, 2, 2, 2, 2, 2, 2, 2, 6, 2, 0, 2, 2, 2, 2, 2, 2, 2, 2, 0, 2, 5, 2, 3, 2, 2, 2, 2, 0, 3, 3, 2, 2, 5, 3, 3, 2, 2, 2, 2, 0, 2, 2, 2, 2, 2, 2, 2, 5, 2, 2, 2, 2, 2, 2, 2, 2, 2, 2, 5, 2, 2, 2, 2, 2, 6, 2, 2, 2, 2, 2, 2, 2, 2, 2, 2, 5, 2, 0, 2, 6, 2, 2, 2, 2, 2, 2, 2, 2, 2, 3, 0, 3, 2, 2, 3, 2, 2, 2, 2, 5, 2, 3, 0, 2, 2, 2, 2, 2, 8, 2, 3, 2, 3, 3, 2, 2, 2, 0, 2, 2, 3, 5, 2, 2, 0, 2, 4, 2, 2, 7, 6, 2, 2, 2, 2, 2, 6, 2, 2, 2, 2, 2, 2, 1, 5, 2, 3, 3, 2, 2, 2, 2, 2, 2, 2, 7, 2, 7, 5, 2, 0, 2, 2, 2, 2, 2, 2, 2, 0, 0, 2, 2, 2, 5, 2, 2, 2, 2, 2, 2, 5, 2, 2, 2, 2, 2, 0, 5, 2, 2, 2, 2, 2, 2, 2, 3, 2, 2, 2, 2, 2, 2, 5, 2, 2, 2, 2, 2, 2, 2, 2, 2, 2, 2, 2, 2, 5, 2, 3, 2, 3, 2, 0, 2, 2, 2, 2, 2, 4, 2, 2, 2, 2, 2, 0, 2, 2, 2, 2, 2, 2, 2, 3, 2, 2, 2, 2, 2, 2, 2, 2, 5, 5, 2, 2, 2, 2, 2, 2, 2, 2, 2, 0, 2, 2, 2, 2, 2, 2, 2, 5, 2, 5, 5, 2, 5, 2, 2, 2, 2, 2, 6, 2, 1, 2, 2, 2, 2, 2, 2, 3, 2, 2, 2, 2, 2, 8, 2, 5, 3, 3, 2, 3, 2, 2, 3, 2, 2, 2, 2, 2, 2, 2, 2, 5, 2, 2, 3, 2, 5, 2, 2, 3, 2, 2, 5, 2, 2, 2, 2, 2, 2, 2, 2, 2, 2, 2, 0, 2, 2, 2, 2, 2, 2, 7, 2, 2, 2, 2, 2, 2, 4, 2, 4, 1, 5, 2, 3, 2, 2, 3, 2, 2, 2, 2, 2, 3, 2, 2, 2, 6, 0, 2, 2, 2, 0, 2, 2, 2, 2, 5, 2, 5, 3, 1, 2, 7, 2, 2, 6, 2, 2, 5, 3, 2, 2, 2, 6, 2, 2, 2, 3, 2, 2, 2, 2, 2, 2, 2, 2, 2, 2, 2, 2, 5, 5, 2, 3, 2, 2, 5, 2, 4, 3, 2, 2, 3, 2, 2, 2, 6, 5, 5, 2, 6, 4, 0, 2, 2, 0, 5, 2, 2, 3, 2, 2, 2, 2, 5, 4, 2, 6, 8, 7, 2, 2, 2, 5, 3, 2, 2, 2, 2, 2, 2, 2, 2, 3, 2, 2, 2, 2, 0, 0, 2, 2, 2, 2, 2, 2, 2, 2, 2, 2, 2, 2, 2, 2, 2, 2, 0, 2, 2, 2, 2, 2, 2, 3, 2, 2, 4, 2, 5, 0, 2, 2, 3, 5, 2, 2, 2, 2, 2, 0, 5, 0, 2, 2, 3, 7, 2, 2, 2, 2, 5, 2, 2, 7, 2, 3, 2, 2, 2, 2, 2, 2, 2, 2, 2, 2, 1, 2, 2, 2, 2, 6, 0, 3, 2, 2, 2, 2, 2, 2, 5, 2, 2, 2, 2, 2, 3, 2, 2, 2, 2, 3, 6, 0, 3, 2, 2, 2, 2, 2, 2, 3, 2, 2, 2, 7, 2, 3, 5, 5, 2, 5, 2, 2, 6, 0, 2, 2, 3, 2, 7, 2, 2, 2, 2, 2, 2, 2, 2, 2, 2, 2, 2, 2, 2, 2, 2, 2, 2, 2, 2, 5, 2, 2, 5, 2, 2, 2, 3, 2, 2, 2, 2, 2, 2, 2, 2, 2, 2, 2, 8, 3, 2, 2, 5, 2, 2, 2, 3, 2, 0, 3, 3, 3, 2, 2, 2, 0, 2, 2, 2, 2, 0, 2, 2, 2, 2, 2, 2, 0, 4, 2, 2, 2, 3, 2, 0, 2, 2, 2, 2, 3, 2, 6, 2, 2, 2, 9, 2, 2, 2, 3, 0, 2, 2, 2, 2, 2, 2, 2, 2, 2, 2, 2, 2, 2, 3, 2, 2, 2, 2, 2, 0, 2, 0, 2, 2, 3, 2, 3, 2, 2, 2, 2, 2, 2, 2, 2, 2, 2, 2, 3, 2, 2, 2, 2, 2, 1, 2, 8, 2, 2, 3, 2, 2, 2, 2, 3, 2, 2, 2, 3, 2, 2, 2, 2, 2, 2, 2, 2, 2, 2, 2, 2, 2, 2, 2, 0, 0, 0, 2, 2, 2, 5, 2, 5, 3, 3, 5, 3, 0, 2, 2, 0, 2, 2, 2, 2, 2, 2, 2, 2, 2, 2, 2, 2, 2, 2, 2, 2, 2, 3, 5, 3, 2, 0, 3, 3, 3, 2, 2, 2, 2, 2, 2, 2, 2, 4, 3, 5, 2, 2, 2, 2, 3, 2, 5, 5, 1, 3, 5, 0, 3, 2, 2, 2, 2, 2, 2, 2, 0, 2, 2, 2, 3, 2, 2, 2, 5, 6, 2, 2, 2, 4, 2, 2, 2, 2, 6, 2, 2, 2, 2, 2, 5, 2, 2, 2, 2, 2, 2, 2, 0, 2, 2, 8, 2, 2, 0, 2, 5, 2, 3, 2, 2, 6, 2, 2, 5, 2, 0, 2, 2, 2, 2, 2, 2, 2, 2, 2, 2, 2, 3, 3, 3, 2, 2, 0, 4, 2, 2, 2, 2, 2, 2, 2, 2, 2, 2, 2, 2, 2, 2, 2, 2, 2, 2, 6, 2, 2, 3, 2, 2, 2, 2, 2, 2, 2, 2, 2, 2, 2, 2, 3, 2, 2, 2, 2, 2, 2, 3, 2, 2, 5, 2, 2, 2, 0, 2, 2, 2, 2, 2, 2, 5, 2, 2, 2, 3, 2, 3, 2, 2, 2, 2, 2, 2, 3, 3, 3, 3, 3, 3, 3, 3, 3, 3, 3, 3, 3, 5, 3, 3, 3, 3, 3, 3, 3, 3, 3, 2, 3, 3, 3, 5, 3, 1, 3, 5, 3, 8, 3, 6, 2, 5, 3, 3, 3, 3, 3, 3, 3, 3, 2, 9, 5, 7, 3, 3, 5, 3, 3, 6, 3, 5, 3, 6, 3, 3, 3, 3, 2, 3, 3, 3, 3, 2, 7, 3, 3, 3, 3, 3, 3, 3, 3, 3, 3, 3, 5, 3, 3, 3, 0, 3, 3, 3, 3, 3, 3, 3, 3, 3, 5, 2, 1, 3, 3, 5, 5, 3, 2, 2, 2, 3, 3, 3, 5, 0, 3, 3, 2, 3, 3, 3, 3, 5, 5, 3, 5, 5, 5, 5, 7, 3, 3, 5, 3, 3, 5, 2, 5, 5, 3, 3, 8, 8, 3, 3, 9, 7, 3, 3, 5, 3, 3, 3, 3, 7, 3, 3, 3, 3, 3, 3, 3, 3, 5, 3, 3, 3, 3, 5, 7, 5, 5, 3, 3, 3, 3, 3, 5, 3, 9, 3, 8, 5, 3, 1, 3, 3, 3, 3, 2, 9, 3, 3, 3, 3, 3, 3, 3, 3, 3, 0, 3, 1, 3, 3, 2, 3, 3, 3, 3, 3, 7, 3, 3, 3, 3, 0, 3, 2, 3, 3, 3, 3, 3, 3, 3, 3, 5, 3, 3, 3, 3, 3, 3, 3, 3, 2, 3, 3, 3, 3, 3, 3, 3, 3, 3, 3, 3, 5, 3, 3, 3, 5, 5, 0, 3, 0, 3, 3, 3, 3, 2, 3, 3, 3, 3, 3, 3, 3, 3, 8, 3, 3, 3, 3, 3, 3, 5, 3, 3, 3, 3, 3, 3, 3, 5, 3, 5, 2, 3, 3, 3, 3, 3, 3, 7, 3, 3, 0, 3, 3, 2, 4, 5, 8, 3, 5, 5, 3, 5, 3, 2, 3, 3, 3, 3, 3, 3, 3, 3, 3, 3, 3, 3, 2, 7, 5, 3, 3, 2, 9, 3, 3, 2, 3, 3, 3, 3, 3, 3, 3, 3, 3, 3, 3, 6, 3, 5, 3, 3, 2, 3, 3, 3, 5, 3, 3, 0, 3, 5, 2, 3, 3, 2, 5, 3, 3, 5, 5, 3, 3, 3, 3, 3, 5, 3, 3, 3, 5, 2, 5, 3, 3, 3, 3, 2, 3, 3, 3, 5, 3, 3, 3, 3, 0, 2, 5, 8, 3, 3, 3, 3, 3, 3, 3, 3, 0, 3, 3, 2, 5, 2, 3, 3, 3, 2, 3, 3, 2, 2, 3, 2, 3, 3, 3, 3, 3, 5, 5, 3, 3, 3, 3, 5, 3, 3, 0, 7, 3, 3, 3, 3, 5, 3, 3, 3, 0, 3, 3, 3, 3, 3, 3, 3, 3, 3, 0, 3, 3, 5, 3, 3, 3, 3, 3, 3, 3, 5, 3, 2, 2, 6, 3, 3, 3, 3, 3, 7, 6, 3, 3, 9, 3, 3, 3, 3, 3, 3, 3, 3, 2, 3, 3, 5, 0, 0, 3, 5, 3, 6, 5, 8, 3, 3, 3, 3, 3, 5, 2, 3, 3, 3, 3, 3, 0, 3, 7, 7, 3, 3, 3, 3, 3, 3, 3, 2, 2, 3, 3, 3, 3, 0, 3, 3, 3, 3, 1, 3, 3, 3, 3, 3, 3, 3, 3, 5, 3, 3, 3, 3, 3, 3, 3, 3, 3, 3, 3, 3, 3, 2, 3, 3, 2, 3, 3, 3, 3, 3, 5, 5, 3, 2, 5, 3, 3, 7, 7, 3, 3, 3, 3, 3, 3, 3, 3, 3, 3, 5, 5, 3, 2, 2, 3, 3, 3, 2, 5, 3, 3, 5, 3, 5, 2, 5, 0, 8, 3, 3, 2, 1, 3, 3, 3, 3, 3, 3, 2, 5, 2, 3, 3, 3, 3, 3, 5, 3, 3, 3, 5, 3, 3, 5, 3, 3, 3, 3, 3, 3, 3, 3, 3, 3, 3, 3, 3, 2, 3, 5, 3, 3, 5, 3, 3, 5, 5, 3, 5, 3, 3, 1, 5, 7, 5, 3, 3, 3, 3, 3, 3, 3, 3, 3, 2, 3, 3, 6, 3, 3, 3, 3, 3, 3, 5, 1, 5, 3, 3, 3, 3, 3, 3, 3, 3, 3, 3, 3, 3, 3, 3, 3, 3, 3, 5, 8, 3, 3, 3, 3, 5, 3, 2, 0, 3, 5, 3, 3, 3, 5, 3, 3, 3, 3, 3, 3, 5, 3, 5, 3, 3, 3, 3, 3, 2, 3, 3, 3, 3, 3, 3, 5, 5, 3, 3, 3, 3, 3, 3, 3, 3, 3, 3, 3, 3, 3, 3, 3, 3, 3, 3, 3, 3, 3, 3, 0, 3, 3, 3, 3, 3, 1, 5, 3, 3, 5, 3, 3, 3, 2, 3, 3, 7, 3, 3, 3, 3, 3, 5, 5, 3, 3, 3, 3, 3, 3, 3, 3, 3, 3, 5, 5, 3, 3, 3, 1, 2, 2, 3, 3, 2, 3, 7, 3, 3, 5, 3, 3, 3, 3, 3, 3, 3, 2, 3, 3, 3, 3, 5, 3, 3, 2, 3, 3, 3, 5, 3, 3, 3, 3, 3, 3, 3, 3, 3, 2, 3, 3, 3, 3, 3, 3, 0, 3, 3, 3, 3, 3, 3, 5, 3, 3, 3, 3, 3, 5, 3, 3, 3, 3, 3, 3, 3, 3, 7, 3, 3, 3, 5, 3, 3, 3, 3, 3, 3, 3, 2, 3, 2, 3, 3, 2, 3, 3, 3, 3, 3, 3, 3, 3, 3, 5, 0, 3, 3, 8, 1, 3, 3, 3, 5, 3, 3, 3, 3, 3, 3, 3, 3, 0, 3, 2, 3, 5, 3, 3, 3, 3, 3, 2, 3, 3, 5, 5, 3, 3, 3, 5, 3, 3, 3, 3, 3, 4, 3, 3, 3, 3, 3, 3, 3, 5, 3, 3, 3, 3, 5, 2, 5, 3, 3, 5, 3, 3, 3, 3, 3, 2, 3, 3, 3, 3, 3, 2, 3, 3, 3, 3, 3, 3, 3, 5, 5, 3, 3, 3, 3, 3, 5, 3, 2, 5, 5, 5, 3, 3, 3, 3, 9, 3, 3, 3, 3, 3, 7, 3, 3, 3, 3, 3, 3, 3, 2, 2, 3, 3, 3, 3, 3, 3, 3, 3, 3, 3, 3, 3, 6, 2, 3, 3, 3, 3, 3, 3, 3, 3, 3, 3, 3, 3, 5, 3, 3, 3, 3, 3, 3, 3, 3, 3, 5, 3, 5, 5, 3, 3, 5, 3, 3, 3, 3, 3, 3, 3, 3, 3, 3, 2, 3, 8, 3, 5, 3, 3, 3, 3, 3, 3, 3, 3, 3, 5, 3, 3, 5, 3, 3, 5, 3, 3, 3, 3, 3, 3, 0, 3, 2, 3, 3, 3, 3, 3, 3, 3, 3, 3, 3, 3, 3, 3, 3, 3, 3, 5, 3, 3, 7, 3, 3, 3, 3, 3, 3, 3, 5, 3, 3, 3, 3, 3, 3, 3, 3, 3, 5, 3, 8, 3, 3, 3, 5, 3, 3, 3, 2, 3, 3, 3, 3, 3, 3, 5, 3, 3, 3, 3, 3, 3, 3, 3, 3, 3, 3, 3, 3, 3, 3, 3, 3, 5, 2, 3, 3, 3, 3, 3, 3, 3, 3, 3, 3, 3, 2, 3, 3, 3, 3, 3, 3, 3, 3, 3, 3, 3, 3, 3, 3, 3, 3, 3, 2, 3, 3, 3, 3, 3, 3, 3, 3, 3, 3, 3, 3, 3, 3, 3, 3, 3, 3, 3, 2, 3, 3, 3, 5, 3, 3, 3, 3, 3, 3, 3, 3, 3, 3, 3, 3, 3, 5, 3, 3, 3, 3, 3, 5, 5, 3, 3, 3, 5, 3, 3, 3, 3, 3, 5, 5, 3, 5, 3, 5, 3, 3, 3, 3, 5, 3, 3, 3, 2, 3, 3, 3, 3, 3, 3, 3, 3, 3, 3, 3, 3, 3, 5, 3, 8, 3, 3, 3, 2, 3, 3, 3, 3, 3, 3, 3, 3, 5, 5, 3, 3, 3, 3, 3, 3, 3, 3, 3, 0, 3, 3, 0, 2, 3, 3, 3, 3, 3, 3, 3, 3, 3, 3, 3, 3, 2, 5, 3, 3, 3, 3, 3, 3, 3, 3, 3, 3, 3, 3, 3, 3, 3, 0, 3, 3, 3, 5, 3, 3, 3, 3, 3, 3, 3, 3, 5, 3, 3, 3, 3, 3, 3, 3, 3, 3, 2, 3, 3, 3, 3, 3, 3, 8, 3, 3, 3, 3, 3, 2, 3, 3, 5, 8, 5, 3, 3, 5, 2, 3, 3, 3, 3, 3, 3, 3, 2, 3, 3, 5, 3, 3, 3, 3, 3, 3, 5, 3, 3, 5, 3, 3, 3, 3, 5, 3, 3, 3, 3, 3, 2, 0, 3, 5, 3, 3, 3, 5, 3, 3, 3, 3, 3, 3, 3, 2, 3, 2, 3, 3, 3, 3, 3, 3, 3, 3, 3, 3, 5, 3, 3, 3, 3, 3, 5, 3, 3, 3, 3, 3, 3, 3, 3, 9, 3, 3, 3, 3, 3, 3, 3, 5, 3, 3, 3, 5, 3, 3, 2, 3, 3, 3, 5, 3, 3, 3, 3, 3, 5, 3, 3, 5, 5, 3, 2, 3, 3, 3, 3, 3, 3, 3, 3, 3, 3, 3, 3, 3, 3, 3, 3, 3, 3, 3, 3, 3, 3, 3, 3, 3, 3, 3, 3, 3, 3, 3, 0, 3, 3, 3, 3, 3, 3, 3, 3, 3, 3, 3, 3, 3, 3, 3, 3, 3, 3, 3, 3, 3, 3, 5, 3, 3, 5, 3, 3, 3, 3, 3, 3, 3, 3, 3, 3, 3, 3, 3, 3, 3, 3, 3, 3, 3, 5, 8, 3, 3, 3, 3, 5, 3, 3, 3, 2, 3, 3, 3, 3, 5, 3, 3, 2, 3, 3, 3, 5, 5, 5, 3, 3, 3, 2, 3, 3, 3, 3, 2, 3, 3, 3, 3, 3, 3, 3, 3, 3, 7, 9, 3, 3, 3, 3, 3, 0, 3, 3, 3, 2, 3, 3, 3, 3, 3, 5, 3, 3, 0, 3, 3, 5, 3, 5, 3, 3, 3, 3, 3, 3, 6, 3, 3, 3, 3, 5, 3, 3, 5, 3, 2, 9, 3, 3, 3, 3, 3, 0, 3, 3, 3, 3, 3, 3, 3, 3, 5, 5, 3, 3, 2, 3, 3, 3, 3, 3, 3, 3, 3, 3, 3, 3, 3, 0, 3, 3, 3, 3, 3, 3, 3, 3, 3, 3, 3, 3, 5, 5, 3, 0, 3, 0, 3, 3, 3, 3, 3, 3, 3, 3, 3, 5, 3, 2, 3, 3, 3, 3, 3, 3, 3, 3, 2, 3, 3, 3, 3, 3, 2, 3, 2, 2, 3, 3, 3, 3, 3, 5, 3, 3, 5, 3, 3, 3, 3, 3, 3, 3, 3, 3, 3, 3, 5, 5, 3, 3, 1, 5, 3, 3, 3, 3, 3, 3, 3, 3, 5, 3, 3, 3, 3, 3, 5, 3, 3, 8, 8, 3, 3, 8, 3, 3, 3, 3, 3, 3, 3, 3, 3, 3, 3, 3, 3, 5, 3, 3, 3, 3, 3, 3, 5, 3, 3, 3, 5, 3, 5, 3, 3, 3, 3, 3, 3, 3, 3, 3, 2, 3, 5, 3, 5, 5, 3, 3, 3, 3, 3, 3, 3, 2, 3, 2, 4, 3, 3, 3, 3, 3, 3, 3, 8, 3, 3, 3, 3, 3, 3, 3, 2, 3, 3, 3, 5, 3, 3, 3, 3, 5, 3, 3, 3, 3, 3, 3, 3, 3, 3, 2, 3, 3, 3, 3, 0, 3, 3, 3, 3, 2, 3, 3, 3, 3, 3, 3, 3, 3, 8, 3, 3, 3, 3, 3, 3, 3, 3, 3, 5, 5, 0, 5, 5, 3, 5, 2, 3, 3, 3, 3, 3, 3, 3, 3, 3, 3, 3, 3, 3, 0, 3, 5, 3, 3, 3, 3, 3, 3, 3, 3, 2, 3, 3, 3, 3, 3, 3, 3, 3, 3, 3, 0, 3, 3, 3, 5, 3, 3, 5, 5, 3, 3, 2, 3, 3, 7, 3, 3, 3, 3, 3, 3, 0, 3, 0, 3, 3, 9, 3, 3, 3, 3, 3, 3, 3, 5, 3, 3, 5, 3, 3, 3, 3, 5, 3, 2, 2, 5, 3, 3, 3, 3, 3, 3, 2, 3, 3, 5, 3, 3, 6, 9, 9, 7, 4, 4, 8, 4, 4, 4, 4, 9, 5, 6, 2, 4, 4, 4, 4, 9, 4, 4, 4, 4, 4, 4, 8, 4, 7, 4, 4, 4, 4, 9, 4, 4, 4, 4, 7, 4, 7, 4, 4, 4, 7, 8, 8, 0, 8, 3, 7, 3, 3, 3, 4, 7, 5, 4, 4, 4, 4, 7, 4, 7, 4, 4, 4, 4, 2, 7, 4, 9, 7, 4, 7, 7, 7, 4, 4, 4, 4, 4, 4, 4, 4, 4, 4, 4, 4, 7, 4, 0, 0, 8, 0, 4, 4, 4, 4, 4, 4, 4, 4, 4, 4, 4, 4, 4, 4, 4, 5, 4, 4, 0, 7, 4, 5, 4, 0, 4, 4, 2, 4, 7, 4, 4, 2, 4, 7, 4, 0, 1, 4, 4, 9, 9, 9, 4, 4, 3, 7, 9, 7, 4, 4, 5, 9, 9, 9, 9, 9, 0, 0, 4, 4, 4, 5, 7, 1, 1, 1, 7, 2, 9, 9, 4, 9, 4, 4, 7, 4, 0, 4, 6, 4, 2, 2, 4, 4, 4, 4, 8, 8, 7, 4, 7, 4, 7, 4, 1, 4, 4, 4, 4, 4, 4, 7, 7, 4, 7, 7, 4, 0, 0, 0, 5, 4, 5, 4, 4, 4, 4, 4, 8, 5, 5, 4, 4, 4, 4, 4, 4, 4, 8, 5, 1, 4, 4, 2, 9, 7, 4, 4, 4, 5, 1, 7, 7, 0, 4, 4, 4, 8, 0, 4, 1, 4, 7, 7, 8, 4, 4, 7, 3, 4, 7, 4, 7, 7, 4, 4, 0, 4, 4, 4, 0, 4, 4, 3, 4, 4, 4, 4, 0, 7, 1, 4, 4, 4, 9, 4, 7, 4, 7, 9, 7, 2, 5, 5, 4, 4, 0, 5, 5, 4, 4, 4, 7, 4, 4, 4, 7, 4, 7, 4, 7, 4, 9, 3, 0, 7, 4, 7, 9, 4, 7, 9, 3, 4, 4, 4, 7, 4, 8, 8, 3, 4, 3, 4, 4, 7, 4, 4, 4, 2, 4, 4, 4, 4, 4, 4, 4, 4, 7, 4, 4, 7, 8, 8, 5, 4, 5, 4, 7, 4, 4, 4, 5, 4, 4, 4, 4, 9, 4, 0, 9, 0, 4, 4, 4, 5, 4, 4, 4, 9, 1, 4, 4, 3, 4, 3, 4, 7, 7, 4, 4, 5, 4, 7, 5, 3, 4, 4, 9, 0, 6, 7, 7, 6, 2, 9, 7, 4, 4, 4, 4, 6, 4, 4, 4, 4, 7, 4, 5, 4, 4, 4, 4, 4, 4, 4, 7, 7, 9, 4, 5, 9, 4, 7, 8, 9, 8, 9, 9, 7, 4, 7, 7, 9, 3, 4, 4, 4, 4, 4, 7, 4, 4, 3, 3, 3, 7, 4, 2, 4, 4, 4, 4, 4, 4, 4, 4, 4, 8, 4, 9, 1, 4, 8, 4, 4, 1, 4, 7, 7, 4, 4, 4, 1, 4, 4, 9, 4, 7, 4, 9, 4, 2, 4, 4, 7, 4, 4, 4, 4, 2, 4, 4, 4, 4, 3, 7, 4, 4, 4, 4, 4, 7, 2, 4, 4, 4, 4, 4, 2, 4, 4, 4, 4, 3, 7, 4, 4, 4, 4, 4, 4, 4, 7, 4, 1, 2, 0, 4, 4, 4, 7, 4, 4, 7, 5, 4, 4, 4, 0, 4, 4, 4, 4, 8, 4, 2, 7, 4, 4, 4, 6, 9, 1, 4, 9, 4, 4, 9, 4, 9, 4, 4, 4, 4, 4, 3, 4, 7, 4, 7, 4, 4, 4, 4, 4, 4, 0, 8, 4, 4, 4, 4, 4, 9, 4, 4, 4, 4, 0, 9, 6, 4, 4, 4, 7, 4, 4, 4, 4, 4, 0, 4, 4, 0, 0, 7, 7, 3, 6, 0, 4, 4, 4, 7, 4, 7, 4, 4, 4, 0, 3, 5, 4, 0, 0, 0, 4, 7, 4, 0, 4, 5, 4, 4, 4, 4, 4, 4, 4, 4, 4, 8, 4, 8, 4, 4, 9, 4, 4, 4, 4, 9, 9, 8, 4, 4, 1, 9, 4, 9, 7, 4, 5, 8, 5, 6, 4, 4, 7, 4, 7, 4, 8, 4, 4, 5, 4, 4, 4, 4, 2, 2, 4, 4, 4, 4, 4, 4, 4, 4, 4, 8, 9, 4, 0, 9, 1, 1, 4, 4, 8, 4, 4, 5, 4, 8, 4, 4, 4, 4, 4, 4, 4, 4, 4, 4, 4, 5, 4, 4, 4, 4, 4, 4, 4, 6, 4, 4, 5, 4, 4, 2, 5, 4, 4, 5, 4, 4, 4, 4, 4, 4, 4, 4, 9, 4, 5, 5, 4, 4, 4, 4, 4, 4, 4, 4, 4, 4, 4, 4, 1, 4, 7, 4, 8, 5, 7, 4, 4, 4, 4, 4, 4, 4, 4, 8, 8, 4, 4, 4, 4, 2, 4, 4, 4, 4, 4, 4, 7, 4, 7, 7, 7, 4, 4, 7, 4, 2, 4, 4, 8, 4, 4, 4, 4, 5, 4, 1, 4, 7, 4, 7, 4, 4, 4, 0, 4, 4, 4, 4, 4, 4, 4, 4, 4, 4, 4, 4, 4, 6, 4, 4, 4, 4, 4, 4, 4, 4, 4, 4, 4, 4, 8, 4, 4, 7, 4, 4, 4, 4, 4, 4, 4, 4, 4, 8, 4, 4, 4, 4, 4, 4, 4, 4, 4, 4, 8, 4, 4, 5, 8, 5, 8, 4, 4, 5, 4, 4, 4, 4, 5, 4, 9, 4, 4, 7, 4, 4, 4, 4, 4, 7, 7, 3, 7, 4, 7, 5, 4, 4, 9, 4, 4, 4, 4, 4, 4, 4, 4, 8, 4, 4, 5, 4, 5, 4, 4, 4, 2, 4, 8, 6, 4, 4, 4, 1, 9, 1, 4, 4, 4, 5, 4, 4, 4, 4, 4, 6, 3, 4, 4, 4, 4, 4, 8, 4, 4, 7, 4, 7, 4, 4, 4, 4, 4, 4, 4, 4, 4, 9, 4, 4, 8, 4, 5, 4, 4, 4, 7, 4, 4, 8, 4, 4, 4, 4, 4, 7, 4, 4, 4, 9, 5, 2, 4, 4, 7, 4, 4, 7, 4, 8, 4, 8, 4, 2, 1, 4, 5, 4, 4, 4, 4, 4, 4, 4, 4, 4, 4, 4, 4, 7, 4, 4, 2, 4, 4, 4, 5, 8, 2, 4, 4, 7, 7, 4, 4, 4, 4, 4, 9, 4, 4, 1, 4, 4, 4, 6, 5, 8, 2, 6, 7, 4, 7, 6, 4, 5, 4, 4, 6, 4, 4, 8, 4, 2, 4, 5, 5, 4, 4, 0, 4, 4, 4, 4, 8, 5, 4, 5, 5, 0, 4, 4, 4, 4, 4, 3, 4, 7, 5, 8, 1, 4, 4, 4, 4, 4, 4, 7, 7, 4, 4, 4, 4, 9, 4, 1, 4, 4, 4, 4, 9, 4, 4, 4, 4, 4, 4, 4, 5, 4, 4, 4, 4, 4, 4, 4, 4, 4, 4, 4, 4, 4, 4, 4, 4, 8, 2, 4, 4, 4, 4, 4, 7, 4, 4, 4, 4, 7, 4, 4, 4, 9, 4, 8, 4, 4, 9, 6, 0, 4, 4, 4, 4, 4, 4, 4, 4, 4, 4, 4, 4, 4, 4, 4, 4, 4, 7, 4, 8, 4, 4, 4, 2, 4, 4, 4, 1, 9, 9, 8, 4, 9, 7, 4, 0, 4, 4, 6, 5, 4, 4, 8, 5, 4, 4, 4, 5, 5, 4, 5, 7, 4, 4, 4, 9, 4, 4, 4, 7, 4, 4, 4, 4, 4, 4, 9, 8, 4, 4, 4, 3, 4, 4, 4, 4, 4, 7, 7, 4, 4, 4, 4, 4, 4, 4, 4, 7, 4, 4, 7, 4, 4, 4, 4, 9, 6, 9, 4, 4, 4, 4, 4, 4, 4, 4, 7, 4, 0, 4, 4, 0, 2, 7, 4, 4, 4, 1, 5, 4, 8, 5, 4, 4, 4, 6, 4, 4, 4, 4, 4, 4, 4, 4, 4, 4, 4, 4, 4, 4, 4, 4, 4, 4, 4, 4, 4, 4, 4, 7, 4, 4, 9, 4, 4, 4, 4, 9, 4, 4, 4, 5, 8, 4, 4, 4, 4, 5, 1, 4, 4, 4, 4, 4, 0, 4, 4, 4, 4, 0, 4, 4, 4, 4, 4, 4, 8, 7, 7, 9, 4, 4, 1, 2, 0, 4, 4, 4, 9, 4, 7, 4, 3, 5, 0, 4, 4, 2, 8, 4, 7, 7, 4, 4, 4, 4, 4, 4, 4, 4, 4, 4, 4, 4, 0, 4, 4, 4, 4, 4, 7, 7, 4, 7, 4, 4, 9, 9, 4, 0, 4, 4, 4, 7, 4, 4, 4, 2, 0, 4, 2, 2, 4, 4, 4, 3, 4, 4, 2, 4, 4, 4, 4, 4, 4, 4, 8, 4, 4, 4, 4, 4, 4, 9, 4, 9, 4, 4, 4, 4, 4, 2, 4, 8, 4, 4, 4, 0, 4, 4, 4, 4, 7, 4, 4, 4, 4, 9, 4, 4, 4, 4, 4, 4, 4, 4, 4, 4, 7, 4, 4, 5, 8, 1, 4, 8, 4, 4, 7, 4, 7, 4, 7, 9, 9, 8, 5, 4, 4, 7, 4, 0, 4, 4, 4, 7, 4, 0, 4, 0, 4, 4, 4, 4, 4, 4, 4, 4, 4, 4, 8, 4, 8, 4, 4, 4, 4, 4, 4, 4, 4, 7, 7, 5, 4, 7, 4, 0, 4, 4, 6, 4, 4, 4, 4, 4, 8, 4, 4, 4, 7, 4, 1, 4, 4, 4, 4, 4, 4, 6, 4, 4, 7, 4, 4, 4, 4, 4, 4, 4, 4, 4, 4, 7, 4, 4, 5, 7, 5, 8, 4, 4, 4, 5, 4, 4, 4, 4, 5, 5, 8, 4, 4, 9, 4, 4, 4, 4, 4, 4, 4, 4, 4, 4, 4, 5, 4, 4, 4, 4, 4, 4, 2, 4, 4, 4, 5, 5, 4, 9, 4, 2, 5, 5, 0, 0, 5, 5, 1, 8, 5, 4, 4, 5, 5, 5, 4, 4, 4, 4, 9, 5, 8, 0, 5, 2, 0, 0, 5, 2, 0, 8, 1, 4, 4, 1, 9, 5, 4, 2, 4, 5, 5, 0, 0, 4, 4, 4, 4, 4, 4, 4, 4, 8, 4, 4, 4, 4, 4, 2, 4, 4, 5, 4, 4, 9, 4, 4, 4, 4, 4, 5, 2, 0, 9, 4, 4, 4, 4, 4, 9, 0, 5, 4, 4, 4, 4, 4, 1, 4, 4, 4, 4, 4, 4, 4, 5, 4, 5, 4, 4, 8, 9, 7, 7, 4, 7, 0, 4, 5, 9, 0, 4, 4, 0, 4, 0, 7, 4, 1, 4, 5, 5, 4, 9, 8, 4, 0, 2, 3, 4, 4, 5, 4, 4, 9, 9, 4, 5, 4, 5, 4, 9, 9, 4, 9, 4, 4, 2, 9, 0, 5, 7, 5, 4, 7, 4, 4, 4, 0, 9, 8, 4, 4, 4, 4, 7, 4, 7, 4, 4, 4, 4, 4, 4, 8, 7, 7, 4, 7, 4, 4, 7, 7, 4, 7, 5, 5, 0, 5, 4, 5, 9, 7, 8, 7, 9, 7, 5, 4, 4, 5, 5, 7, 4, 7, 4, 4, 4, 4, 7, 0, 4, 4, 4, 4, 4, 4, 4, 0, 5, 8, 9, 4, 4, 0, 9, 4, 4, 4, 2, 4, 5, 1, 4, 4, 4, 4, 4, 4, 4, 3, 4, 4, 4, 4, 4, 4, 4, 7, 4, 7, 7, 7, 4, 4, 4, 4, 4, 0, 4, 0, 7, 3, 4, 4, 3, 4, 4, 4, 5, 3, 0, 9, 9, 4, 3, 3, 3, 4, 4, 4, 0, 0, 5, 4, 4, 4, 4, 0, 7, 9, 9, 9, 3, 7, 4, 0, 4, 4, 4, 9, 7, 8, 4, 3, 9, 7, 4, 9, 7, 4, 7, 4, 7, 4, 5, 4, 4, 4, 7, 5, 5, 4, 4, 5, 4, 5, 5, 5, 0, 5, 4, 0, 4, 5, 4, 4, 4, 7, 4, 9, 4, 4, 4, 7, 0, 4, 4, 4, 5, 3, 9, 7, 7, 0, 4, 0, 5, 0, 8, 4, 5, 4, 0, 0, 4, 8, 1, 1, 7, 7, 7, 0, 7, 4, 4, 4, 2, 7, 4, 7, 4, 4, 5, 4, 1, 0, 2, 5, 2, 3, 7, 5, 2, 5, 5, 5, 5, 2, 2, 2, 2, 5, 5, 5, 5, 5, 5, 2, 5, 5, 2, 2, 5, 5, 5, 2, 8, 5, 0, 5, 5, 5, 3, 5, 5, 2, 5, 5, 5, 5, 0, 5, 5, 4, 4, 8, 2, 5, 5, 3, 3, 3, 5, 5, 5, 5, 5, 5, 5, 5, 5, 5, 5, 5, 0, 5, 5, 5, 2, 5, 0, 5, 5, 5, 5, 5, 9, 0, 7, 2, 3, 0, 2, 5, 5, 5, 5, 5, 3, 2, 6, 0, 5, 0, 3, 5, 5, 2, 0, 2, 5, 5, 0, 5, 5, 5, 5, 5, 5, 5, 3, 5, 0, 2, 5, 5, 5, 5, 5, 5, 0, 7, 5, 5, 5, 5, 5, 5, 2, 5, 5, 5, 5, 5, 8, 5, 5, 9, 5, 5, 5, 2, 5, 5, 0, 5, 5, 3, 5, 5, 5, 3, 3, 5, 4, 4, 4, 5, 5, 5, 0, 5, 2, 5, 5, 5, 5, 5, 5, 3, 5, 5, 5, 5, 5, 5, 2, 2, 0, 5, 9, 5, 5, 5, 5, 5, 0, 5, 8, 8, 8, 5, 5, 5, 5, 9, 0, 5, 5, 0, 3, 5, 5, 5, 3, 5, 5, 5, 0, 0, 5, 5, 5, 5, 5, 5, 5, 0, 0, 5, 5, 5, 5, 5, 5, 5, 5, 5, 2, 5, 5, 5, 5, 5, 5, 0, 0, 0, 0, 4, 9, 0, 5, 5, 5, 5, 5, 5, 3, 5, 5, 5, 5, 3, 5, 3, 4, 0, 5, 9, 5, 5, 5, 3, 3, 5, 2, 5, 5, 5, 5, 5, 6, 5, 5, 3, 5, 3, 5, 5, 3, 3, 5, 2, 2, 2, 2, 0, 2, 7, 4, 4, 9, 5, 5, 5, 5, 5, 3, 3, 3, 6, 5, 3, 4, 5, 5, 5, 5, 5, 5, 1, 2, 5, 5, 9, 3, 5, 5, 5, 5, 5, 5, 5, 5, 2, 5, 0, 5, 3, 3, 5, 2, 3, 6, 3, 5, 0, 5, 3, 3, 3, 5, 5, 4, 5, 2, 5, 2, 0, 5, 5, 5, 0, 5, 5, 5, 5, 5, 5, 5, 3, 5, 0, 5, 0, 5, 5, 5, 5, 5, 0, 0, 5, 2, 5, 5, 0, 0, 5, 0, 5, 7, 8, 5, 0, 5, 5, 0, 5, 3, 5, 2, 5, 0, 5, 5, 5, 5, 5, 5, 3, 5, 9, 5, 4, 5, 5, 2, 5, 6, 2, 5, 3, 5, 0, 8, 5, 5, 8, 5, 5, 5, 7, 5, 5, 5, 2, 1, 0, 2, 3, 5, 5, 5, 5, 3, 5, 5, 5, 5, 5, 5, 5, 5, 5, 3, 5, 3, 3, 3, 3, 3, 5, 5, 5, 5, 5, 5, 5, 5, 5, 5, 3, 2, 9, 4, 5, 5, 5, 5, 5, 5, 5, 5, 5, 5, 3, 5, 5, 8, 5, 3, 3, 5, 5, 5, 0, 5, 5, 5, 3, 2, 3, 5, 5, 5, 5, 5, 5, 5, 5, 5, 5, 5, 5, 5, 5, 5, 5, 3, 5, 5, 5, 5, 8, 5, 5, 3, 5, 5, 5, 3, 3, 5, 5, 5, 6, 5, 5, 0, 0, 5, 5, 3, 7, 0, 5, 9, 5, 5, 5, 6, 8, 5, 0, 7, 9, 2, 2, 7, 0, 5, 4, 5, 5, 5, 5, 3, 0, 5, 3, 5, 5, 5, 5, 5, 5, 0, 2, 3, 9, 2, 5, 2, 5, 5, 5, 6, 5, 5, 5, 5, 5, 5, 5, 5, 5, 5, 5, 5, 3, 8, 5, 5, 5, 3, 5, 5, 3, 5, 3, 5, 4, 5, 3, 2, 0, 0, 5, 5, 5, 5, 5, 5, 5, 5, 6, 5, 5, 5, 5, 5, 5, 5, 2, 0, 5, 5, 5, 5, 5, 5, 3, 9, 3, 2, 5, 3, 3, 5, 5, 5, 5, 3, 5, 5, 5, 5, 2, 3, 5, 5, 5, 6, 5, 5, 3, 8, 5, 5, 9, 5, 8, 0, 5, 5, 5, 5, 5, 5, 5, 5, 5, 5, 6, 5, 5, 5, 5, 5, 0, 0, 1, 0, 5, 2, 5, 3, 3, 3, 2, 4, 2, 6, 5, 2, 5, 5, 3, 5, 5, 5, 5, 5, 9, 5, 5, 5, 3, 5, 5, 5, 5, 5, 5, 2, 5, 5, 5, 5, 5, 3, 5, 5, 5, 5, 5, 5, 0, 7, 5, 3, 2, 5, 5, 5, 5, 3, 3, 5, 5, 5, 6, 2, 5, 5, 5, 5, 2, 3, 3, 5, 3, 5, 5, 0, 5, 5, 2, 5, 0, 5, 5, 2, 5, 5, 3, 5, 8, 5, 5, 5, 5, 8, 5, 5, 3, 5, 5, 2, 5, 4, 5, 5, 5, 5, 5, 5, 5, 5, 5, 3, 5, 8, 5, 5, 5, 5, 3, 5, 3, 5, 5, 5, 5, 5, 5, 5, 3, 5, 5, 5, 2, 5, 6, 5, 5, 3, 5, 5, 5, 5, 5, 8, 5, 5, 3, 5, 5, 3, 5, 5, 5, 5, 5, 3, 5, 5, 1, 5, 0, 5, 5, 5, 5, 5, 5, 5, 2, 5, 5, 5, 3, 7, 5, 3, 2, 3, 5, 2, 5, 5, 5, 5, 5, 5, 3, 5, 5, 5, 5, 5, 5, 5, 5, 5, 5, 5, 5, 5, 5, 5, 5, 5, 2, 0, 2, 5, 5, 5, 5, 2, 5, 5, 5, 5, 5, 5, 5, 5, 5, 7, 5, 5, 5, 5, 2, 2, 5, 5, 2, 5, 3, 5, 5, 5, 3, 0, 5, 0, 3, 3, 5, 5, 5, 5, 5, 2, 5, 5, 5, 0, 5, 5, 5, 5, 3, 3, 5, 6, 0, 5, 5, 5, 5, 5, 5, 5, 5, 2, 5, 5, 5, 2, 5, 5, 3, 3, 5, 5, 1, 2, 5, 3, 5, 5, 2, 5, 0, 3, 5, 5, 5, 5, 5, 2, 5, 5, 6, 5, 5, 5, 5, 5, 5, 2, 0, 0, 5, 5, 8, 5, 5, 4, 5, 5, 3, 3, 5, 2, 5, 5, 5, 5, 5, 5, 5, 6, 5, 5, 5, 5, 5, 0, 3, 5, 5, 4, 5, 3, 3, 5, 5, 6, 5, 6, 3, 3, 5, 5, 3, 5, 5, 5, 5, 5, 5, 5, 3, 3, 5, 5, 5, 3, 5, 5, 5, 5, 5, 5, 5, 0, 5, 0, 5, 6, 2, 3, 2, 2, 5, 2, 5, 5, 5, 0, 5, 5, 0, 5, 5, 5, 5, 3, 3, 3, 4, 4, 5, 2, 5, 5, 5, 5, 0, 0, 0, 5, 5, 5, 5, 5, 5, 5, 0, 3, 5, 0, 0, 5, 5, 5, 5, 5, 5, 5, 3, 5, 3, 3, 5, 5, 5, 5, 5, 2, 5, 5, 3, 2, 5, 5, 5, 5, 5, 0, 5, 5, 5, 5, 3, 5, 0, 5, 5, 5, 5, 5, 3, 5, 5, 0, 5, 2, 5, 5, 5, 0, 5, 5, 5, 5, 5, 5, 0, 8, 8, 0, 5, 5, 5, 5, 5, 5, 5, 8, 5, 5, 0, 5, 3, 5, 2, 3, 5, 2, 8, 5, 5, 5, 5, 5, 5, 5, 5, 5, 5, 5, 5, 5, 2, 5, 5, 5, 5, 5, 5, 5, 5, 5, 5, 2, 5, 5, 5, 3, 5, 5, 5, 5, 5, 5, 3, 7, 5, 5, 5, 5, 5, 5, 5, 5, 5, 5, 5, 5, 5, 5, 3, 5, 3, 3, 3, 5, 3, 5, 5, 5, 5, 5, 5, 5, 5, 5, 5, 5, 5, 5, 3, 5, 5, 5, 5, 3, 3, 2, 5, 5, 5, 3, 3, 5, 2, 5, 5, 3, 3, 5, 5, 2, 3, 5, 5, 5, 5, 5, 5, 5, 5, 5, 0, 6, 5, 3, 5, 5, 5, 5, 4, 3, 2, 2, 5, 5, 6, 2, 5, 6, 5, 5, 0, 5, 5, 5, 5, 5, 2, 3, 5, 2, 9, 2, 3, 3, 3, 7, 3, 0, 5, 5, 5, 5, 5, 3, 5, 5, 5, 5, 5, 3, 5, 5, 5, 5, 5, 5, 5, 5, 8, 0, 6, 0, 5, 5, 5, 5, 2, 0, 5, 5, 5, 5, 5, 5, 5, 5, 5, 5, 5, 5, 5, 5, 5, 5, 5, 5, 5, 5, 5, 5, 1, 1, 5, 5, 3, 9, 5, 3, 5, 5, 5, 2, 5, 2, 5, 3, 5, 5, 5, 5, 5, 3, 5, 5, 5, 3, 2, 0, 5, 5, 3, 3, 5, 5, 5, 5, 5, 5, 5, 5, 5, 5, 0, 5, 5, 5, 9, 5, 5, 5, 5, 5, 5, 3, 5, 5, 5, 3, 3, 5, 5, 0, 3, 5, 5, 3, 0, 5, 3, 3, 3, 5, 5, 5, 5, 5, 5, 5, 2, 5, 5, 3, 5, 5, 5, 5, 5, 2, 5, 5, 5, 2, 5, 5, 6, 5, 5, 5, 3, 0, 2, 5, 6, 5, 5, 2, 5, 6, 5, 5, 5, 5, 5, 7, 0, 5, 2, 5, 5, 6, 5, 0, 5, 2, 5, 5, 5, 5, 5, 2, 5, 5, 5, 5, 5, 5, 5, 0, 3, 5, 3, 5, 5, 5, 1, 5, 5, 5, 5, 5, 5, 0, 5, 3, 5, 8, 5, 5, 6, 5, 5, 5, 5, 5, 5, 5, 5, 5, 5, 5, 5, 5, 5, 5, 5, 0, 5, 5, 2, 5, 5, 5, 5, 5, 5, 0, 5, 5, 5, 5, 0, 5, 3, 5, 5, 5, 3, 5, 5, 5, 5, 5, 5, 5, 0, 5, 3, 2, 5, 5, 9, 7, 5, 8, 5, 3, 5, 5, 5, 5, 5, 2, 5, 5, 5, 5, 5, 2, 5, 5, 5, 2, 5, 5, 5, 5, 5, 5, 5, 5, 5, 2, 5, 0, 5, 5, 5, 5, 2, 5, 5, 5, 5, 5, 2, 5, 5, 5, 0, 5, 5, 5, 5, 5, 5, 5, 5, 5, 5, 2, 5, 2, 5, 5, 4, 5, 5, 5, 7, 5, 6, 2, 0, 5, 5, 5, 0, 0, 8, 0, 5, 5, 5, 5, 3, 5, 3, 5, 3, 5, 5, 5, 0, 5, 3, 5, 3, 0, 3, 3, 7, 5, 5, 5, 5, 5, 3, 5, 5, 0, 5, 5, 5, 3, 5, 5, 0, 5, 3, 3, 3, 3, 5, 5, 5, 5, 1, 3, 6, 3, 5, 5, 3, 5, 5, 5, 5, 0, 5, 5, 5, 3, 5, 5, 0, 5, 5, 5, 5, 5, 5, 5, 8, 5, 5, 2, 5, 5, 5, 3, 5, 5, 5, 4, 5, 3, 5, 5, 5, 3, 0, 3, 5, 3, 5, 5, 5, 5, 5, 5, 5, 5, 5, 5, 5, 5, 5, 5, 7, 5, 7, 5, 5, 5, 9, 3, 5, 5, 3, 5, 5, 5, 5, 5, 2, 5, 5, 5, 5, 5, 5, 8, 5, 5, 5, 5, 5, 5, 5, 3, 5, 5, 3, 2, 3, 5, 5, 5, 5, 5, 2, 5, 0, 5, 5, 3, 5, 5, 5, 5, 5, 0, 5, 5, 0, 5, 2, 3, 5, 5, 8, 3, 5, 5, 2, 2, 0, 5, 5, 0, 5, 5, 5, 5, 5, 5, 5, 5, 2, 2, 0, 5, 2, 7, 5, 5, 5, 5, 5, 5, 5, 5, 3, 5, 5, 5, 6, 3, 5, 5, 5, 3, 5, 5, 5, 5, 4, 5, 5, 5, 5, 5, 5, 9, 3, 5, 5, 5, 5, 0, 5, 9, 3, 5, 5, 5, 3, 5, 2, 7, 7, 9, 3, 2, 5, 6, 2, 3, 5, 5, 3, 5, 2, 0, 5, 5, 5, 5, 6, 5, 5, 6, 5, 3, 5, 5, 5, 5, 5, 8, 5, 5, 0, 5, 5, 5, 0, 3, 5, 5, 3, 0, 5, 0, 0, 2, 5, 5, 5, 5, 5, 5, 5, 5, 6, 5, 5, 5, 3, 3, 5, 5, 3, 5, 5, 6, 2, 5, 2, 3, 5, 5, 5, 5, 5, 5, 5, 2, 2, 0, 0, 5, 5, 5, 5, 2, 0, 2, 3, 3, 4, 5, 5, 5, 2, 5, 5, 5, 3, 5, 5, 5, 2, 5, 2, 6, 6, 2, 0, 5, 5, 6, 6, 6, 5, 5, 3, 6, 6, 5, 5, 5, 2, 2, 3, 0, 0, 6, 5, 6, 5, 5, 6, 6, 2, 2, 2, 2, 2, 2, 2, 2, 6, 6, 5, 5, 0, 5, 6, 6, 5, 2, 6, 2, 6, 2, 6, 6, 6, 2, 2, 6, 0, 2, 0, 0, 6, 5, 2, 6, 5, 3, 2, 6, 5, 7, 6, 6, 6, 6, 6, 6, 9, 0, 2, 5, 2, 6, 0, 5, 2, 6, 6, 2, 6, 2, 2, 6, 2, 6, 6, 6, 0, 3, 6, 6, 2, 0, 5, 6, 5, 6, 6, 6, 6, 2, 0, 6, 6, 6, 6, 5, 6, 1, 2, 6, 3, 8, 3, 3, 2, 3, 6, 2, 6, 5, 6, 9, 6, 6, 2, 0, 5, 6, 2, 6, 6, 6, 2, 2, 6, 6, 2, 6, 6, 6, 2, 2, 2, 6, 2, 2, 5, 2, 2, 6, 6, 6, 5, 6, 5, 6, 6, 2, 5, 6, 6, 6, 0, 0, 3, 3, 6, 5, 6, 6, 0, 6, 5, 6, 6, 5, 6, 6, 6, 6, 6, 6, 3, 6, 6, 3, 6, 6, 6, 6, 6, 6, 6, 6, 2, 4, 3, 6, 6, 3, 2, 6, 5, 6, 3, 6, 6, 6, 6, 2, 5, 2, 6, 6, 6, 6, 3, 0, 6, 6, 4, 6, 6, 6, 6, 6, 2, 2, 5, 2, 6, 2, 3, 5, 0, 5, 6, 6, 6, 2, 3, 2, 0, 6, 2, 2, 5, 6, 9, 6, 5, 6, 0, 5, 6, 2, 2, 6, 5, 6, 6, 6, 6, 2, 6, 6, 5, 6, 2, 6, 6, 6, 6, 0, 6, 4, 6, 2, 2, 2, 0, 9, 6, 3, 6, 6, 6, 3, 2, 6, 6, 6, 2, 6, 2, 6, 5, 2, 2, 6, 6, 6, 6, 5, 6, 2, 6, 0, 4, 6, 6, 8, 1, 2, 2, 6, 6, 0, 6, 0, 6, 6, 2, 6, 3, 6, 6, 6, 6, 6, 6, 6, 6, 6, 6, 6, 5, 6, 2, 2, 6, 0, 2, 6, 6, 6, 6, 5, 2, 6, 6, 6, 0, 6, 6, 6, 6, 2, 3, 3, 2, 6, 6, 6, 5, 6, 6, 5, 3, 5, 2, 6, 6, 6, 6, 6, 3, 3, 0, 2, 6, 2, 6, 6, 6, 6, 4, 6, 6, 6, 2, 6, 6, 6, 3, 2, 5, 0, 6, 6, 6, 5, 6, 9, 4, 6, 6, 4, 0, 6, 6, 6, 5, 2, 2, 6, 6, 2, 6, 6, 6, 5, 2, 5, 6, 6, 2, 2, 6, 2, 6, 2, 1, 8, 6, 6, 6, 3, 6, 5, 6, 2, 6, 6, 6, 4, 6, 6, 6, 2, 6, 6, 2, 2, 6, 0, 6, 6, 4, 6, 6, 6, 6, 5, 3, 6, 5, 2, 6, 2, 2, 6, 6, 2, 6, 6, 6, 6, 6, 6, 6, 6, 4, 3, 6, 5, 6, 6, 3, 2, 2, 6, 6, 2, 2, 6, 1, 6, 6, 5, 2, 0, 0, 6, 3, 6, 2, 6, 3, 6, 6, 6, 2, 8, 6, 6, 4, 6, 0, 4, 6, 6, 6, 6, 2, 0, 6, 2, 6, 3, 6, 2, 6, 6, 6, 5, 5, 6, 6, 6, 6, 6, 6, 6, 0, 6, 6, 6, 6, 6, 0, 5, 2, 6, 6, 5, 6, 6, 6, 6, 5, 6, 6, 2, 5, 6, 2, 6, 6, 6, 6, 2, 6, 6, 6, 6, 6, 0, 0, 6, 6, 4, 6, 6, 6, 6, 8, 6, 4, 5, 2, 6, 0, 5, 0, 6, 6, 6, 6, 3, 6, 6, 2, 6, 5, 2, 0, 5, 5, 6, 5, 3, 6, 2, 2, 6, 6, 4, 4, 2, 2, 5, 6, 2, 6, 7, 9, 3, 6, 6, 6, 6, 2, 6, 5, 6, 6, 2, 6, 6, 6, 5, 0, 6, 6, 5, 2, 6, 6, 6, 6, 6, 6, 6, 6, 6, 6, 0, 2, 2, 6, 2, 2, 6, 5, 2, 2, 6, 6, 6, 0, 6, 6, 2, 6, 5, 0, 0, 5, 6, 6, 6, 2, 6, 6, 6, 3, 6, 6, 6, 0, 6, 0, 0, 6, 6, 5, 6, 6, 6, 6, 3, 0, 1, 0, 6, 0, 6, 5, 6, 3, 6, 4, 6, 6, 6, 2, 6, 2, 6, 1, 5, 6, 3, 5, 6, 6, 6, 2, 3, 1, 6, 0, 6, 6, 6, 0, 0, 6, 6, 5, 6, 2, 1, 0, 0, 2, 2, 3, 0, 4, 6, 2, 6, 2, 6, 3, 6, 0, 2, 4, 6, 4, 9, 6, 3, 0, 6, 0, 6, 2, 2, 6, 3, 2, 6, 6, 6, 6, 6, 0, 6, 2, 2, 6, 6, 6, 4, 6, 6, 6, 5, 2, 3, 5, 5, 2, 6, 2, 6, 6, 6, 6, 5, 6, 0, 2, 6, 4, 1, 6, 6, 6, 6, 4, 0, 5, 5, 6, 6, 6, 8, 6, 1, 2, 3, 3, 6, 6, 6, 6, 6, 6, 4, 4, 4, 2, 6, 4, 6, 3, 6, 6, 6, 3, 6, 6, 7, 6, 6, 6, 6, 2, 2, 6, 6, 6, 5, 6, 6, 1, 6, 6, 5, 2, 2, 6, 6, 4, 5, 0, 4, 6, 6, 5, 6, 6, 6, 6, 2, 6, 6, 5, 4, 0, 6, 0, 5, 6, 6, 6, 6, 6, 6, 6, 6, 6, 6, 6, 7, 4, 6, 6, 6, 6, 6, 6, 0, 2, 0, 4, 4, 6, 6, 6, 6, 4, 6, 3, 5, 5, 6, 6, 4, 6, 5, 9, 6, 6, 2, 5, 5, 5, 6, 0, 6, 0, 2, 6, 6, 6, 6, 5, 8, 4, 4, 6, 6, 6, 2, 6, 4, 6, 6, 5, 6, 6, 6, 2, 2, 0, 2, 5, 6, 2, 6, 6, 5, 6, 6, 6, 6, 6, 6, 6, 6, 6, 6, 2, 6, 6, 2, 5, 6, 6, 2, 6, 6, 4, 6, 6, 6, 5, 6, 6, 5, 2, 2, 6, 4, 6, 3, 2, 6, 6, 6, 6, 6, 6, 6, 0, 6, 6, 3, 6, 6, 6, 0, 6, 2, 6, 7, 2, 6, 6, 0, 2, 5, 6, 6, 2, 6, 5, 6, 5, 6, 6, 6, 2, 6, 5, 2, 5, 6, 6, 1, 5, 6, 6, 0, 6, 6, 6, 6, 6, 5, 2, 2, 3, 2, 5, 6, 6, 6, 6, 6, 5, 6, 6, 2, 6, 0, 2, 2, 0, 6, 6, 6, 6, 5, 6, 3, 6, 6, 6, 6, 0, 5, 6, 6, 6, 6, 0, 6, 2, 0, 6, 6, 6, 6, 6, 2, 6, 6, 6, 6, 3, 6, 2, 0, 6, 6, 0, 6, 6, 2, 6, 6, 6, 4, 3, 5, 0, 6, 6, 6, 0, 6, 6, 0, 6, 6, 6, 6, 4, 4, 6, 0, 6, 6, 6, 6, 6, 6, 6, 2, 5, 6, 2, 6, 6, 6, 6, 2, 2, 6, 8, 8, 4, 6, 5, 6, 6, 5, 6, 6, 6, 6, 6, 5, 0, 6, 2, 2, 2, 6, 6, 6, 6, 2, 6, 5, 6, 6, 6, 6, 6, 2, 6, 6, 2, 2, 2, 6, 2, 6, 6, 6, 2, 0, 3, 6, 6, 2, 6, 2, 2, 6, 6, 6, 6, 6, 2, 6, 2, 5, 6, 2, 2, 6, 6, 6, 6, 6, 6, 4, 6, 2, 5, 6, 6, 2, 2, 5, 6, 6, 6, 3, 6, 2, 6, 6, 6, 6, 6, 6, 6, 4, 6, 5, 2, 6, 6, 6, 0, 5, 6, 0, 5, 6, 6, 6, 5, 0, 6, 6, 6, 6, 6, 6, 6, 6, 5, 6, 5, 3, 3, 5, 6, 2, 6, 2, 6, 2, 6, 6, 6, 6, 6, 4, 2, 5, 5, 6, 0, 6, 0, 6, 5, 5, 2, 3, 6, 6, 2, 5, 2, 6, 6, 6, 6, 6, 2, 6, 6, 6, 6, 6, 6, 6, 6, 2, 2, 6, 0, 0, 6, 5, 6, 6, 2, 5, 6, 3, 2, 5, 0, 6, 6, 6, 6, 6, 6, 0, 3, 6, 4, 6, 6, 6, 6, 6, 2, 2, 2, 6, 6, 4, 6, 0, 2, 6, 6, 6, 4, 6, 5, 2, 6, 6, 6, 9, 6, 6, 6, 6, 2, 2, 6, 6, 6, 6, 0, 6, 6, 6, 2, 6, 5, 3, 6, 6, 6, 6, 6, 6, 6, 6, 6, 5, 6, 0, 5, 6, 2, 6, 6, 6, 2, 2, 6, 2, 6, 2, 6, 9, 4, 0, 6, 6, 6, 5, 3, 6, 2, 6, 6, 6, 6, 5, 6, 6, 6, 4, 6, 6, 6, 3, 6, 5, 6, 6, 6, 0, 0, 6, 6, 2, 2, 2, 6, 5, 5, 0, 5, 2, 6, 2, 1, 6, 5, 6, 6, 6, 6, 4, 6, 6, 3, 6, 0, 6, 5, 6, 6, 6, 5, 6, 2, 6, 2, 6, 5, 3, 6, 6, 6, 6, 2, 6, 2, 6, 2, 6, 2, 6, 3, 6, 2, 6, 6, 6, 6, 6, 6, 6, 6, 6, 6, 2, 0, 6, 6, 6, 6, 6, 6, 3, 9, 6, 2, 0, 6, 2, 2, 2, 6, 9, 6, 6, 6, 6, 0, 6, 6, 6, 2, 2, 3, 6, 6, 6, 6, 5, 6, 6, 6, 2, 5, 3, 2, 6, 6, 6, 3, 6, 6, 6, 6, 6, 6, 9, 5, 5, 6, 3, 6, 6, 6, 6, 6, 6, 6, 2, 6, 4, 6, 6, 6, 6, 5, 5, 5, 8, 1, 8, 6, 6, 2, 5, 5, 5, 6, 6, 6, 6, 6, 6, 5, 6, 0, 3, 6, 6, 6, 6, 6, 6, 6, 6, 6, 5, 6, 6, 5, 6, 6, 6, 6, 6, 6, 6, 6, 6, 5, 2, 6, 3, 6, 6, 4, 6, 6, 2, 2, 6, 5, 5, 0, 2, 6, 2, 6, 6, 6, 5, 6, 6, 0, 6, 5, 6, 6, 6, 6, 3, 6, 2, 6, 5, 6, 3, 5, 6, 6, 6, 6, 6, 9, 6, 6, 6, 8, 6, 5, 6, 6, 6, 6, 6, 6, 6, 4, 6, 2, 5, 5, 6, 2, 6, 6, 5, 3, 6, 6, 6, 0, 6, 0, 5, 5, 6, 4, 0, 4, 2, 2, 6, 6, 9, 6, 2, 6, 6, 3, 5, 9, 6, 6, 2, 3, 0, 6, 2, 6, 6, 0, 6, 3, 3, 6, 5, 2, 2, 4, 0, 6, 4, 3, 6, 2, 0, 6, 5, 6, 5, 6, 6, 9, 6, 6, 6, 6, 6, 8, 2, 6, 6, 6, 6, 6, 2, 5, 6, 5, 6, 6, 2, 6, 6, 6, 0, 6, 6, 6, 6, 8, 6, 6, 6, 2, 5, 6, 5, 5, 6, 6, 6, 6, 4, 5, 6, 6, 8, 6, 5, 6, 6, 6, 6, 6, 6, 8, 0, 6, 2, 8, 2, 6, 6, 6, 6, 3, 4, 6, 6, 6, 6, 6, 6, 6, 2, 6, 6, 6, 6, 6, 6, 2, 5, 2, 6, 6, 6, 2, 2, 6, 6, 6, 2, 6, 6, 6, 6, 6, 6, 6, 6, 6, 6, 2, 6, 6, 6, 6, 6, 6, 6, 6, 6, 5, 5, 6, 6, 6, 5, 6, 6, 4, 6, 5, 6, 6, 4, 6, 6, 3, 6, 3, 3, 3, 6, 3, 2, 2, 6, 4, 9, 6, 2, 6, 6, 6, 2, 6, 6, 6, 2, 6, 2, 2, 6, 6, 6, 6, 6, 4, 3, 6, 5, 6, 6, 6, 6, 2, 2, 6, 2, 6, 6, 6, 2, 4, 6, 6, 6, 2, 2, 4, 5, 6, 2, 2, 6, 6, 5, 6, 6, 6, 6, 6, 6, 6, 6, 2, 6, 6, 5, 6, 6, 6, 6, 2, 2, 6, 6, 2, 5, 6, 6, 6, 8, 6, 2, 6, 2, 0, 0, 4, 6, 5, 2, 4, 6, 6, 6, 6, 6, 2, 6, 2, 6, 6, 6, 7, 2, 2, 2, 7, 7, 5, 0, 9, 7, 7, 3, 7, 7, 7, 7, 7, 2, 2, 7, 7, 3, 3, 1, 1, 1, 1, 2, 2, 8, 7, 2, 9, 3, 2, 7, 7, 4, 5, 4, 7, 3, 7, 5, 3, 8, 2, 1, 2, 3, 2, 3, 3, 5, 3, 8, 2, 7, 5, 3, 3, 7, 1, 1, 8, 5, 5, 7, 4, 7, 7, 7, 7, 1, 4, 5, 0, 3, 3, 3, 9, 3, 7, 3, 0, 7, 0, 8, 8, 3, 3, 0, 0, 8, 4, 5, 3, 7, 7, 9, 0, 7, 3, 7, 2, 3, 7, 3, 7, 7, 7, 8, 7, 3, 8, 8, 0, 3, 8, 2, 8, 8, 8, 1, 7, 7, 5, 0, 2, 2, 2, 7, 2, 2, 9, 9, 7, 3, 3, 8, 8, 1, 7, 4, 1, 7, 0, 3, 3, 7, 7, 9, 1, 3, 8, 8, 8, 8, 7, 9, 1, 7, 1, 7, 2, 1, 3, 7, 7, 0, 3, 9, 7, 2, 7, 2, 8, 8, 7, 7, 2, 2, 7, 2, 8, 5, 7, 7, 7, 7, 7, 7, 9, 5, 8, 1, 3, 2, 7, 1, 7, 7, 7, 2, 7, 2, 7, 1, 9, 7, 8, 8, 0, 3, 7, 0, 5, 5, 1, 8, 5, 7, 7, 3, 3, 7, 3, 3, 1, 3, 7, 3, 1, 0, 7, 2, 8, 3, 1, 7, 7, 7, 3, 3, 5, 7, 7, 3, 7, 4, 7, 7, 3, 7, 2, 7, 5, 5, 5, 2, 7, 8, 1, 9, 0, 3, 4, 8, 7, 7, 2, 3, 7, 1, 3, 8, 3, 7, 0, 7, 1, 4, 2, 2, 7, 7, 7, 7, 2, 7, 7, 7, 3, 9, 9, 7, 3, 3, 3, 4, 9, 4, 2, 7, 7, 2, 7, 2, 7, 7, 7, 3, 4, 3, 0, 2, 2, 3, 9, 7, 3, 2, 3, 7, 8, 2, 7, 3, 7, 1, 1, 3, 3, 1, 3, 9, 9, 8, 0, 1, 7, 1, 1, 0, 9, 4, 4, 7, 2, 2, 1, 3, 7, 4, 7, 9, 7, 1, 3, 3, 2, 7, 7, 7, 7, 3, 7, 3, 7, 4, 4, 3, 8, 1, 8, 7, 7, 3, 7, 7, 3, 2, 7, 4, 0, 2, 1, 7, 3, 3, 2, 3, 5, 1, 3, 3, 3, 1, 7, 7, 3, 3, 3, 7, 7, 7, 8, 7, 3, 1, 5, 7, 2, 8, 2, 3, 7, 3, 3, 8, 3, 3, 1, 1, 2, 1, 7, 7, 2, 7, 2, 7, 7, 8, 0, 4, 3, 3, 3, 3, 1, 9, 7, 1, 1, 0, 2, 9, 5, 3, 8, 8, 7, 5, 3, 2, 3, 7, 7, 7, 5, 2, 7, 8, 2, 9, 3, 7, 3, 9, 4, 9, 5, 3, 3, 2, 3, 3, 1, 3, 8, 7, 1, 2, 9, 2, 9, 3, 7, 7, 7, 7, 7, 7, 7, 7, 7, 7, 7, 7, 5, 1, 0, 7, 3, 7, 7, 7, 2, 7, 3, 1, 3, 3, 7, 4, 7, 8, 7, 3, 7, 7, 1, 3, 7, 7, 7, 3, 3, 3, 7, 7, 3, 0, 3, 3, 7, 1, 7, 7, 7, 7, 3, 7, 1, 7, 7, 3, 0, 9, 8, 3, 7, 3, 7, 4, 3, 3, 3, 8, 1, 8, 0, 1, 8, 1, 7, 2, 3, 1, 3, 2, 3, 0, 7, 9, 8, 3, 7, 7, 3, 3, 9, 2, 8, 3, 3, 8, 7, 9, 3, 7, 7, 7, 7, 7, 9, 7, 7, 7, 3, 7, 8, 7, 7, 9, 2, 7, 7, 3, 8, 3, 5, 7, 7, 7, 1, 5, 7, 2, 8, 3, 3, 7, 3, 7, 3, 3, 2, 1, 3, 3, 3, 7, 8, 7, 3, 0, 3, 2, 0, 3, 7, 7, 2, 7, 7, 1, 3, 3, 7, 7, 3, 7, 3, 2, 2, 4, 1, 8, 7, 7, 7, 7, 7, 7, 2, 7, 2, 5, 5, 5, 7, 1, 7, 7, 7, 7, 5, 7, 7, 8, 5, 5, 3, 7, 7, 8, 8, 5, 9, 1, 7, 7, 4, 7, 7, 7, 8, 5, 8, 9, 4, 4, 1, 1, 2, 2, 7, 2, 3, 8, 8, 2, 3, 3, 7, 2, 7, 7, 3, 7, 7, 7, 3, 2, 0, 0, 7, 8, 2, 5, 3, 3, 7, 3, 7, 3, 5, 3, 7, 7, 3, 7, 2, 7, 7, 7, 7, 2, 7, 7, 8, 7, 8, 5, 1, 3, 1, 7, 7, 8, 3, 3, 8, 8, 8, 7, 7, 7, 5, 5, 0, 8, 7, 7, 3, 3, 7, 3, 3, 3, 2, 3, 2, 3, 7, 3, 7, 2, 7, 8, 8, 8, 1, 7, 7, 7, 3, 3, 8, 3, 7, 8, 2, 7, 8, 5, 4, 1, 7, 3, 2, 3, 5, 3, 3, 3, 0, 0, 3, 3, 7, 1, 7, 7, 3, 7, 7, 7, 7, 8, 7, 8, 5, 7, 7, 7, 7, 3, 3, 0, 0, 0, 7, 2, 7, 7, 2, 8, 8, 7, 7, 7, 5, 2, 3, 5, 8, 7, 2, 1, 7, 7, 8, 8, 2, 7, 7, 9, 5, 7, 8, 8, 0, 7, 8, 8, 8, 3, 8, 7, 7, 8, 7, 3, 8, 3, 7, 3, 3, 0, 8, 8, 7, 3, 8, 3, 3, 7, 7, 7, 3, 3, 3, 7, 2, 7, 3, 3, 3, 3, 3, 7, 9, 3, 7, 8, 2, 3, 8, 8, 3, 7, 2, 5, 8, 2, 2, 7, 7, 1, 3, 3, 2, 8, 7, 5, 6, 7, 8, 7, 7, 3, 7, 7, 1, 7, 7, 5, 7, 3, 7, 7, 3, 7, 3, 4, 0, 3, 3, 2, 0, 0, 5, 1, 3, 7, 5, 1, 1, 2, 1, 5, 2, 4, 0, 7, 2, 7, 7, 7, 7, 7, 3, 7, 7, 2, 2, 2, 1, 2, 2, 0, 5, 0, 7, 7, 7, 7, 7, 1, 9, 7, 2, 5, 5, 7, 7, 3, 3, 5, 7, 7, 3, 7, 3, 2, 2, 2, 5, 8, 0, 7, 3, 8, 7, 8, 8, 7, 7, 7, 7, 7, 9, 7, 5, 3, 2, 7, 7, 2, 7, 7, 4, 2, 8, 7, 3, 1, 1, 3, 3, 3, 5, 7, 3, 2, 3, 8, 3, 7, 7, 8, 8, 2, 8, 2, 0, 3, 7, 3, 7, 7, 2, 3, 6, 3, 7, 7, 7, 7, 7, 5, 3, 8, 5, 7, 5, 3, 7, 1, 7, 4, 3, 7, 2, 2, 7, 3, 7, 7, 2, 3, 9, 1, 1, 7, 3, 1, 5, 9, 5, 4, 1, 7, 1, 2, 7, 0, 7, 3, 8, 8, 8, 3, 3, 5, 3, 3, 3, 0, 7, 7, 2, 7, 2, 4, 7, 3, 4, 8, 5, 7, 7, 2, 3, 1, 3, 7, 7, 3, 3, 3, 2, 3, 0, 7, 5, 2, 2, 3, 3, 7, 7, 3, 7, 3, 7, 3, 7, 2, 7, 7, 2, 2, 3, 2, 3, 8, 2, 3, 3, 3, 8, 7, 1, 2, 2, 2, 0, 3, 5, 3, 2, 8, 8, 9, 5, 8, 3, 7, 7, 2, 9, 1, 0, 3, 3, 3, 3, 3, 3, 7, 3, 7, 2, 7, 3, 7, 3, 3, 3, 8, 5, 7, 7, 3, 7, 5, 3, 5, 8, 3, 3, 0, 1, 3, 2, 3, 8, 7, 1, 7, 1, 5, 5, 7, 3, 3, 1, 8, 5, 7, 9, 1, 1, 1, 3, 3, 3, 3, 7, 7, 7, 3, 3, 5, 3, 3, 7, 3, 7, 2, 2, 7, 3, 7, 5, 1, 8, 0, 5, 9, 9, 7, 7, 7, 7, 3, 1, 3, 7, 7, 4, 4, 1, 2, 1, 7, 1, 3, 7, 3, 9, 5, 7, 7, 2, 7, 3, 3, 1, 7, 7, 3, 3, 3, 3, 5, 3, 2, 2, 7, 1, 7, 3, 7, 8, 8, 2, 3, 8, 8, 1, 5, 3, 7, 3, 7, 7, 2, 0, 8, 2, 3, 3, 3, 7, 7, 1, 0, 2, 7, 7, 7, 7, 5, 5, 0, 3, 0, 3, 3, 1, 9, 0, 3, 3, 7, 1, 5, 1, 3, 1, 3, 9, 5, 9, 1, 7, 3, 1, 1, 2, 7, 7, 7, 2, 2, 5, 7, 1, 8, 7, 4, 7, 7, 8, 2, 3, 3, 8, 1, 7, 3, 1, 3, 8, 7, 7, 1, 7, 7, 7, 9, 7, 7, 8, 2, 5, 5, 3, 5, 0, 8, 3, 3, 3, 3, 8, 7, 7, 7, 1, 7, 1, 3, 8, 6, 5, 9, 5, 3, 7, 8, 3, 7, 3, 0, 7, 1, 7, 5, 7, 7, 1, 3, 7, 3, 2, 3, 3, 3, 0, 3, 1, 5, 9, 1, 0, 7, 1, 3, 1, 7, 1, 1, 5, 8, 7, 7, 4, 5, 7, 5, 9, 3, 7, 7, 7, 7, 7, 3, 7, 7, 8, 7, 5, 9, 1, 1, 8, 5, 2, 9, 3, 7, 0, 8, 3, 3, 1, 1, 3, 8, 8, 3, 5, 3, 8, 8, 8, 7, 7, 3, 7, 2, 8, 7, 0, 1, 3, 5, 5, 8, 7, 3, 0, 3, 3, 3, 3, 5, 3, 3, 3, 8, 0, 8, 7, 2, 7, 5, 7, 5, 7, 8, 1, 7, 3, 5, 3, 2, 7, 3, 0, 3, 2, 2, 3, 5, 3, 5, 7, 7, 3, 5, 5, 3, 7, 7, 8, 5, 5, 3, 7, 7, 5, 4, 9, 3, 8, 3, 1, 3, 8, 5, 5, 7, 7, 0, 5, 7, 2, 5, 7, 8, 3, 3, 5, 5, 1, 8, 7, 9, 8, 5, 2, 7, 1, 8, 7, 0, 2, 0, 4, 9, 7, 7, 1, 3, 7, 9, 7, 7, 0, 8, 9, 7, 7, 7, 2, 2, 1, 3, 3, 3, 7, 3, 3, 8, 8, 3, 3, 8, 1, 8, 7, 1, 9, 5, 3, 1, 7, 5, 3, 8, 8, 1, 7, 2, 9, 5, 8, 8, 7, 7, 8, 8, 2, 5, 3, 8, 3, 1, 1, 9, 0, 7, 1, 7, 8, 7, 8, 8, 9, 3, 1, 8, 7, 3, 2, 3, 3, 3, 5, 7, 5, 3, 0, 7, 1, 7, 8, 8, 8, 3, 2, 0, 7, 7, 5, 7, 7, 7, 1, 9, 3, 7, 3, 8, 7, 8, 7, 7, 0, 8, 2, 7, 3, 5, 2, 7, 3, 5, 5, 5, 7, 8, 5, 8, 3, 5, 5, 3, 7, 2, 5, 3, 0, 5, 3, 3, 1, 1, 2, 5, 8, 5, 7, 7, 7, 7, 3, 9, 7, 2, 2, 3, 7, 3, 1, 4, 8, 3, 8, 7, 8, 7, 5, 7, 7, 7, 0, 7, 3, 5, 5, 3, 5, 0, 5, 3, 3, 7, 8, 5, 0, 3, 8, 5, 3, 5, 1, 7, 3, 2, 7, 3, 1, 7, 7, 3, 8, 2, 7, 5, 1, 1, 7, 1, 5, 1, 1, 8, 7, 7, 3, 8, 8, 7, 8, 1, 7, 7, 8, 7, 8, 7, 7, 1, 1, 1, 8, 5, 5, 0, 2, 8, 2, 8, 3, 7, 5, 2, 1, 3, 5, 7, 2, 1, 8, 7, 8, 1, 8, 2, 3, 7, 3, 9, 3, 3, 9, 3, 3, 3, 1, 1, 0, 7, 3, 8, 8, 5, 8, 8, 8, 7, 0, 1, 3, 8, 8, 3, 5, 8, 8, 8, 8, 0, 8, 7, 5, 7, 2, 5, 1, 1, 7, 7, 9, 0, 7, 3, 5, 1, 1, 7, 7, 5, 5, 8, 3, 5, 8, 8, 2, 2, 7, 7, 1, 0, 8, 2, 2, 7, 7, 7, 3, 7, 1, 7, 9, 8, 5, 1, 2, 2, 1, 1, 3, 7, 5, 3, 3, 3, 8, 0, 5, 3, 7, 7, 3, 3, 3, 0, 1, 8, 7, 3, 7, 7, 3, 3, 8, 2, 8, 7, 3, 7, 8, 8, 0, 4, 5, 5, 0, 7, 5, 5, 8, 6, 8, 8, 0, 5, 5, 8, 8, 8, 5, 0, 8, 8, 5, 8, 8, 3, 5, 9, 8, 3, 8, 5, 1, 5, 2, 8, 4, 9, 3, 8, 8, 8, 6, 3, 3, 3, 3, 3, 6, 8, 8, 2, 8, 3, 3, 5, 2, 8, 5, 5, 6, 5, 8, 5, 5, 5, 3, 3, 5, 0, 5, 8, 3, 8, 8, 5, 5, 0, 8, 8, 5, 5, 5, 1, 0, 7, 0, 3, 3, 5, 8, 6, 0, 0, 5, 3, 5, 5, 5, 9, 5, 5, 8, 8, 8, 6, 5, 2, 2, 8, 8, 8, 8, 8, 2, 0, 5, 5, 5, 5, 4, 8, 4, 5, 8, 8, 5, 5, 0, 8, 3, 5, 2, 5, 4, 8, 2, 4, 8, 5, 0, 2, 8, 4, 4, 8, 8, 5, 5, 6, 8, 3, 3, 0, 3, 3, 8, 8, 8, 8, 4, 8, 9, 3, 6, 6, 5, 8, 4, 8, 2, 8, 5, 3, 3, 2, 3, 5, 6, 5, 8, 8, 5, 5, 5, 5, 5, 8, 0, 0, 5, 8, 0, 8, 4, 8, 1, 0, 1, 4, 4, 0, 0, 8, 2, 8, 8, 5, 5, 8, 5, 7, 8, 5, 5, 5, 5, 0, 8, 8, 5, 8, 0, 5, 3, 5, 5, 8, 5, 5, 8, 1, 0, 0, 3, 3, 5, 5, 5, 5, 0, 7, 4, 6, 4, 6, 8, 9, 4, 5, 0, 5, 1, 7, 4, 5, 5, 5, 0, 6, 0, 8, 8, 5, 5, 8, 5, 8, 5, 5, 6, 0, 7, 7, 2, 8, 6, 6, 4, 5, 5, 0, 6, 8, 3, 8, 3, 3, 3, 5, 2, 0, 8, 9, 5, 7, 3, 4, 3, 6, 0, 5, 8, 8, 0, 0, 5, 8, 8, 8, 8, 9, 3, 5, 6, 8, 6, 8, 3, 8, 8, 8, 6, 8, 9, 5, 4, 3, 7, 8, 3, 3, 0, 6, 3, 0, 2, 5, 8, 5, 5, 8, 8, 9, 8, 0, 8, 0, 8, 5, 5, 4, 0, 7, 5, 5, 3, 5, 4, 2, 2, 8, 3, 8, 3, 3, 3, 0, 5, 0, 0, 6, 8, 8, 8, 0, 5, 2, 3, 3, 9, 8, 6, 5, 5, 5, 8, 3, 8, 5, 5, 8, 5, 5, 8, 8, 5, 2, 8, 0, 5, 2, 8, 6, 8, 8, 3, 3, 5, 8, 8, 2, 4, 0, 3, 5, 5, 5, 5, 0, 2, 3, 0, 5, 5, 6, 7, 5, 3, 5, 0, 7, 3, 5, 8, 5, 8, 5, 5, 9, 3, 5, 7, 3, 2, 2, 5, 5, 3, 8, 3, 5, 3, 5, 5, 3, 0, 3, 0, 0, 0, 3, 5, 5, 8, 2, 3, 6, 3, 8, 9, 5, 3, 0, 7, 5, 3, 3, 1, 5, 5, 8, 8, 5, 8, 8, 2, 0, 5, 4, 0, 0, 6, 0, 7, 3, 0, 5, 5, 5, 5, 8, 5, 6, 6, 5, 5, 5, 8, 8, 8, 5, 3, 3, 3, 3, 3, 5, 5, 5, 4, 0, 5, 3, 3, 6, 8, 3, 2, 8, 5, 5, 5, 5, 1, 3, 3, 3, 3, 0, 3, 2, 0, 5, 5, 5, 5, 6, 8, 8, 2, 2, 0, 7, 5, 8, 5, 8, 8, 2, 5, 5, 0, 5, 8, 5, 8, 5, 8, 8, 6, 3, 5, 8, 3, 3, 3, 8, 5, 0, 5, 5, 5, 5, 8, 5, 8, 8, 0, 3, 3, 5, 5, 5, 5, 8, 3, 3, 5, 5, 8, 8, 8, 0, 0, 0, 3, 3, 8, 8, 0, 3, 5, 8, 8, 0, 5, 5, 9, 8, 8, 8, 8, 4, 8, 3, 3, 3, 3, 4, 8, 5, 8, 2, 5, 0, 8, 8, 5, 9, 6, 9, 9, 7, 0, 6, 0, 8, 5, 2, 8, 9, 8, 8, 8, 8, 3, 8, 8, 8, 6, 5, 8, 8, 0, 2, 5, 5, 5, 5, 3, 7, 9, 3, 3, 6, 0, 5, 4, 7, 9, 3, 0, 5, 3, 3, 5, 8, 8, 8, 8, 8, 5, 3, 8, 0, 9, 0, 8, 8, 8, 3, 9, 5, 3, 5, 5, 8, 5, 0, 9, 5, 5, 5, 3, 8, 9, 5, 5, 8, 7, 7, 0, 5, 0, 0, 8, 4, 8, 8, 5, 5, 6, 3, 7, 0, 3, 8, 5, 5, 7, 9, 5, 4, 4, 7, 2, 9, 8, 8, 0, 0, 4, 0, 9, 8, 3, 4, 8, 3, 5, 0, 7, 5, 8, 9, 5, 8, 8, 5, 8, 3, 8, 8, 8, 5, 5, 5, 8, 5, 5, 5, 2, 8, 8, 5, 8, 8, 2, 9, 5, 5, 5, 3, 0, 3, 5, 7, 2, 1, 5, 5, 5, 8, 8, 8, 5, 8, 7, 5, 0, 5, 3, 4, 5, 5, 5, 1, 9, 5, 8, 8, 8, 5, 9, 8, 8, 5, 5, 5, 8, 8, 0, 0, 6, 9, 8, 3, 3, 5, 5, 8, 5, 5, 5, 8, 8, 8, 5, 5, 8, 6, 2, 8, 8, 8, 3, 0, 6, 3, 8, 5, 2, 5, 5, 5, 5, 5, 5, 4, 2, 0, 8, 1, 0, 5, 7, 0, 8, 0, 9, 7, 0, 5, 8, 0, 5, 5, 2, 5, 5, 5, 5, 5, 8, 8, 5, 5, 5, 0, 6, 0, 5, 5, 5, 7, 5, 1, 5, 5, 0, 5, 8, 0, 0, 4, 5, 6, 5, 9, 4, 7, 5, 0, 0, 6, 8, 5, 0, 0, 4, 8, 8, 0, 9, 8, 5, 5, 5, 5, 5, 5, 2, 5, 8, 8, 5, 5, 8, 0, 3, 8, 8, 8, 8, 8, 0, 5, 5, 8, 5, 4, 8, 2, 4, 0, 0, 5, 5, 3, 2, 5, 8, 5, 5, 0, 6, 4, 5, 5, 3, 2, 5, 8, 7, 4, 8, 5, 5, 3, 8, 2, 8, 3, 3, 8, 0, 8, 8, 5, 4, 3, 3, 3, 8, 3, 2, 8, 5, 5, 2, 5, 8, 5, 5, 3, 1, 8, 6, 8, 6, 8, 2, 1, 8, 9, 3, 3, 3, 8, 8, 8, 0, 3, 8, 3, 5, 3, 5, 5, 0, 0, 5, 5, 3, 5, 8, 3, 9, 8, 5, 8, 8, 3, 5, 3, 0, 8, 0, 0, 2, 2, 3, 8, 8, 5, 8, 8, 5, 0, 5, 5, 5, 0, 5, 0, 5, 3, 8, 5, 0, 5, 5, 5, 8, 8, 8, 2, 5, 9, 3, 8, 8, 5, 3, 3, 8, 5, 8, 3, 8, 8, 8, 8, 8, 8, 3, 8, 4, 5, 4, 8, 3, 0, 5, 6, 8, 5, 0, 8, 4, 7, 3, 5, 8, 8, 8, 8, 3, 8, 8, 8, 8, 8, 6, 7, 0, 5, 0, 8, 1, 8, 5, 3, 8, 3, 5, 0, 5, 8, 5, 4, 5, 5, 0, 8, 8, 0, 8, 0, 8, 8, 6, 0, 8, 0, 8, 3, 8, 1, 8, 5, 0, 5, 8, 8, 8, 8, 8, 6, 8, 2, 2, 5, 8, 5, 9, 8, 8, 8, 8, 3, 0, 5, 5, 5, 8, 5, 8, 8, 5, 3, 8, 4, 8, 5, 5, 6, 2, 8, 2, 4, 3, 5, 3, 3, 8, 8, 5, 5, 8, 8, 8, 5, 3, 8, 0, 8, 8, 5, 1, 8, 8, 0, 2, 0, 8, 4, 5, 5, 8, 9, 2, 4, 5, 8, 5, 5, 8, 5, 2, 3, 5, 5, 8, 8, 5, 3, 5, 8, 5, 5, 8, 8, 8, 3, 5, 0, 0, 8, 8, 8, 8, 5, 5, 5, 8, 0, 5, 2, 8, 8, 5, 0, 5, 3, 8, 0, 0, 0, 8, 8, 2, 0, 5, 5, 3, 8, 8, 3, 2, 5, 3, 5, 5, 0, 3, 5, 8, 8, 8, 3, 3, 3, 3, 3, 3, 2, 3, 3, 8, 3, 3, 5, 1, 3, 3, 5, 3, 3, 3, 7, 3, 8, 3, 9, 2, 1, 5, 5, 8, 8, 5, 8, 8, 9, 5, 2, 3, 8, 8, 8, 8, 5, 5, 0, 5, 2, 4, 3, 2, 9, 8, 0, 8, 8, 8, 8, 8, 6, 3, 8, 5, 5, 0, 5, 5, 9, 3, 4, 9, 9, 5, 3, 5, 5, 3, 3, 8, 3, 2, 3, 5, 0, 8, 8, 3, 5, 3, 5, 3, 2, 8, 0, 3, 8, 5, 3, 2, 5, 8, 8, 8, 5, 5, 5, 0, 8, 2, 5, 5, 4, 3, 5, 8, 3, 0, 3, 5, 8, 8, 8, 8, 8, 0, 8, 8, 5, 5, 5, 2, 8, 8, 2, 5, 8, 5, 3, 5, 5, 2, 4, 2, 5, 8, 8, 5, 8, 8, 5, 8, 2, 2, 8, 3, 5, 4, 3, 8, 5, 5, 5, 0, 3, 3, 3, 8, 2, 8, 3, 8, 5, 5, 5, 8, 3, 3, 3, 8, 8, 5, 5, 0, 4, 8, 0, 8, 6, 5, 2, 5, 8, 5, 5, 5, 6, 5, 5, 5, 6, 5, 8, 0, 6, 5, 2, 2, 8, 6, 8, 8, 6, 8, 8, 5, 2, 5, 5, 5, 8, 5, 3, 8, 5, 8, 8, 5, 5, 7, 2, 8, 6, 8, 3, 3, 8, 7, 8, 5, 8, 8, 8, 9, 3, 8, 5, 5, 5, 8, 0, 8, 3, 5, 3, 3, 8, 8, 8, 8, 0, 5, 2, 5, 8, 8, 3, 0, 8, 8, 1, 5, 5, 5, 5, 5, 5, 5, 0, 8, 5, 5, 0, 5, 8, 5, 8, 8, 0, 8, 5, 0, 5, 8, 8, 5, 8, 5, 8, 8, 5, 5, 0, 0, 5, 5, 0, 8, 5, 5, 5, 5, 5, 5, 5, 8, 6, 8, 5, 8, 0, 8, 8, 5, 5, 5, 5, 5, 8, 5, 5, 8, 5, 2, 6, 8, 3, 8, 8, 8, 5, 5, 3, 3, 3, 3, 3, 3, 3, 8, 5, 8, 8, 8, 2, 3, 5, 5, 5, 8, 5, 8, 5, 5, 8, 3, 3, 3, 6, 9, 8, 2, 4, 8, 3, 5, 3, 8, 2, 2, 0, 2, 5, 5, 5, 5, 0, 8, 5, 0, 8, 8, 8, 8, 8, 8, 8, 5, 5, 5, 5, 8, 8, 0, 5, 2, 5, 5, 5, 8, 5, 8, 0, 3, 8, 3, 0, 2, 0, 8, 5, 5, 5, 5, 8, 8, 2, 0, 5, 5, 5, 0, 8, 5, 5, 8, 5, 5, 2, 8, 5, 2, 8, 4, 5, 0, 5, 5, 0, 5, 3, 5, 8, 9, 5, 8, 0, 3, 3, 8, 5, 5, 3, 8, 8, 3, 3, 2, 6, 5, 8, 5, 5, 5, 8, 8, 3, 8, 8, 4, 3, 8, 8, 8, 5, 2, 5, 5, 8, 2, 3, 8, 3, 8, 6, 5, 3, 0, 8, 5, 5, 0, 2, 8, 5, 8, 5, 8, 5, 8, 8, 3, 5, 5, 5, 8, 5, 5, 8, 8, 3, 5, 5, 8, 3, 3, 8, 0, 8, 3, 5, 2, 8, 8, 5, 8, 5, 8, 8, 8, 4, 2, 5, 8, 5, 0, 8, 5, 8, 0, 8, 9, 2, 5, 8, 0, 8, 2, 2, 3, 0, 3, 8, 3, 3, 5, 8, 5, 8, 6, 8, 8, 8, 6, 5, 5, 5, 3, 3, 3, 8, 2, 4, 8, 3, 3, 4, 0, 3, 5, 5, 3, 2, 0, 0, 2, 3, 3, 1, 4, 6, 5, 8, 2, 8, 5, 5, 5, 8, 5, 8, 8, 8, 2, 8, 3, 5, 5, 3, 8, 8, 5, 6, 9, 6, 5, 5, 5, 0, 5, 7, 3, 8, 6, 2, 0, 5, 0, 8, 2, 4, 6, 2, 5, 8, 5, 8, 8, 5, 0, 0, 5, 2, 5, 3, 3, 5, 5, 3, 8, 4, 8, 5, 8, 0, 8, 8, 8, 5, 5, 8, 3, 2, 8, 5, 5, 4, 5, 0, 8, 8, 5, 5, 6, 8, 3, 2, 3, 3, 8, 3, 5, 5, 5, 8, 3, 3, 7, 3, 3, 7, 3, 3, 3, 3, 9, 1, 3, 9, 7, 4, 4, 7, 7, 7, 7, 2, 7, 3, 3, 3, 9, 0, 0, 3, 1, 1, 9, 3, 3, 7, 5, 3, 2, 3, 3, 8, 3, 5, 3, 5, 9, 7, 8, 2, 3, 7, 7, 7, 7, 9, 3, 3, 3, 7, 7, 3, 3, 9, 7, 4, 4, 9, 5, 9, 7, 1, 7, 7, 7, 7, 3, 9, 8, 3, 3, 2, 9, 9, 8, 5, 0, 2, 9, 9, 9, 7, 9, 7, 9, 3, 3, 5, 5, 5, 3, 3, 4, 7, 7, 7, 9, 3, 9, 9, 7, 3, 7, 7, 9, 6, 7, 2, 7, 3, 1, 9, 1, 9, 0, 3, 3, 5, 7, 7, 3, 8, 9, 2, 1, 1, 9, 3, 9, 0, 3, 7, 7, 1, 0, 9, 0, 9, 0, 0, 3, 8, 3, 3, 7, 0, 9, 0, 3, 3, 9, 8, 9, 9, 9, 9, 8, 9, 3, 3, 3, 7, 9, 2, 0, 3, 3, 3, 4, 4, 7, 8, 9, 8, 8, 9, 9, 8, 9, 9, 3, 0, 5, 9, 3, 3, 8, 3, 2, 3, 3, 8, 3, 7, 7, 7, 7, 7, 7, 7, 7, 5, 4, 0, 8, 4, 9, 5, 8, 8, 7, 9, 9, 8, 9, 9, 7, 5, 8, 3, 3, 4, 9, 7, 8, 9, 3, 2, 3, 9, 2, 7, 7, 9, 4, 7, 9, 7, 2, 2, 9, 7, 9, 4, 3, 3, 9, 3, 3, 7, 3, 1, 4, 9, 4, 9, 7, 9, 5, 7, 3, 1, 3, 9, 3, 9, 9, 9, 7, 9, 7, 9, 1, 2, 7, 7, 9, 8, 9, 3, 0, 9, 9, 7, 7, 4, 5, 4, 3, 3, 3, 0, 7, 8, 8, 3, 3, 3, 3, 7, 0, 3, 3, 7, 3, 9, 1, 7, 9, 7, 7, 9, 8, 5, 3, 2, 2, 3, 9, 3, 3, 7, 9, 4, 7, 3, 3, 7, 9, 7, 3, 0, 3, 7, 7, 9, 4, 7, 9, 9, 8, 3, 7, 7, 7, 9, 9, 8, 9, 4, 3, 4, 2, 3, 9, 3, 1, 3, 3, 3, 4, 4, 9, 2, 2, 0, 3, 3, 9, 8, 8, 4, 4, 9, 7, 9, 9, 3, 9, 1, 9, 7, 7, 7, 7, 7, 3, 9, 3, 8, 4, 4, 4, 0, 4, 2, 9, 9, 9, 7, 4, 3, 9, 3, 9, 4, 7, 3, 4, 9, 4, 7, 9, 1, 9, 3, 8, 8, 8, 9, 9, 4, 3, 1, 7, 9, 4, 7, 5, 5, 4, 3, 3, 7, 7, 7, 0, 3, 3, 9, 1, 9, 7, 7, 3, 7, 9, 1, 3, 3, 9, 9, 9, 9, 2, 6, 9, 3, 3, 3, 7, 4, 7, 8, 7, 9, 9, 7, 4, 9, 9, 7, 3, 7, 7, 3, 3, 3, 7, 5, 2, 9, 7, 7, 3, 3, 1, 7, 9, 2, 3, 7, 9, 1, 0, 1, 3, 3, 9, 9, 7, 9, 8, 9, 8, 7, 3, 3, 9, 3, 3, 1, 1, 9, 3, 3, 9, 2, 9, 9, 2, 7, 3, 3, 2, 2, 2, 4, 8, 9, 7, 7, 2, 0, 9, 3, 3, 3, 2, 2, 7, 2, 7, 7, 3, 2, 3, 9, 2, 0, 0, 7, 5, 7, 3, 7, 3, 2, 5, 5, 7, 9, 4, 8, 8, 9, 9, 3, 3, 3, 3, 4, 9, 3, 1, 4, 1, 4, 3, 3, 3, 3, 7, 9, 7, 9, 2, 7, 3, 4, 1, 8, 8, 3, 7, 4, 8, 7, 4, 4, 7, 9, 7, 1, 9, 1, 9, 7, 9, 6, 7, 5, 0, 0, 8, 9, 7, 7, 7, 7, 1, 8, 7, 9, 7, 4, 9, 3, 9, 9, 7, 2, 2, 2, 3, 9, 3, 3, 2, 2, 9, 0, 0, 7, 9, 9, 9, 7, 4, 8, 8, 3, 4, 3, 9, 9, 3, 9, 2, 3, 2, 7, 4, 9, 9, 9, 7, 0, 4, 9, 9, 7, 3, 7, 9, 3, 7, 3, 3, 3, 7, 4, 5, 3, 7, 9, 9, 7, 7, 4, 3, 7, 9, 2, 0, 2, 4, 0, 7, 7, 3, 3, 0, 0, 3, 2, 1, 9, 9, 7, 1, 9, 8, 8, 1, 9, 7, 3, 9, 3, 7, 8, 8, 7, 9, 4, 9, 9, 4, 0, 3, 7, 4, 7, 3, 3, 3, 7, 9, 2, 6, 1, 9, 1, 9, 7, 7, 3, 9, 2, 4, 9, 3, 9, 8, 9, 3, 1, 2, 7, 8, 9, 1, 7, 1, 8, 8, 4, 9, 4, 9, 7, 3, 2, 7, 9, 8, 2, 7, 9, 2, 0, 4, 5, 3, 5, 8, 7, 8, 7, 8, 8, 0, 8, 5, 8, 9, 7, 7, 9, 7, 2, 9, 8, 4, 7, 2, 7, 1, 9, 3, 4, 7, 8, 1, 9, 6, 3, 7, 3, 3, 2, 3, 7, 8, 6, 4, 4, 2, 3, 4, 9, 9, 9, 9, 7, 0, 1, 7, 7, 7, 3, 3, 3, 0, 9, 7, 9, 7, 9, 0, 5, 9, 7, 9, 9, 3, 3, 3, 7, 7, 3, 9, 4, 2, 9, 3, 7, 3, 8, 9, 4, 4, 8, 9, 8, 9, 8, 8, 9, 0, 4, 9, 3, 7, 3, 9, 4, 7, 3, 2, 7, 6, 5, 9, 1, 5, 8, 3, 2, 7, 9, 7, 1, 7, 5, 7, 9, 3, 9, 7, 1, 1, 3, 1, 8, 7, 7, 8, 9, 9, 7, 4, 8, 9, 3, 7, 9, 5, 9, 1, 7, 7, 7, 3, 7, 4, 8, 5, 8, 5, 9, 7, 7, 9, 4, 9, 3, 4, 9, 3, 9, 3, 8, 3, 6, 1, 3, 7, 7, 9, 3, 3, 3, 4, 4, 8, 8, 9, 5, 9, 9, 8, 8, 7, 5, 7, 7, 0, 3, 0, 7, 7, 9, 1, 9, 9, 3, 9, 9, 9, 1, 8, 9, 5, 0, 9, 7, 7, 3, 3, 9, 4, 9, 8, 9, 9, 5, 0, 5, 7, 4, 9, 4, 7, 7, 2, 9, 2, 9, 9, 4, 4, 9, 9, 2, 8, 3, 8, 7, 9, 3, 7, 9, 7, 3, 9, 7, 7, 7, 9, 7, 9, 9, 2, 9, 9, 9, 0, 8, 0, 2, 7, 1, 7, 7, 9, 9, 7, 9, 7, 9, 7, 4, 7, 9, 7, 3, 3, 8, 5, 8, 8, 9, 9, 8, 0, 4, 8, 3, 3, 3, 9, 9, 0, 9, 7, 7, 3, 7, 9, 7, 3, 9, 1, 3, 4, 7, 7, 7, 9, 7, 4, 8, 9, 9, 7, 7, 7, 3, 7, 3, 7, 1, 3, 9, 7, 7, 1, 9, 4, 9, 7, 7, 3, 7, 7, 4, 4, 5, 9, 8, 8, 5, 7, 3, 1, 8, 9, 9, 7, 7, 7, 0, 8, 7, 7, 7, 8, 7, 8, 9, 4, 1, 9, 9, 3, 9, 4, 3, 8, 8, 8, 7, 3, 0, 8, 8, 3, 4, 4, 9, 9, 8, 8, 8, 5, 1, 8, 9, 7, 3, 3, 3, 9, 0, 7, 3, 9, 7, 3, 7, 7, 7, 8, 9, 3, 9, 9, 3, 5, 7, 8, 8, 4, 9, 1, 1, 2, 0, 0, 8, 9, 4, 4, 2, 8, 8, 8, 7, 4, 4, 7, 3, 9, 9, 8, 9, 5, 8, 5, 7, 3, 4, 5, 4, 8, 3, 7, 3, 9, 9, 7, 0, 2, 0, 3, 3, 7, 4, 3, 3, 2, 9, 1, 3, 1, 7, 1, 1, 1, 8, 7, 3, 9, 7, 7, 3, 7, 3, 3, 5, 7, 7, 3, 9, 7, 9, 8, 9, 8, 8, 2, 9, 9, 7, 1, 9, 3, 3, 3, 3, 3, 2, 3, 9, 9, 3, 2, 9, 9, 9, 7, 9, 7, 2, 4, 4, 3, 9, 4, 1, 9, 7, 7, 7, 4, 7, 9, 7, 9, 8, 7, 9, 9, 9, 7, 4, 7, 8, 4, 8, 4, 3, 7, 2, 2, 7, 1, 9, 7, 4, 9, 9, 7, 9, 3, 9, 7, 4, 4, 9, 7, 9, 7, 3, 4, 4, 4, 9, 3, 7, 9, 1, 7, 0, 0, 3, 3, 3, 3, 7, 1, 2, 3, 3, 3, 9, 2, 9, 9, 7, 7, 3, 2, 9, 4, 9, 8, 1, 9, 9, 3, 2, 2, 7, 3, 2, 3, 9, 3, 1, 3, 0, 5, 4, 7, 7, 3, 7, 4, 4, 4, 9, 2, 2, 2, 5, 3, 3, 3, 7, 9, 7, 9, 4, 5, 4, 8, 9, 3, 3, 8, 8, 3, 8, 8, 8, 8, 9, 7, 7, 7, 4, 7, 4, 3, 7, 7, 9, 8, 8, 4, 3, 2, 3, 9, 9, 7, 7, 9, 7, 8, 9, 3, 3, 0, 0, 9, 9, 8, 9, 9, 7, 3, 3, 3, 3, 9, 3, 8, 8, 7, 8, 8, 9, 3, 7, 7, 7, 1, 3, 9, 1, 9, 9, 3, 3, 4, 3, 7, 2, 7, 7, 1, 1, 3, 2, 5, 7, 7, 7, 4, 9, 2, 9, 9, 3, 0, 2, 9, 9, 8, 9, 8, 4, 1, 4, 9, 4, 2, 5, 3, 1, 3, 3, 4, 7, 4, 9, 1, 9, 7, 7, 3, 7, 9, 7, 3, 3, 4, 8, 9, 4, 9, 9, 7, 7, 8, 3, 8, 7, 4, 7, 2, 4, 7, 6, 3, 9, 4, 9, 8, 4, 9, 7, 8, 9, 7, 7, 7, 7, 8, 5, 7, 4, 4, 8, 4, 8, 6, 4, 4, 7, 8, 4, 7, 7, 7, 9, 9, 9, 8, 0, 8, 7, 4, 9, 9, 8, 4, 4, 1, 8, 8, 8, 8, 8, 8, 3, 3, 9, 9, 1, 3, 4, 8, 5, 1, 3, 7, 7, 7, 7, 3, 3, 4, 3, 4, 0, 2, 8, 9, 2, 4, 9, 2, 9, 3, 7, 7, 3, 3, 4, 2, 4, 7, 3, 3, 3, 3, 3, 3, 9, 7, 9, 8, 5, 1, 8, 7, 9, 9, 3, 4, 9, 7, 4, 4, 9, 8, 7, 2, 9, 9, 9, 1, 2, 4, 8, 9, 9, 8, 1, 1, 1, 9, 8, 3, 9, 0, 4, 4, 8, 7, 3, 3, 3, 3, 9, 2, 3, 3, 3, 3, 0, 3, 7, 3, 4, 9, 4, 9, 9, 7, 9, 7, 7, 7, 9, 4, 9, 9, 7, 3, 7, 3, 3, 9, 0, 9, 7, 2, 9, 8, 8, 7, 3, 3, 0, 3, 2, 8, 1, 7, 9, 9, 9, 3, 3, 1, 7, 5, 3, 2, 9, 7, 2, 7, 7, 3, 9, 7, 3, 3, 3, 8, 9, 3, 3, 0, 4, 1, 1, 3, 7, 4, 7, 2, 7, 7, 3, 7, 8, 1, 1, 1, 9, 9, 8, 8, 5, 8, 3, 0, 8, 4, 8, 7, 4, 7, 9, 4, 3, 9, 7, 3, 9, 9, 7, 3, 9, 3, 3, 3, 7, 8, 9, 1, 7, 2, 3, 9, 7, 4, 8, 0, 5, 7, 4, 1, 1, 1, 7, 9, 9, 9, 3, 2, 8, 4, 9, 4, 9, 9, 2, 1, 7, 7, 7, 1, 9, 7, 1, 7, 9, 4, 9, 2, 7, 8, 8, 0, 1, 7, 7, 9, 3, 9, 3, 7, 3, 3, 1, 3, 3, 3, 2, 4, 2, 3, 9, 8, 4, 7, 9, 3, 7, 2, 9, 3, 7, 0, 5, 7, 4, 5, 3, 1, 1, 3, 7, 9, 1, 8, 8, 9, 9, 9, 8, 7, 1, 7, 7, 7, 8, 4, 1, 3, 3, 3, 9, 7, 9, 7, 7, 9, 9, 9, 4, 7, 3, 3, 9, 8, 8, 9, 8, 9, 9, 7, 7, 0, 3, 4, 9, 3, 9, 9, 3, 0, 9, 7, 8, 8, 9, 9, 1, 5, 8, 7, 4, 9, 9, 7, 9, 8, 2, 7, 3, 3, 9, 4, 3, 3, 7, 7, 1, 9, 9, 3, 3]\n",
      "USPS EnsembleAccuracy:  0.4990749537476874\n"
     ]
    }
   ],
   "source": [
    "# Confusion matrix of usps data using the model trained on MNIST data using Ensmeble Classifier\n",
    "EnsembleAccuracyUSPS, ensembleUSPS = ensembleClassifier(np.array(USPSTar), PredictedTargetTestLogUSPS, predicted_training_target_USPS_RFC, predicted_training_target_USPS,PredictedTargetValuesNNUSPS)\n",
    "print('USPS EnsembleAccuracy: ', EnsembleAccuracyUSPS)"
   ]
  },
  {
   "cell_type": "code",
   "execution_count": 120,
   "metadata": {},
   "outputs": [
    {
     "name": "stdout",
     "output_type": "stream",
     "text": [
      "[[1105    4  211   42  205  124   41   35   18  215]\n",
      " [  61  617  216  316  113  101   18  505   42   11]\n",
      " [ 100   33 1411  184   28  131   45   35   26    6]\n",
      " [  41   12  117 1543    3  218   10   23   22   11]\n",
      " [  94   41   53   41 1218  133   24  201   84  111]\n",
      " [ 138    9  147  230   26 1335   37   22   32   24]\n",
      " [ 124   14  317   93   70  207 1134    5   18   18]\n",
      " [  90  176  193  437   42  165    3  597  226   71]\n",
      " [ 198   21  116  277   66  590   73   37  572   50]\n",
      " [  75  109  110  392  179   62   10  420  194  449]]\n"
     ]
    },
    {
     "data": {
      "text/plain": [
       "<matplotlib.colorbar.Colorbar at 0x1dc8e19ca20>"
      ]
     },
     "execution_count": 120,
     "metadata": {},
     "output_type": "execute_result"
    },
    {
     "data": {
      "image/png": "[encoded data removed]",
      "text/plain": [
       "<Figure size 288x288 with 2 Axes>"
      ]
     },
     "metadata": {},
     "output_type": "display_data"
    }
   ],
   "source": [
    "m = confusion_matrix(USPSTar,ensembleUSPS) \n",
    "print(m)\n",
    "plt.matshow(m)\n",
    "plt.colorbar()"
   ]
  },
  {
   "cell_type": "code",
   "execution_count": 36,
   "metadata": {},
   "outputs": [
    {
     "name": "stdout",
     "output_type": "stream",
     "text": [
      "Train on 45000 samples, validate on 5000 samples\n",
      "Epoch 1/1\n",
      "45000/45000 [==============================] - 1131s 25ms/step - loss: 2.2846 - acc: 0.1652 - val_loss: 2.2542 - val_acc: 0.2892\n",
      "Test loss: 2.2533906925201417\n",
      "Test accuracy: 0.2896\n"
     ]
    }
   ],
   "source": [
    "#Convolution Neural Network for MNIST data \n",
    "#Used only one epoch because even one epoch is taking more than 1 hour\n",
    "# Hence did not tune hyper parameter\n",
    "from keras.layers import Dense, Dropout, Activation, Flatten\n",
    "from keras.layers import Conv2D, MaxPooling2D\n",
    "num_classes=10\n",
    "image_vector_size=(28,28,1)\n",
    "x_train = MNIST_training_data.reshape(MNIST_training_data.shape[0], 28,28,1) \n",
    "x_test = MNIST_test_data.reshape(MNIST_test_data.shape[0], 28,28,1) \n",
    "y_train = keras.utils.to_categorical(MNIST_training_target, num_classes)\n",
    "y_test = keras.utils.to_categorical(MNIST_test_target, num_classes)\n",
    "\n",
    "image_size = 784 \n",
    "model = Sequential()\n",
    "model.add(Conv2D(32, kernel_size=(5, 5), strides=(1, 1), activation='relu',input_shape=(28,28,1)))\n",
    "model.add(MaxPooling2D(pool_size=(2, 2), strides=(2, 2)))\n",
    "model.add(Conv2D(64, (5, 5), activation='relu'))\n",
    "model.add(MaxPooling2D(pool_size=(2, 2)))\n",
    "model.add(Flatten())\n",
    "model.add(Dense(1000, activation='relu'))\n",
    "model.add(Dense(num_classes, activation='softmax'))\n",
    "model.compile(optimizer='sgd', loss='categorical_crossentropy',metrics=['accuracy'])\n",
    "model.fit(x_train, y_train,batch_size=1024,epochs=1, verbose= True , validation_split=.1)\n",
    "score = model.evaluate(x_test, y_test, verbose=0)\n",
    "print('Test loss:', score[0])\n",
    "print('Test accuracy:', score[1])"
   ]
  },
  {
   "cell_type": "code",
   "execution_count": null,
   "metadata": {},
   "outputs": [],
   "source": []
  }
 ],
 "metadata": {
  "kernelspec": {
   "display_name": "Python 3",
   "language": "python",
   "name": "python3"
  },
  "language_info": {
   "codemirror_mode": {
    "name": "ipython",
    "version": 3
   },
   "file_extension": ".py",
   "mimetype": "text/x-python",
   "name": "python",
   "nbconvert_exporter": "python",
   "pygments_lexer": "ipython3",
   "version": "3.6.5"
  }
 },
 "nbformat": 4,
 "nbformat_minor": 2
}
